{
 "cells": [
  {
   "cell_type": "markdown",
   "metadata": {},
   "source": [
    "# Assignment 9: Multiple regression\n",
    "\n",
    "### Learning Outcomes\n",
    "This assignment introduces you to multiple regression analysis, model comparision between different multiple regression models and bootstrap for regression models. \n",
    "### Data set \n",
    "An investigator is interested in understanding the relationship, if any, between the analytical skills of young gifted children and the following variables: father’s IQ, mother’s IQ, age in month when the child first said ‘mummy’ or ‘daddy’, age in month when the child first counted to 10 successfully, average number of hours per week the child’s mother or father reads to the child, average number of hours per week the child watched an educational program on TV during the past three months, average number of hours per week the child watched cartoons on TV during the past three months. \n",
    "\n",
    "The analytical skills are evaluated using a standard testing procedure, and the score on this test is used as the response variable. Data were collected from schools in a large city on a set of thirty-six children who were identified as gifted children soon after they reached the age of four.\n",
    " \n",
    "The data frame stored in gifted.csv contains the variables: \n",
    "- score:       Score in test of analytical skills.\n",
    "- fatheriq:    Father’s IQ.\n",
    "- motheriq:  Mother’s IQ.\n",
    "- speak:       Age in months when the child first said ‘mummy’ or ‘daddy’.\n",
    "- count:       Age in months when the child first counted to 10 successfully.\n",
    "- read:         Average number of hours per week the child’s mother or father reads to the child.\n",
    "- edutv:       Average number of hours per week the child watched an educational program on TV during the past three months.\n",
    "- cartoons:  Average number of hours per week the child watched cartoons on TV during the past three months.\n",
    "\n",
    "### Preliminaries\n",
    "Set up the environment by importing pandas, numpy, and matplotlib, scipy.optimize. This is already done in the preliminaries. Ensure that you have fully mastered and understood HW7 before starting the assignment. \n"
   ]
  },
  {
   "cell_type": "code",
   "execution_count": 1,
   "metadata": {},
   "outputs": [
    {
     "data": {
      "text/html": [
       "<div>\n",
       "<style scoped>\n",
       "    .dataframe tbody tr th:only-of-type {\n",
       "        vertical-align: middle;\n",
       "    }\n",
       "\n",
       "    .dataframe tbody tr th {\n",
       "        vertical-align: top;\n",
       "    }\n",
       "\n",
       "    .dataframe thead th {\n",
       "        text-align: right;\n",
       "    }\n",
       "</style>\n",
       "<table border=\"1\" class=\"dataframe\">\n",
       "  <thead>\n",
       "    <tr style=\"text-align: right;\">\n",
       "      <th></th>\n",
       "      <th>score</th>\n",
       "      <th>fatheriq</th>\n",
       "      <th>motheriq</th>\n",
       "      <th>speak</th>\n",
       "      <th>count</th>\n",
       "      <th>read</th>\n",
       "      <th>edutv</th>\n",
       "      <th>cartoons</th>\n",
       "    </tr>\n",
       "  </thead>\n",
       "  <tbody>\n",
       "    <tr>\n",
       "      <th>0</th>\n",
       "      <td>159</td>\n",
       "      <td>115</td>\n",
       "      <td>117</td>\n",
       "      <td>18</td>\n",
       "      <td>26</td>\n",
       "      <td>1.9</td>\n",
       "      <td>3.00</td>\n",
       "      <td>2.00</td>\n",
       "    </tr>\n",
       "    <tr>\n",
       "      <th>1</th>\n",
       "      <td>164</td>\n",
       "      <td>117</td>\n",
       "      <td>113</td>\n",
       "      <td>20</td>\n",
       "      <td>37</td>\n",
       "      <td>2.5</td>\n",
       "      <td>1.75</td>\n",
       "      <td>3.25</td>\n",
       "    </tr>\n",
       "    <tr>\n",
       "      <th>2</th>\n",
       "      <td>154</td>\n",
       "      <td>115</td>\n",
       "      <td>118</td>\n",
       "      <td>20</td>\n",
       "      <td>32</td>\n",
       "      <td>2.2</td>\n",
       "      <td>2.75</td>\n",
       "      <td>2.50</td>\n",
       "    </tr>\n",
       "    <tr>\n",
       "      <th>3</th>\n",
       "      <td>157</td>\n",
       "      <td>113</td>\n",
       "      <td>131</td>\n",
       "      <td>12</td>\n",
       "      <td>24</td>\n",
       "      <td>1.7</td>\n",
       "      <td>2.75</td>\n",
       "      <td>2.25</td>\n",
       "    </tr>\n",
       "    <tr>\n",
       "      <th>4</th>\n",
       "      <td>156</td>\n",
       "      <td>110</td>\n",
       "      <td>109</td>\n",
       "      <td>17</td>\n",
       "      <td>34</td>\n",
       "      <td>2.2</td>\n",
       "      <td>2.25</td>\n",
       "      <td>2.50</td>\n",
       "    </tr>\n",
       "    <tr>\n",
       "      <th>5</th>\n",
       "      <td>150</td>\n",
       "      <td>113</td>\n",
       "      <td>109</td>\n",
       "      <td>13</td>\n",
       "      <td>28</td>\n",
       "      <td>1.9</td>\n",
       "      <td>1.25</td>\n",
       "      <td>3.75</td>\n",
       "    </tr>\n",
       "    <tr>\n",
       "      <th>6</th>\n",
       "      <td>155</td>\n",
       "      <td>118</td>\n",
       "      <td>119</td>\n",
       "      <td>19</td>\n",
       "      <td>24</td>\n",
       "      <td>1.8</td>\n",
       "      <td>2.00</td>\n",
       "      <td>3.00</td>\n",
       "    </tr>\n",
       "    <tr>\n",
       "      <th>7</th>\n",
       "      <td>161</td>\n",
       "      <td>117</td>\n",
       "      <td>120</td>\n",
       "      <td>18</td>\n",
       "      <td>32</td>\n",
       "      <td>2.3</td>\n",
       "      <td>2.25</td>\n",
       "      <td>2.50</td>\n",
       "    </tr>\n",
       "    <tr>\n",
       "      <th>8</th>\n",
       "      <td>163</td>\n",
       "      <td>111</td>\n",
       "      <td>128</td>\n",
       "      <td>22</td>\n",
       "      <td>28</td>\n",
       "      <td>2.1</td>\n",
       "      <td>1.00</td>\n",
       "      <td>4.00</td>\n",
       "    </tr>\n",
       "    <tr>\n",
       "      <th>9</th>\n",
       "      <td>162</td>\n",
       "      <td>122</td>\n",
       "      <td>120</td>\n",
       "      <td>18</td>\n",
       "      <td>27</td>\n",
       "      <td>2.1</td>\n",
       "      <td>2.25</td>\n",
       "      <td>2.75</td>\n",
       "    </tr>\n",
       "    <tr>\n",
       "      <th>10</th>\n",
       "      <td>154</td>\n",
       "      <td>111</td>\n",
       "      <td>117</td>\n",
       "      <td>19</td>\n",
       "      <td>32</td>\n",
       "      <td>2.2</td>\n",
       "      <td>1.75</td>\n",
       "      <td>3.75</td>\n",
       "    </tr>\n",
       "    <tr>\n",
       "      <th>11</th>\n",
       "      <td>159</td>\n",
       "      <td>112</td>\n",
       "      <td>120</td>\n",
       "      <td>20</td>\n",
       "      <td>33</td>\n",
       "      <td>2.3</td>\n",
       "      <td>2.00</td>\n",
       "      <td>2.75</td>\n",
       "    </tr>\n",
       "    <tr>\n",
       "      <th>12</th>\n",
       "      <td>167</td>\n",
       "      <td>119</td>\n",
       "      <td>126</td>\n",
       "      <td>20</td>\n",
       "      <td>35</td>\n",
       "      <td>2.2</td>\n",
       "      <td>0.75</td>\n",
       "      <td>4.00</td>\n",
       "    </tr>\n",
       "    <tr>\n",
       "      <th>13</th>\n",
       "      <td>155</td>\n",
       "      <td>120</td>\n",
       "      <td>114</td>\n",
       "      <td>22</td>\n",
       "      <td>21</td>\n",
       "      <td>1.7</td>\n",
       "      <td>2.50</td>\n",
       "      <td>2.50</td>\n",
       "    </tr>\n",
       "    <tr>\n",
       "      <th>14</th>\n",
       "      <td>159</td>\n",
       "      <td>114</td>\n",
       "      <td>129</td>\n",
       "      <td>17</td>\n",
       "      <td>27</td>\n",
       "      <td>1.8</td>\n",
       "      <td>1.50</td>\n",
       "      <td>3.75</td>\n",
       "    </tr>\n",
       "    <tr>\n",
       "      <th>15</th>\n",
       "      <td>159</td>\n",
       "      <td>111</td>\n",
       "      <td>118</td>\n",
       "      <td>18</td>\n",
       "      <td>29</td>\n",
       "      <td>2.0</td>\n",
       "      <td>1.75</td>\n",
       "      <td>3.25</td>\n",
       "    </tr>\n",
       "    <tr>\n",
       "      <th>16</th>\n",
       "      <td>160</td>\n",
       "      <td>111</td>\n",
       "      <td>115</td>\n",
       "      <td>21</td>\n",
       "      <td>32</td>\n",
       "      <td>2.3</td>\n",
       "      <td>1.75</td>\n",
       "      <td>3.25</td>\n",
       "    </tr>\n",
       "    <tr>\n",
       "      <th>17</th>\n",
       "      <td>154</td>\n",
       "      <td>115</td>\n",
       "      <td>111</td>\n",
       "      <td>18</td>\n",
       "      <td>32</td>\n",
       "      <td>2.2</td>\n",
       "      <td>2.00</td>\n",
       "      <td>3.00</td>\n",
       "    </tr>\n",
       "    <tr>\n",
       "      <th>18</th>\n",
       "      <td>160</td>\n",
       "      <td>126</td>\n",
       "      <td>111</td>\n",
       "      <td>12</td>\n",
       "      <td>35</td>\n",
       "      <td>2.2</td>\n",
       "      <td>2.75</td>\n",
       "      <td>1.75</td>\n",
       "    </tr>\n",
       "    <tr>\n",
       "      <th>19</th>\n",
       "      <td>151</td>\n",
       "      <td>115</td>\n",
       "      <td>109</td>\n",
       "      <td>21</td>\n",
       "      <td>29</td>\n",
       "      <td>2.0</td>\n",
       "      <td>2.00</td>\n",
       "      <td>2.75</td>\n",
       "    </tr>\n",
       "    <tr>\n",
       "      <th>20</th>\n",
       "      <td>166</td>\n",
       "      <td>114</td>\n",
       "      <td>124</td>\n",
       "      <td>15</td>\n",
       "      <td>39</td>\n",
       "      <td>2.4</td>\n",
       "      <td>2.00</td>\n",
       "      <td>2.75</td>\n",
       "    </tr>\n",
       "    <tr>\n",
       "      <th>21</th>\n",
       "      <td>161</td>\n",
       "      <td>115</td>\n",
       "      <td>122</td>\n",
       "      <td>20</td>\n",
       "      <td>30</td>\n",
       "      <td>2.1</td>\n",
       "      <td>2.00</td>\n",
       "      <td>3.50</td>\n",
       "    </tr>\n",
       "    <tr>\n",
       "      <th>22</th>\n",
       "      <td>162</td>\n",
       "      <td>115</td>\n",
       "      <td>118</td>\n",
       "      <td>15</td>\n",
       "      <td>33</td>\n",
       "      <td>2.3</td>\n",
       "      <td>2.25</td>\n",
       "      <td>2.75</td>\n",
       "    </tr>\n",
       "    <tr>\n",
       "      <th>23</th>\n",
       "      <td>169</td>\n",
       "      <td>112</td>\n",
       "      <td>121</td>\n",
       "      <td>23</td>\n",
       "      <td>36</td>\n",
       "      <td>2.3</td>\n",
       "      <td>2.00</td>\n",
       "      <td>2.75</td>\n",
       "    </tr>\n",
       "    <tr>\n",
       "      <th>24</th>\n",
       "      <td>160</td>\n",
       "      <td>115</td>\n",
       "      <td>124</td>\n",
       "      <td>18</td>\n",
       "      <td>35</td>\n",
       "      <td>2.3</td>\n",
       "      <td>2.00</td>\n",
       "      <td>3.50</td>\n",
       "    </tr>\n",
       "    <tr>\n",
       "      <th>25</th>\n",
       "      <td>161</td>\n",
       "      <td>117</td>\n",
       "      <td>118</td>\n",
       "      <td>20</td>\n",
       "      <td>31</td>\n",
       "      <td>2.3</td>\n",
       "      <td>2.00</td>\n",
       "      <td>3.00</td>\n",
       "    </tr>\n",
       "    <tr>\n",
       "      <th>26</th>\n",
       "      <td>166</td>\n",
       "      <td>116</td>\n",
       "      <td>128</td>\n",
       "      <td>17</td>\n",
       "      <td>36</td>\n",
       "      <td>2.4</td>\n",
       "      <td>1.25</td>\n",
       "      <td>3.75</td>\n",
       "    </tr>\n",
       "    <tr>\n",
       "      <th>27</th>\n",
       "      <td>163</td>\n",
       "      <td>114</td>\n",
       "      <td>119</td>\n",
       "      <td>22</td>\n",
       "      <td>36</td>\n",
       "      <td>2.4</td>\n",
       "      <td>2.25</td>\n",
       "      <td>2.75</td>\n",
       "    </tr>\n",
       "    <tr>\n",
       "      <th>28</th>\n",
       "      <td>159</td>\n",
       "      <td>116</td>\n",
       "      <td>123</td>\n",
       "      <td>15</td>\n",
       "      <td>24</td>\n",
       "      <td>1.8</td>\n",
       "      <td>1.50</td>\n",
       "      <td>3.50</td>\n",
       "    </tr>\n",
       "    <tr>\n",
       "      <th>29</th>\n",
       "      <td>155</td>\n",
       "      <td>111</td>\n",
       "      <td>117</td>\n",
       "      <td>13</td>\n",
       "      <td>29</td>\n",
       "      <td>2.1</td>\n",
       "      <td>1.75</td>\n",
       "      <td>3.50</td>\n",
       "    </tr>\n",
       "    <tr>\n",
       "      <th>30</th>\n",
       "      <td>155</td>\n",
       "      <td>112</td>\n",
       "      <td>117</td>\n",
       "      <td>17</td>\n",
       "      <td>25</td>\n",
       "      <td>2.0</td>\n",
       "      <td>2.75</td>\n",
       "      <td>2.25</td>\n",
       "    </tr>\n",
       "    <tr>\n",
       "      <th>31</th>\n",
       "      <td>157</td>\n",
       "      <td>115</td>\n",
       "      <td>111</td>\n",
       "      <td>10</td>\n",
       "      <td>31</td>\n",
       "      <td>2.2</td>\n",
       "      <td>1.75</td>\n",
       "      <td>3.50</td>\n",
       "    </tr>\n",
       "    <tr>\n",
       "      <th>32</th>\n",
       "      <td>151</td>\n",
       "      <td>111</td>\n",
       "      <td>101</td>\n",
       "      <td>17</td>\n",
       "      <td>29</td>\n",
       "      <td>2.1</td>\n",
       "      <td>3.00</td>\n",
       "      <td>2.25</td>\n",
       "    </tr>\n",
       "    <tr>\n",
       "      <th>33</th>\n",
       "      <td>162</td>\n",
       "      <td>119</td>\n",
       "      <td>113</td>\n",
       "      <td>23</td>\n",
       "      <td>28</td>\n",
       "      <td>2.1</td>\n",
       "      <td>1.25</td>\n",
       "      <td>3.50</td>\n",
       "    </tr>\n",
       "    <tr>\n",
       "      <th>34</th>\n",
       "      <td>164</td>\n",
       "      <td>111</td>\n",
       "      <td>121</td>\n",
       "      <td>18</td>\n",
       "      <td>36</td>\n",
       "      <td>2.3</td>\n",
       "      <td>1.00</td>\n",
       "      <td>4.50</td>\n",
       "    </tr>\n",
       "    <tr>\n",
       "      <th>35</th>\n",
       "      <td>159</td>\n",
       "      <td>114</td>\n",
       "      <td>123</td>\n",
       "      <td>20</td>\n",
       "      <td>30</td>\n",
       "      <td>2.2</td>\n",
       "      <td>1.75</td>\n",
       "      <td>3.25</td>\n",
       "    </tr>\n",
       "  </tbody>\n",
       "</table>\n",
       "</div>"
      ],
      "text/plain": [
       "    score  fatheriq  motheriq  speak  count  read  edutv  cartoons\n",
       "0     159       115       117     18     26   1.9   3.00      2.00\n",
       "1     164       117       113     20     37   2.5   1.75      3.25\n",
       "2     154       115       118     20     32   2.2   2.75      2.50\n",
       "3     157       113       131     12     24   1.7   2.75      2.25\n",
       "4     156       110       109     17     34   2.2   2.25      2.50\n",
       "5     150       113       109     13     28   1.9   1.25      3.75\n",
       "6     155       118       119     19     24   1.8   2.00      3.00\n",
       "7     161       117       120     18     32   2.3   2.25      2.50\n",
       "8     163       111       128     22     28   2.1   1.00      4.00\n",
       "9     162       122       120     18     27   2.1   2.25      2.75\n",
       "10    154       111       117     19     32   2.2   1.75      3.75\n",
       "11    159       112       120     20     33   2.3   2.00      2.75\n",
       "12    167       119       126     20     35   2.2   0.75      4.00\n",
       "13    155       120       114     22     21   1.7   2.50      2.50\n",
       "14    159       114       129     17     27   1.8   1.50      3.75\n",
       "15    159       111       118     18     29   2.0   1.75      3.25\n",
       "16    160       111       115     21     32   2.3   1.75      3.25\n",
       "17    154       115       111     18     32   2.2   2.00      3.00\n",
       "18    160       126       111     12     35   2.2   2.75      1.75\n",
       "19    151       115       109     21     29   2.0   2.00      2.75\n",
       "20    166       114       124     15     39   2.4   2.00      2.75\n",
       "21    161       115       122     20     30   2.1   2.00      3.50\n",
       "22    162       115       118     15     33   2.3   2.25      2.75\n",
       "23    169       112       121     23     36   2.3   2.00      2.75\n",
       "24    160       115       124     18     35   2.3   2.00      3.50\n",
       "25    161       117       118     20     31   2.3   2.00      3.00\n",
       "26    166       116       128     17     36   2.4   1.25      3.75\n",
       "27    163       114       119     22     36   2.4   2.25      2.75\n",
       "28    159       116       123     15     24   1.8   1.50      3.50\n",
       "29    155       111       117     13     29   2.1   1.75      3.50\n",
       "30    155       112       117     17     25   2.0   2.75      2.25\n",
       "31    157       115       111     10     31   2.2   1.75      3.50\n",
       "32    151       111       101     17     29   2.1   3.00      2.25\n",
       "33    162       119       113     23     28   2.1   1.25      3.50\n",
       "34    164       111       121     18     36   2.3   1.00      4.50\n",
       "35    159       114       123     20     30   2.2   1.75      3.25"
      ]
     },
     "execution_count": 1,
     "metadata": {},
     "output_type": "execute_result"
    }
   ],
   "source": [
    "import matplotlib.pyplot as plt \n",
    "import scipy.optimize as so\n",
    "import pandas as pd \n",
    "import numpy as np\n",
    "\n",
    "df = pd.read_csv(\"gifted.csv\")\n",
    "df"
   ]
  },
  {
   "cell_type": "markdown",
   "metadata": {},
   "source": [
    "## Task 1: Implementing multiple regression ( / 28 pts)\n",
    "### Question 1.1 ( / 6 pts)\n",
    "Implement the function multRegPredict(b,D,xname). \n",
    "  - b is a list of parameter, with the first one being the intercept \n",
    "  - D is a DataFrame that contains the regressors\n",
    "  - xname is a list of column names in D that will be added as regressors \n",
    "\n",
    "b needs to contain one more parameter (the intercept) than the numbers of regressors in xname. It will be helpful to start from the corresponding functions from last homework for polynomial regression. \n",
    "\n",
    "Then make a scatterplot of D.read and D.score \n",
    "Call your new function with yp = multRegPredict([134,11.8], D,['read']) and add predicted values to your plot (just call plt.scatter again – the dots will be added in a different color).  "
   ]
  },
  {
   "cell_type": "code",
   "execution_count": 2,
   "metadata": {},
   "outputs": [],
   "source": [
    "def multiRegPredict(b, df, xname):\n",
    "\n",
    "    ## the intercept is the first element of the parameter array multiplied by 1.\n",
    "    yp = np.ones(len(df.index)) * b[0]\n",
    "\n",
    "    for i in range(len(xname)):\n",
    "        xcurrent = df[xname[i]]\n",
    "        yp = yp + b[i+1]*xcurrent # Add each regression value \n",
    "\n",
    "    return yp"
   ]
  },
  {
   "cell_type": "code",
   "execution_count": 3,
   "metadata": {},
   "outputs": [
    {
     "data": {
      "text/plain": [
       "Text(0, 0.5, 'Score')"
      ]
     },
     "execution_count": 3,
     "metadata": {},
     "output_type": "execute_result"
    },
    {
     "data": {
      "image/png": "[encoded data removed]",
      "text/plain": [
       "<Figure size 640x480 with 1 Axes>"
      ]
     },
     "metadata": {},
     "output_type": "display_data"
    }
   ],
   "source": [
    "plt.scatter(df[\"read\"], df[\"score\"])\n",
    "yp = multiRegPredict([134,11.8], df,['read'])\n",
    "plt.scatter(df[\"read\"], yp)\n",
    "plt.xlabel('Read (hr)')\n",
    "plt.ylabel('Score')"
   ]
  },
  {
   "cell_type": "markdown",
   "metadata": {},
   "source": [
    "Figure 1. Blue dots are representative of average number of hours per week the child’s mother or father reads to the child vs score in test of analytical skills. Orange dots are the predicted values."
   ]
  },
  {
   "cell_type": "markdown",
   "metadata": {},
   "source": [
    "### Question 1.2 ( / 10 pts)\n",
    "Implement the function multRegLossRSS(b,D,y,xname). y is a list or np-array for the response variable. The function should get the predictions from multRegPredict, and then calculate the residual sum-of-squares, and the derivative of the loss function in respect to each parameter. Test the function by calling multRegLossRSS([134,11.8],D,D.score,['read']). Report the resulting RSS for the regression of score (response variable) against read (explanatory variable)- as well as the derivatives for each parameter. Written answer: From the value of the derivative, do you have to increase or decrease the slope parameter to get a better fit?"
   ]
  },
  {
   "cell_type": "code",
   "execution_count": 4,
   "metadata": {},
   "outputs": [
    {
     "name": "stdout",
     "output_type": "stream",
     "text": [
      "The RSS value is 543.510000\n",
      "The derivative values are  [ 4.84 10.3 ]\n"
     ]
    }
   ],
   "source": [
    "def multiRegLossRSS(b, df, y, xname):\n",
    "    # 1. calculate the residuals\n",
    "    yp = multiRegPredict(b, df, xname)\n",
    "\n",
    "    res = y - yp\n",
    "    res2 = res ** 2\n",
    "    RSS = sum(res2)\n",
    "    \n",
    "    \n",
    "        # 1. initialize the derivative array\n",
    "    deriv = np.zeros(len(b))\n",
    "    #print(deriv)\n",
    "\n",
    "    ## the first element will be the derivative in respect to the intercept\n",
    "    deriv[0] = -2*sum(res)\n",
    "    \n",
    "    # 2. build up the array using a for loop \n",
    "    for i in range(0, len(xname)):\n",
    "        deriv[i+1] = -2*np.sum(df[xname[i]]*res)\n",
    "    \n",
    "    return RSS, deriv\n",
    "\n",
    "RSS, deriv = multiRegLossRSS([134,11.8], df, df[\"score\"], [\"read\"])\n",
    "print('The RSS value is %f' % RSS)\n",
    "print('The derivative values are ', deriv)"
   ]
  },
  {
   "cell_type": "markdown",
   "metadata": {},
   "source": [
    "Written: Based on the value of the derivitive the slope would need to decrease as it is positive "
   ]
  },
  {
   "cell_type": "markdown",
   "metadata": {},
   "source": [
    "### Question 1.3 ( / 12 pts)\n",
    "Implement the function multRegFit(D,y,xname), which uses so.minimize and multRegLossRSS to estimate the parameter values, and then calls multRegLossRSS again to calculate the R2 of the fit. The function should then return the R2 values and regression coefficients b. Use this print on the screen the R2-values for the models:\n",
    "\n",
    "- y = b0  (hint, set xname = [])\n",
    "- y = b0 + b1 \\* read \n",
    "- y = b0 + b1 \\* motheriq \n",
    "- y = b0 + b1 \\* motheriq + b2 \\* read\n",
    "\n",
    "Which model has the highest R2? How do you interpret these results? How much of the variance of the response variable is uniquely explained by reading, how much by motheriq? Do the two variables explain each other away, explain independent parts of the variance, or show suppression? "
   ]
  },
  {
   "cell_type": "code",
   "execution_count": 5,
   "metadata": {},
   "outputs": [],
   "source": [
    "def multiRegFit(df, y, xname):\n",
    "    b0 = np.zeros(len(xname)+1)\n",
    "    \n",
    "    result = so.minimize(multiRegLossRSS, b0, args=(df, y, xname), jac=True)\n",
    "    \n",
    "    b = result.x\n",
    "    \n",
    "    TSS = sum((y - np.mean(y))**2)\n",
    "\n",
    "    RSS, deriv = multiRegLossRSS(b,df,y,xname)\n",
    "    R2 = 1 - RSS/TSS \n",
    "\n",
    "    return R2, b\n"
   ]
  },
  {
   "cell_type": "code",
   "execution_count": 6,
   "metadata": {},
   "outputs": [
    {
     "name": "stdout",
     "output_type": "stream",
     "text": [
      "y = b0\n",
      "(3.3306690738754696e-16, array([159.13888889]))\n",
      "\n",
      "y = b0 + b1 * read\n",
      "(0.2758322729769085, array([133.9048511 ,  11.81307361]))\n",
      "\n",
      "y = b0 + b1 * motheriq\n",
      "(0.3263173772377881, array([111.09295521,   0.40659464]))\n",
      "\n",
      "y = b0 + b1 * motheriq + b2 * read\n",
      "(0.6291342380411372, array([82.63542504, 12.38890287,  0.42346452]))\n"
     ]
    }
   ],
   "source": [
    "xnames = [\"read\", \"motheriq\"]\n",
    "print(\"y = b0\")\n",
    "print(multiRegFit(df, df[\"score\"], []))\n",
    "print(\"\\ny = b0 + b1 * read\")\n",
    "print(multiRegFit(df, df[\"score\"], [xnames[0]]))\n",
    "print(\"\\ny = b0 + b1 * motheriq\")\n",
    "print(multiRegFit(df, df[\"score\"], [xnames[1]]))\n",
    "print(\"\\ny = b0 + b1 * motheriq + b2 * read\")\n",
    "print(multiRegFit(df, df[\"score\"], xnames))\n"
   ]
  },
  {
   "cell_type": "markdown",
   "metadata": {},
   "source": [
    "Written: The model with the highest R2 is the model that uses both motheriq and read. If you sum the R2 from read and motheriq you get ~0.6021. Which means that motheriq and read do not fit overlapping parts of the variance. The regression coefficients in the combined model also increase. The results show the influence of read is increased when considered in the context of motheriq. The two variables explain independent parts of the variance. "
   ]
  },
  {
   "cell_type": "markdown",
   "metadata": {},
   "source": [
    "## Task 2: Do crossvalidation on these models  ( / 32 pts)\n",
    "### Question 2.1 ( / 12 pts)\n",
    "Modify the leaveOneOutCV function from last homework, so it works on a data frame with the multiple regression analysis. The inputs to the function are:  \n",
    "\n",
    "def leaveOneOutCV(D,y,args=(),fitfcn=multRegFit,predictfcn=multRegPredict):\n",
    " - D: Data Frame with explanatory variables \n",
    " - y: A list or np-array of the response variable\n",
    " - args: Input arguments for the fitfcn and predict function (xname) \n",
    " - fitfcn: Function for fitting called as fitfcn(D,y,args)\n",
    " - predictfcn: Function for prediction called as predictfcn(D,y,args)\n"
   ]
  },
  {
   "cell_type": "code",
   "execution_count": 7,
   "metadata": {},
   "outputs": [],
   "source": [
    "def leaveOneOutCV(df, y, fitfnc = multiRegFit, predfnc = multiRegPredict, args =()):\n",
    "\n",
    "    # first create an array that represent the index \n",
    "    ind = np.arange(len(df.index))\n",
    "\n",
    "    N = len(df.index)\n",
    "\n",
    "    yp_cv = np.zeros(N)\n",
    "\n",
    "    # use np.array_split to generate indices for folds\n",
    "    folds = np.array_split(ind, N)\n",
    "    \n",
    "    r,b0 = fitfnc(df, y, args)\n",
    "    \n",
    "\n",
    "    for f in np.arange(N): \n",
    "        folds_cp = folds.copy() # creating a copy of the folds array\n",
    "        test_ind = folds[f] # get the indices for test set\n",
    "        df_test  = df.loc[test_ind] # set one fold aside for testing\n",
    "\n",
    "\n",
    "        del folds_cp[f]        # delete the test set indices\n",
    "        train_ind = np.concatenate(folds_cp, axis = 0) # concatenate all the remaining indices into 1 array\n",
    "        df_train  = df.loc[train_ind]\n",
    "        ytrain = y.loc[train_ind]\n",
    "        \n",
    "        r,b = fitfnc(df_train, ytrain, args)\n",
    "        yp_cv[test_ind] = predfnc(b, df_test, args)\n",
    "\n",
    "    # TSS\n",
    "    TSS = sum((y - y.mean())**2)\n",
    "\n",
    "    # cross validated RSS\n",
    "    RSScv = sum((y - yp_cv)**2)\n",
    "\n",
    "    # cross validated R2\n",
    "    R2cv = 1-RSScv/TSS\n",
    "\n",
    "    # fit and predict\n",
    "    yp = predfnc(b0, df, args)\n",
    "\n",
    "    # \n",
    "    TSS = sum((y-y.mean())**2)\n",
    "    RSS = sum((y-yp)**2)\n",
    "    R2  = 1-RSS/TSS\n",
    "    \n",
    "    return R2cv, R2\n",
    "    "
   ]
  },
  {
   "cell_type": "markdown",
   "metadata": {},
   "source": [
    "### Question 2.2 ( / 8 pts)\n",
    "Call the function to get the cross-validated $R^2$ for the 4 models specified in Task 1, Question 3. How to you interpret these results? Is there evidence that reading increases the analytic score over and above what the IQ of the mother does? "
   ]
  },
  {
   "cell_type": "code",
   "execution_count": 8,
   "metadata": {},
   "outputs": [
    {
     "name": "stdout",
     "output_type": "stream",
     "text": [
      "Format is R2cv, R2\n",
      "(-0.05795918367345809, 3.3306690738754696e-16)\n",
      "(0.2041976646172461, 0.2758322729769085)\n",
      "(0.236467819730799, 0.3263173772377881)\n",
      "(0.5760093388825653, 0.6291342380411372)\n"
     ]
    }
   ],
   "source": [
    "print(\"Format is R2cv, R2\")\n",
    "print(leaveOneOutCV(df, df[\"score\"], multiRegFit, multiRegPredict, []))\n",
    "print(leaveOneOutCV(df, df[\"score\"], multiRegFit, multiRegPredict, [\"read\"]))\n",
    "print(leaveOneOutCV(df, df[\"score\"], multiRegFit, multiRegPredict, [\"motheriq\"]))\n",
    "print(leaveOneOutCV(df, df[\"score\"], multiRegFit, multiRegPredict, [\"read\", \"motheriq\"]))"
   ]
  },
  {
   "cell_type": "markdown",
   "metadata": {},
   "source": [
    "The sum of the individual cross validated fit by read and motheriq sum to be ~0.4407, which is lower than the combined score. This may suggest that both read and motheriq are independent predictors, but they also help emphasize the effects of the other. I would not say that there is evidence that reading increases the analytic score over what the IQ of the mother does. As based on the R2CV numbers mother IQ has a bigger effect than reading. "
   ]
  },
  {
   "cell_type": "markdown",
   "metadata": {},
   "source": [
    "### Question 2.3 ( / 4 pts)\n",
    "Add the variable fatheriq to the model containing read and motheriq. Is there evidence that the IQ of the father improves the prediction over and above what hours reading and mother IQ can predict? "
   ]
  },
  {
   "cell_type": "code",
   "execution_count": 9,
   "metadata": {},
   "outputs": [
    {
     "name": "stdout",
     "output_type": "stream",
     "text": [
      "R2cv =  0.6326907014574836\n"
     ]
    }
   ],
   "source": [
    "print(\"R2cv = \", leaveOneOutCV(df, df[\"score\"], multiRegFit, multiRegPredict, [\"read\", \"motheriq\", \"fatheriq\"])[0])"
   ]
  },
  {
   "cell_type": "markdown",
   "metadata": {},
   "source": [
    "The R2cv including father iq increases (0.57 to 0.63). This would suggest that the iq of the father improves the fit of the prediction. "
   ]
  },
  {
   "cell_type": "markdown",
   "metadata": {},
   "source": [
    "### Question 2.4 ( / 8 pts)\n",
    "Is edutv (hours of educational TV) alone a reliable predictor of the analytic score? Does it add prediction power over and above from what the model motheriq + read + fatheriq can predict? \n"
   ]
  },
  {
   "cell_type": "code",
   "execution_count": 10,
   "metadata": {},
   "outputs": [
    {
     "name": "stdout",
     "output_type": "stream",
     "text": [
      "(0.037315563547507424, 0.1370922957313695)\n"
     ]
    }
   ],
   "source": [
    "print(leaveOneOutCV(df, df[\"score\"], multiRegFit, multiRegPredict, [\"edutv\"]))"
   ]
  },
  {
   "cell_type": "code",
   "execution_count": 11,
   "metadata": {},
   "outputs": [
    {
     "name": "stdout",
     "output_type": "stream",
     "text": [
      "(0.620965949620955, 0.7002993395259496)\n"
     ]
    }
   ],
   "source": [
    "print(leaveOneOutCV(df, df[\"score\"], multiRegFit, multiRegPredict, [\"read\", \"motheriq\", \"fatheriq\", \"edutv\"]))"
   ]
  },
  {
   "cell_type": "markdown",
   "metadata": {},
   "source": [
    "Edutv is not a reliable predictor of analytic score. It does not add predictive value. This can be seen as the R2cv value goes down from what is was having just read, motheriq, and fatheriq. "
   ]
  },
  {
   "cell_type": "markdown",
   "metadata": {},
   "source": [
    "## Task 3: Bootstrap for multiple regression. ( / 40 pts)\n",
    "### Question 3.1 ( / 14 pts)\n",
    "Implement bootstrap for linear regression. Start from the function bootstrap from Homework 3. The function should have input parameters\n",
    "\n",
    "```\n",
    "def bootstrapReg(D,y,args,fitfcn,numIter=500):\n",
    "```\n",
    "and should return a numIter x numParams np.array of bootstrap estimates.  \n",
    "\n",
    "fitfcn is the function that will be used to get the parameter estimates.\n",
    "numParams is the length of b-vector returned from the fitfcn (in our case multiRegFit). That is, each column of the array should be the boostrap estimates for one of the regression coefficients. \n",
    "\n",
    "Note: you will also have to use here the following functions (add them to your notebook): \n",
    "- confidenceInt from HW 3\n",
    "\n",
    "Run the bootstrap on the data set in gifted.csv. Run the bootstrap on a simple regression model that explains ‘score’ from the explanatory variable ‘edutv’ alone. Report the CI for edutv -slope. Does the CI include zero - i.e. is there evidence that the relationship between edutv and score is not zero? Which direction is the association between the two variables? "
   ]
  },
  {
   "cell_type": "code",
   "execution_count": 12,
   "metadata": {},
   "outputs": [],
   "source": [
    "def confidenceInt(data, prec):\n",
    "    bounds = []\n",
    "    bounds.append(np.percentile(data, 100-prec))\n",
    "    bounds.append(np.percentile(data, prec))\n",
    "    \n",
    "    return bounds\n",
    "\n",
    "def bootstrap(df, y, fitfcn, numIter = 500, args=()):\n",
    "\n",
    "    R2, b = fitfcn(df,y,args)\n",
    "\n",
    "    numParam = len(b)\n",
    "    \n",
    "    N = len(df.index)\n",
    "    ind = np.arange(N)\n",
    "\n",
    "    stat = np.zeros((numIter, numParam))\n",
    "    \n",
    "    for i in range (0, numIter):\n",
    "        sample = np.random.choice(ind, N, replace = True)\n",
    "        \n",
    "        r2, stat[i, :] = fitfcn(df.iloc[sample], y[sample], args)\n",
    "        \n",
    "    return stat"
   ]
  },
  {
   "cell_type": "code",
   "execution_count": 13,
   "metadata": {},
   "outputs": [
    {
     "data": {
      "text/plain": [
       "[-4.869053184489548, -0.9177597530916087]"
      ]
     },
     "execution_count": 13,
     "metadata": {},
     "output_type": "execute_result"
    }
   ],
   "source": [
    "d = bootstrap(df, df[\"score\"], multiRegFit, numIter = 500, args = [\"edutv\"])\n",
    "confidenceInt(d[:,1], 95)"
   ]
  },
  {
   "cell_type": "markdown",
   "metadata": {},
   "source": [
    "The CI does not include 0 which means there is some relationship between the variabes. The direction of association of variables is negative. "
   ]
  },
  {
   "cell_type": "markdown",
   "metadata": {},
   "source": [
    "### Question 3.2 ( / 8 pts)\n",
    "Run the bootstrap on the model that explains score as a function of hours of cartoons watched. Does the confidence interval for the slope between ‘cartoons’ and ‘score’ include zero? "
   ]
  },
  {
   "cell_type": "code",
   "execution_count": 14,
   "metadata": {},
   "outputs": [
    {
     "data": {
      "text/plain": [
       "[-0.33223631650251556, 3.533533599763236]"
      ]
     },
     "execution_count": 14,
     "metadata": {},
     "output_type": "execute_result"
    }
   ],
   "source": [
    "d = bootstrap(df, df[\"score\"], multiRegFit, numIter = 500, args = [\"cartoons\"])\n",
    "confidenceInt(d[:,1], 95)"
   ]
  },
  {
   "cell_type": "markdown",
   "metadata": {},
   "source": [
    "The confidence interval for score and hours of cartoons watched does include 0, which means it is possible for there to be no relationship between the variables. "
   ]
  },
  {
   "cell_type": "markdown",
   "metadata": {},
   "source": [
    "### Question 3.3 ( / 8 pts)\n",
    "Run the bootstrap on a model that explains score as a function of edutv and cartoons. Report the CIs for both variabless. Do the conclusion from Question 1 and 2 change? Have the CIs become smaller or larger as compared to the simple regression models from Question 1 and 2?"
   ]
  },
  {
   "cell_type": "code",
   "execution_count": 15,
   "metadata": {},
   "outputs": [
    {
     "name": "stdout",
     "output_type": "stream",
     "text": [
      "CI for edutv:  [-13.209385320128288, -3.02563468096298]\n",
      "CI for cartoons:  [-9.478907094712541, -0.6417639744767415]\n"
     ]
    }
   ],
   "source": [
    "A = bootstrap(df, df[\"score\"], multiRegFit, numIter = 500, args = [\"edutv\", \"cartoons\"])\n",
    "\n",
    "print(\"CI for edutv: \", confidenceInt(A[:,1], 95))\n",
    "\n",
    "print(\"CI for cartoons: \",confidenceInt(A[:,2], 95))\n"
   ]
  },
  {
   "cell_type": "markdown",
   "metadata": {},
   "source": [
    "The conclusions would change as neither include 0 and both are negative. The CI have become larger under the multiple regression, which makes sense as we should expect to have an increase in the variability of the estimates. "
   ]
  },
  {
   "cell_type": "markdown",
   "metadata": {},
   "source": [
    "### Question 3.4 ( / 10 pts)\n",
    "Plot the bootstrap estimates for edutv and cartoons from Question 3 against each other in a scatter plot. Are they positively or negatively related? What does this mean for the relationship between the regressors?"
   ]
  },
  {
   "cell_type": "code",
   "execution_count": 16,
   "metadata": {},
   "outputs": [
    {
     "data": {
      "text/plain": [
       "Text(0, 0.5, 'Cartoons Slope')"
      ]
     },
     "execution_count": 16,
     "metadata": {},
     "output_type": "execute_result"
    },
    {
     "data": {
      "image/png": "[encoded data removed]",
      "text/plain": [
       "<Figure size 640x480 with 1 Axes>"
      ]
     },
     "metadata": {},
     "output_type": "display_data"
    }
   ],
   "source": [
    "plt.scatter(A[:,1],A[:,2])\n",
    "plt.xlabel('Edutv Slope')\n",
    "plt.ylabel('Cartoons Slope')"
   ]
  },
  {
   "cell_type": "markdown",
   "metadata": {},
   "source": [
    "Figure 2. Scatter plot of slopes between edutv and cartoons."
   ]
  },
  {
   "cell_type": "markdown",
   "metadata": {},
   "source": [
    "The slopes are positively related meaning the regressors are negatively correlated. Negatively correlated regressors lead to positive correlation of slope estimates and increase the variablility of the estimates. "
   ]
  },
  {
   "cell_type": "code",
   "execution_count": null,
   "metadata": {},
   "outputs": [],
   "source": []
  }
 ],
 "metadata": {
  "kernelspec": {
   "display_name": "Python 3 (ipykernel)",
   "language": "python",
   "name": "python3"
  },
  "language_info": {
   "codemirror_mode": {
    "name": "ipython",
    "version": 3
   },
   "file_extension": ".py",
   "mimetype": "text/x-python",
   "name": "python",
   "nbconvert_exporter": "python",
   "pygments_lexer": "ipython3",
   "version": "3.11.5"
  }
 },
 "nbformat": 4,
 "nbformat_minor": 1
}
