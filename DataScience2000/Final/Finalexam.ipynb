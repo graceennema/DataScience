{
 "cells": [
  {
   "cell_type": "markdown",
   "metadata": {},
   "source": [
    "# Final \n",
    "# YourUserID: xxxxxxxx\n",
    "## General \n",
    "The instruction for the final exam for IS2002B is included in this Jupyter Notebook. \n",
    "Some basic rules: \n",
    "- You are allowed to use any document and source on your computer and look up documents on the internet. \n",
    "- You or not allowed to share documents, or communicate in any other way with people inside or outside the class room during the final.\n",
    "- You are only allowed to use the packages listed under \"preliminaries\" - the use of other  regression or machine learning toolboxes (such as statsmodels or scilearn) is not permitted. \n",
    "- All the code you are using from previous Assignments or Labs need to be included in the notebook. \n",
    "- All questions also require some written answer. The answer to these questions should be given in full English sentences. \n",
    "- All Figures should be appropriately labeled and should have a figure caption. \n",
    "- The Final needs to be submitted on OWL. Please check before you leave the room that you final has been correctly recieved. \n",
    "## Preliminaries"
   ]
  },
  {
   "cell_type": "code",
   "execution_count": 1,
   "metadata": {},
   "outputs": [],
   "source": [
    "import pandas as pd\n",
    "import numpy as np\n",
    "import scipy.stats as ss\n",
    "import matplotlib.pyplot as plt \n",
    "import seaborn as sns\n",
    "import scipy.optimize as so\n",
    "import statsmodels.api as sm\n",
    "import statsmodels.formula.api as smf\n",
    "import matplotlib\n",
    "matplotlib.use('TkAgg')\n",
    "%matplotlib inline"
   ]
  },
  {
   "cell_type": "markdown",
   "metadata": {},
   "source": [
    "## Data set\n",
    "This data set (mammals.csv) includes data for 60 species of mammals distributed over 13 orders. The data were used for analyzing the relationship between constitutional and ecological factors and sleeping in mammals. Two qualitatively different sleep variables (dreaming and non dreaming) were recorded. Constitutional variables such as life span, body weight, brain weight and gestation time were evaluated. Ecological variables such as severity of predation, safety of sleeping place and overall danger were inferred from field observations in the literature.\n",
    "\n",
    "The data frame contains 60 observations on the following 12 variables.\n",
    "- Species: Species of mammals\n",
    "- Order: The scientific order (i.e. in taxonomie) of the mammal species \n",
    "- BodyWt: Total body weight of the mammal (in kg)\n",
    "- BrainWt: Brain weight of the mammal (in g)\n",
    "- NonDreaming: Number of hours of non dreaming sleep\n",
    "- Dreaming: Number of hours of dreaming sleep\n",
    "- TotalSleep: Total number of hours of sleep\n",
    "- LifeSpan: Average Life span (in years)\n",
    "- Gestation: Gestation time (in days)\n",
    "- Predation: An index of how likely the mammal is to be preyed upon. 1 = least likely to be preyed upon. 5 = most likely to be preyed upon.\n",
    "- Exposure: An index of the how exposed the mammal is during sleep. 1 = least exposed (e.g., sleeps in a well-protected den). 5 = most exposed.\n",
    "- Danger: An index of how much danger the mammal faces from other animals. This index is based upon Predation and Exposure. 1 = least danger from other animals. 5 = most danger from other animals."
   ]
  },
  {
   "cell_type": "code",
   "execution_count": 3,
   "metadata": {},
   "outputs": [
    {
     "data": {
      "text/html": [
       "<div>\n",
       "<style scoped>\n",
       "    .dataframe tbody tr th:only-of-type {\n",
       "        vertical-align: middle;\n",
       "    }\n",
       "\n",
       "    .dataframe tbody tr th {\n",
       "        vertical-align: top;\n",
       "    }\n",
       "\n",
       "    .dataframe thead th {\n",
       "        text-align: right;\n",
       "    }\n",
       "</style>\n",
       "<table border=\"1\" class=\"dataframe\">\n",
       "  <thead>\n",
       "    <tr style=\"text-align: right;\">\n",
       "      <th></th>\n",
       "      <th>Species</th>\n",
       "      <th>Order</th>\n",
       "      <th>BodyWt</th>\n",
       "      <th>BrainWt</th>\n",
       "      <th>NonDreaming</th>\n",
       "      <th>Dreaming</th>\n",
       "      <th>TotalSleep</th>\n",
       "      <th>LifeSpan</th>\n",
       "      <th>Gestation</th>\n",
       "      <th>Predation</th>\n",
       "      <th>Exposure</th>\n",
       "      <th>Danger</th>\n",
       "    </tr>\n",
       "  </thead>\n",
       "  <tbody>\n",
       "    <tr>\n",
       "      <th>0</th>\n",
       "      <td>Africanelephant</td>\n",
       "      <td>Proboscidea</td>\n",
       "      <td>6654.000</td>\n",
       "      <td>5712.0</td>\n",
       "      <td>2.5</td>\n",
       "      <td>0.8</td>\n",
       "      <td>3.3</td>\n",
       "      <td>38.6</td>\n",
       "      <td>645.0</td>\n",
       "      <td>3</td>\n",
       "      <td>5</td>\n",
       "      <td>3</td>\n",
       "    </tr>\n",
       "    <tr>\n",
       "      <th>1</th>\n",
       "      <td>Africangiantpouchedrat</td>\n",
       "      <td>Rodent</td>\n",
       "      <td>1.000</td>\n",
       "      <td>6.6</td>\n",
       "      <td>6.3</td>\n",
       "      <td>2.0</td>\n",
       "      <td>8.3</td>\n",
       "      <td>4.5</td>\n",
       "      <td>42.0</td>\n",
       "      <td>3</td>\n",
       "      <td>1</td>\n",
       "      <td>3</td>\n",
       "    </tr>\n",
       "    <tr>\n",
       "      <th>2</th>\n",
       "      <td>ArcticFox</td>\n",
       "      <td>Carnivore</td>\n",
       "      <td>3.385</td>\n",
       "      <td>44.5</td>\n",
       "      <td>10.0</td>\n",
       "      <td>2.5</td>\n",
       "      <td>12.5</td>\n",
       "      <td>14.0</td>\n",
       "      <td>60.0</td>\n",
       "      <td>1</td>\n",
       "      <td>1</td>\n",
       "      <td>1</td>\n",
       "    </tr>\n",
       "    <tr>\n",
       "      <th>3</th>\n",
       "      <td>Asianelephant</td>\n",
       "      <td>Proboscidea</td>\n",
       "      <td>2547.000</td>\n",
       "      <td>4603.0</td>\n",
       "      <td>2.1</td>\n",
       "      <td>1.8</td>\n",
       "      <td>3.9</td>\n",
       "      <td>69.0</td>\n",
       "      <td>624.0</td>\n",
       "      <td>3</td>\n",
       "      <td>5</td>\n",
       "      <td>4</td>\n",
       "    </tr>\n",
       "    <tr>\n",
       "      <th>4</th>\n",
       "      <td>Baboon</td>\n",
       "      <td>Primate</td>\n",
       "      <td>10.550</td>\n",
       "      <td>179.5</td>\n",
       "      <td>9.1</td>\n",
       "      <td>0.7</td>\n",
       "      <td>9.8</td>\n",
       "      <td>27.0</td>\n",
       "      <td>180.0</td>\n",
       "      <td>4</td>\n",
       "      <td>4</td>\n",
       "      <td>4</td>\n",
       "    </tr>\n",
       "    <tr>\n",
       "      <th>5</th>\n",
       "      <td>Bigbrownbat</td>\n",
       "      <td>Bat</td>\n",
       "      <td>0.023</td>\n",
       "      <td>0.3</td>\n",
       "      <td>15.8</td>\n",
       "      <td>3.9</td>\n",
       "      <td>19.7</td>\n",
       "      <td>19.0</td>\n",
       "      <td>35.0</td>\n",
       "      <td>1</td>\n",
       "      <td>1</td>\n",
       "      <td>1</td>\n",
       "    </tr>\n",
       "    <tr>\n",
       "      <th>6</th>\n",
       "      <td>Braziliantapir</td>\n",
       "      <td>Ungulate</td>\n",
       "      <td>160.000</td>\n",
       "      <td>169.0</td>\n",
       "      <td>5.2</td>\n",
       "      <td>1.0</td>\n",
       "      <td>6.2</td>\n",
       "      <td>30.4</td>\n",
       "      <td>392.0</td>\n",
       "      <td>4</td>\n",
       "      <td>5</td>\n",
       "      <td>4</td>\n",
       "    </tr>\n",
       "    <tr>\n",
       "      <th>7</th>\n",
       "      <td>Cat</td>\n",
       "      <td>Carnivore</td>\n",
       "      <td>3.300</td>\n",
       "      <td>25.6</td>\n",
       "      <td>10.9</td>\n",
       "      <td>3.6</td>\n",
       "      <td>14.5</td>\n",
       "      <td>28.0</td>\n",
       "      <td>63.0</td>\n",
       "      <td>1</td>\n",
       "      <td>2</td>\n",
       "      <td>1</td>\n",
       "    </tr>\n",
       "    <tr>\n",
       "      <th>8</th>\n",
       "      <td>Chimpanzee</td>\n",
       "      <td>Primate</td>\n",
       "      <td>52.160</td>\n",
       "      <td>440.0</td>\n",
       "      <td>8.3</td>\n",
       "      <td>1.4</td>\n",
       "      <td>9.7</td>\n",
       "      <td>50.0</td>\n",
       "      <td>230.0</td>\n",
       "      <td>1</td>\n",
       "      <td>1</td>\n",
       "      <td>1</td>\n",
       "    </tr>\n",
       "    <tr>\n",
       "      <th>9</th>\n",
       "      <td>Chinchilla</td>\n",
       "      <td>Rodent</td>\n",
       "      <td>0.425</td>\n",
       "      <td>6.4</td>\n",
       "      <td>11.0</td>\n",
       "      <td>1.5</td>\n",
       "      <td>12.5</td>\n",
       "      <td>7.0</td>\n",
       "      <td>112.0</td>\n",
       "      <td>5</td>\n",
       "      <td>4</td>\n",
       "      <td>4</td>\n",
       "    </tr>\n",
       "    <tr>\n",
       "      <th>10</th>\n",
       "      <td>Cow</td>\n",
       "      <td>Ungulate</td>\n",
       "      <td>465.000</td>\n",
       "      <td>423.0</td>\n",
       "      <td>3.2</td>\n",
       "      <td>0.7</td>\n",
       "      <td>3.9</td>\n",
       "      <td>30.0</td>\n",
       "      <td>281.0</td>\n",
       "      <td>5</td>\n",
       "      <td>5</td>\n",
       "      <td>5</td>\n",
       "    </tr>\n",
       "    <tr>\n",
       "      <th>11</th>\n",
       "      <td>Deserthedgehog</td>\n",
       "      <td>Other</td>\n",
       "      <td>0.550</td>\n",
       "      <td>2.4</td>\n",
       "      <td>7.6</td>\n",
       "      <td>2.7</td>\n",
       "      <td>10.3</td>\n",
       "      <td>10.0</td>\n",
       "      <td>3.0</td>\n",
       "      <td>2</td>\n",
       "      <td>1</td>\n",
       "      <td>2</td>\n",
       "    </tr>\n",
       "    <tr>\n",
       "      <th>12</th>\n",
       "      <td>Donkey</td>\n",
       "      <td>Ungulate</td>\n",
       "      <td>187.100</td>\n",
       "      <td>419.0</td>\n",
       "      <td>2.9</td>\n",
       "      <td>0.2</td>\n",
       "      <td>3.1</td>\n",
       "      <td>40.0</td>\n",
       "      <td>365.0</td>\n",
       "      <td>5</td>\n",
       "      <td>5</td>\n",
       "      <td>5</td>\n",
       "    </tr>\n",
       "    <tr>\n",
       "      <th>13</th>\n",
       "      <td>EasternAmericanmole</td>\n",
       "      <td>Other</td>\n",
       "      <td>0.075</td>\n",
       "      <td>1.2</td>\n",
       "      <td>6.3</td>\n",
       "      <td>2.1</td>\n",
       "      <td>8.4</td>\n",
       "      <td>3.5</td>\n",
       "      <td>42.0</td>\n",
       "      <td>1</td>\n",
       "      <td>1</td>\n",
       "      <td>1</td>\n",
       "    </tr>\n",
       "    <tr>\n",
       "      <th>14</th>\n",
       "      <td>Echidna</td>\n",
       "      <td>Other</td>\n",
       "      <td>3.000</td>\n",
       "      <td>25.0</td>\n",
       "      <td>8.6</td>\n",
       "      <td>0.0</td>\n",
       "      <td>8.6</td>\n",
       "      <td>50.0</td>\n",
       "      <td>28.0</td>\n",
       "      <td>2</td>\n",
       "      <td>2</td>\n",
       "      <td>2</td>\n",
       "    </tr>\n",
       "    <tr>\n",
       "      <th>15</th>\n",
       "      <td>Europeanhedgehog</td>\n",
       "      <td>Other</td>\n",
       "      <td>0.785</td>\n",
       "      <td>3.5</td>\n",
       "      <td>6.6</td>\n",
       "      <td>4.1</td>\n",
       "      <td>10.7</td>\n",
       "      <td>6.0</td>\n",
       "      <td>42.0</td>\n",
       "      <td>2</td>\n",
       "      <td>2</td>\n",
       "      <td>2</td>\n",
       "    </tr>\n",
       "    <tr>\n",
       "      <th>16</th>\n",
       "      <td>Galago</td>\n",
       "      <td>Other</td>\n",
       "      <td>0.200</td>\n",
       "      <td>5.0</td>\n",
       "      <td>9.5</td>\n",
       "      <td>1.2</td>\n",
       "      <td>10.7</td>\n",
       "      <td>10.4</td>\n",
       "      <td>120.0</td>\n",
       "      <td>2</td>\n",
       "      <td>2</td>\n",
       "      <td>2</td>\n",
       "    </tr>\n",
       "    <tr>\n",
       "      <th>17</th>\n",
       "      <td>Genet</td>\n",
       "      <td>Other</td>\n",
       "      <td>1.410</td>\n",
       "      <td>17.5</td>\n",
       "      <td>4.8</td>\n",
       "      <td>1.3</td>\n",
       "      <td>6.1</td>\n",
       "      <td>34.0</td>\n",
       "      <td>80.0</td>\n",
       "      <td>1</td>\n",
       "      <td>2</td>\n",
       "      <td>1</td>\n",
       "    </tr>\n",
       "    <tr>\n",
       "      <th>18</th>\n",
       "      <td>Giantarmadillo</td>\n",
       "      <td>Other</td>\n",
       "      <td>60.000</td>\n",
       "      <td>81.0</td>\n",
       "      <td>12.0</td>\n",
       "      <td>6.1</td>\n",
       "      <td>18.1</td>\n",
       "      <td>7.0</td>\n",
       "      <td>100.0</td>\n",
       "      <td>1</td>\n",
       "      <td>1</td>\n",
       "      <td>1</td>\n",
       "    </tr>\n",
       "    <tr>\n",
       "      <th>19</th>\n",
       "      <td>Giraffe</td>\n",
       "      <td>Ungulate</td>\n",
       "      <td>529.000</td>\n",
       "      <td>680.0</td>\n",
       "      <td>2.2</td>\n",
       "      <td>0.3</td>\n",
       "      <td>2.5</td>\n",
       "      <td>28.0</td>\n",
       "      <td>400.0</td>\n",
       "      <td>5</td>\n",
       "      <td>5</td>\n",
       "      <td>5</td>\n",
       "    </tr>\n",
       "  </tbody>\n",
       "</table>\n",
       "</div>"
      ],
      "text/plain": [
       "                   Species        Order    BodyWt  BrainWt  NonDreaming  \\\n",
       "0          Africanelephant  Proboscidea  6654.000   5712.0          2.5   \n",
       "1   Africangiantpouchedrat       Rodent     1.000      6.6          6.3   \n",
       "2                ArcticFox    Carnivore     3.385     44.5         10.0   \n",
       "3            Asianelephant  Proboscidea  2547.000   4603.0          2.1   \n",
       "4                   Baboon      Primate    10.550    179.5          9.1   \n",
       "5              Bigbrownbat          Bat     0.023      0.3         15.8   \n",
       "6           Braziliantapir     Ungulate   160.000    169.0          5.2   \n",
       "7                      Cat    Carnivore     3.300     25.6         10.9   \n",
       "8               Chimpanzee      Primate    52.160    440.0          8.3   \n",
       "9               Chinchilla       Rodent     0.425      6.4         11.0   \n",
       "10                     Cow     Ungulate   465.000    423.0          3.2   \n",
       "11          Deserthedgehog        Other     0.550      2.4          7.6   \n",
       "12                  Donkey     Ungulate   187.100    419.0          2.9   \n",
       "13     EasternAmericanmole        Other     0.075      1.2          6.3   \n",
       "14                 Echidna        Other     3.000     25.0          8.6   \n",
       "15        Europeanhedgehog        Other     0.785      3.5          6.6   \n",
       "16                  Galago        Other     0.200      5.0          9.5   \n",
       "17                   Genet        Other     1.410     17.5          4.8   \n",
       "18          Giantarmadillo        Other    60.000     81.0         12.0   \n",
       "19                 Giraffe     Ungulate   529.000    680.0          2.2   \n",
       "\n",
       "    Dreaming  TotalSleep  LifeSpan  Gestation  Predation  Exposure  Danger  \n",
       "0        0.8         3.3      38.6      645.0          3         5       3  \n",
       "1        2.0         8.3       4.5       42.0          3         1       3  \n",
       "2        2.5        12.5      14.0       60.0          1         1       1  \n",
       "3        1.8         3.9      69.0      624.0          3         5       4  \n",
       "4        0.7         9.8      27.0      180.0          4         4       4  \n",
       "5        3.9        19.7      19.0       35.0          1         1       1  \n",
       "6        1.0         6.2      30.4      392.0          4         5       4  \n",
       "7        3.6        14.5      28.0       63.0          1         2       1  \n",
       "8        1.4         9.7      50.0      230.0          1         1       1  \n",
       "9        1.5        12.5       7.0      112.0          5         4       4  \n",
       "10       0.7         3.9      30.0      281.0          5         5       5  \n",
       "11       2.7        10.3      10.0        3.0          2         1       2  \n",
       "12       0.2         3.1      40.0      365.0          5         5       5  \n",
       "13       2.1         8.4       3.5       42.0          1         1       1  \n",
       "14       0.0         8.6      50.0       28.0          2         2       2  \n",
       "15       4.1        10.7       6.0       42.0          2         2       2  \n",
       "16       1.2        10.7      10.4      120.0          2         2       2  \n",
       "17       1.3         6.1      34.0       80.0          1         2       1  \n",
       "18       6.1        18.1       7.0      100.0          1         1       1  \n",
       "19       0.3         2.5      28.0      400.0          5         5       5  "
      ]
     },
     "execution_count": 3,
     "metadata": {},
     "output_type": "execute_result"
    }
   ],
   "source": [
    "# Read DF \n",
    "df = pd.read_csv(\"mammals.csv\")\n",
    "df.head(20)"
   ]
  },
  {
   "cell_type": "markdown",
   "metadata": {},
   "source": [
    "## Task 1: Relationship between body and brain weight\n",
    "### Question 1 (5pts) \n",
    "Make a histogram of BrainWt, using 30 equally-spaced bin. Don't forget axis labels and figure caption. Written answer: How do you describe the distribution in terms of symmetry and skew? "
   ]
  },
  {
   "cell_type": "code",
   "execution_count": 7,
   "metadata": {},
   "outputs": [
    {
     "data": {
      "text/plain": [
       "<AxesSubplot:xlabel='BrainWt', ylabel='Count'>"
      ]
     },
     "execution_count": 7,
     "metadata": {},
     "output_type": "execute_result"
    },
    {
     "data": {
      "image/png": "[encoded data removed]",
      "text/plain": [
       "<Figure size 640x480 with 1 Axes>"
      ]
     },
     "metadata": {},
     "output_type": "display_data"
    }
   ],
   "source": [
    "sns.histplot(data = df, x = \"BrainWt\", color = \"b\", bins = 30)"
   ]
  },
  {
   "cell_type": "markdown",
   "metadata": {},
   "source": [
    "The distribution is very asymmetric, unimodal, and right skewed. "
   ]
  },
  {
   "cell_type": "markdown",
   "metadata": {},
   "source": [
    "### Question 2 (5pts)\n",
    "Because of the distribution of body and brain weight, researchers in evolutionary biology usually work with the logarithm of body and brain weight. Generate two new columns in your data frame called 'logBodyWt' and 'logBrainWt' and assign to them the natural logarithm of body and brain weight respectively. Plot a histogram of the logBrainWt, again using 30 bins. How do you characterize the distribution of logBrainWt in terms of symmetry and skew?   "
   ]
  },
  {
   "cell_type": "code",
   "execution_count": 10,
   "metadata": {
    "scrolled": false
   },
   "outputs": [
    {
     "data": {
      "text/plain": [
       "<AxesSubplot:xlabel='logBrainWt', ylabel='Count'>"
      ]
     },
     "execution_count": 10,
     "metadata": {},
     "output_type": "execute_result"
    },
    {
     "data": {
      "image/png": "[encoded data removed]",
      "text/plain": [
       "<Figure size 640x480 with 1 Axes>"
      ]
     },
     "metadata": {},
     "output_type": "display_data"
    }
   ],
   "source": [
    "logBodyWt = np.log(df[\"BodyWt\"])\n",
    "df['logBodyWt']  = logBodyWt\n",
    "\n",
    "logBrainWt = np.log(df[\"BrainWt\"])\n",
    "df['logBrainWt']  = logBrainWt\n",
    "\n",
    "sns.histplot(data = df, x = \"logBrainWt\", color = \"b\", bins = 30)"
   ]
  },
  {
   "cell_type": "markdown",
   "metadata": {},
   "source": [
    "The distribition is definitly more symmetric but I would not say that is is. It is also bimodal. No skew - more normal."
   ]
  },
  {
   "cell_type": "markdown",
   "metadata": {},
   "source": [
    "### Question 3 (7pts)\n",
    "Run a linear regression analysis with logBrainWt as the response variable and logBodyWt as the explanatory variable:\n",
    "\n",
    "$logBrainWt = b_0 + b_1 logBodyWt$. \n",
    "\n",
    "What percentage of the variance of logBrainWt can be explained by logBodyWt? Is the relationship between log Body Weight and log Brain Weight well described by a linear relationship? Do you think the model could be improved? "
   ]
  },
  {
   "cell_type": "code",
   "execution_count": 26,
   "metadata": {},
   "outputs": [
    {
     "name": "stdout",
     "output_type": "stream",
     "text": [
      "varaince 0.9185886998027369\n"
     ]
    },
    {
     "data": {
      "image/png": "[encoded data removed]",
      "text/plain": [
       "<Figure size 640x480 with 1 Axes>"
      ]
     },
     "metadata": {},
     "output_type": "display_data"
    }
   ],
   "source": [
    "def simpleRegPredict(b, x):\n",
    "    yPredicted = b[0] + b[1]*x\n",
    "    return yPredicted\n",
    "\n",
    "def plotPrediction(b,x,y,fcn = simpleRegPredict):\n",
    "    plt.scatter(x, y) \n",
    "    xPredict = np.linspace(min(x), max(x), num = len(x))\n",
    "    plt.plot(xPredict, fcn(b, xPredict), color = 'red')\n",
    "\n",
    "def simpleRegLossRSS(b, x, y):\n",
    "    yPredict = simpleRegPredict(b, x)\n",
    "\n",
    "    # calculate the residuals (difference between the real and predicted y values)\n",
    "    res = y - yPredict\n",
    "    rss = res**2\n",
    "    loss = np.sum(rss)\n",
    "\n",
    "    # calculate the derivatives with respect to each parameter (regression coefficient)\n",
    "    db0 = np.sum(-2*(res))\n",
    "    db1 = np.sum(-2*x*res)\n",
    "    \n",
    "    #dloss/db\n",
    "    deriv = [db0, db1]\n",
    "    \n",
    "    return loss, deriv\n",
    "\n",
    "def simpleRegFit(x, y, fcn = simpleRegLossRSS):\n",
    "    b0 = [0,0]\n",
    "    \n",
    "    result = so.minimize(fcn, b0, args=(x, y), jac=True)\n",
    "    \n",
    "    b = result.x\n",
    "    plotPrediction(b, x, y, fcn = simpleRegPredict)\n",
    "    \n",
    "    TSS = sum((y - np.mean(y))**2)\n",
    "    \n",
    "    loss, d = fcn(b,x,y)\n",
    "    \n",
    "    R2 = 1 - (loss/TSS)\n",
    "\n",
    "    return R2, b\n",
    "\n",
    "R2, b = simpleRegFit(df[\"logBrainWt\"], df[\"logBodyWt\"], simpleRegLossRSS)\n",
    "print(\"varaince\", R2)"
   ]
  },
  {
   "cell_type": "markdown",
   "metadata": {},
   "source": [
    "What percentage of the variance of logBrainWt can be explained by logBodyWt? Is the relationship between log Body Weight and log Brain Weight well described by a linear relationship? Do you think the model could be improved? \n",
    "\n",
    "91.8% of the varience of logBrainWt can be explained due to logBodyWt (r2 value). The relationship is descibed will by a linear model. I think the model could only be improved by taking another sample and looking for repeated results. "
   ]
  },
  {
   "cell_type": "markdown",
   "metadata": {},
   "source": [
    "### Question 4 (6pts)\n",
    "Given the regression equation: \n",
    "\n",
    "$logBrainWt = b_0 + b_1 logBodyWt$ \n",
    "\n",
    "solve the equation for \n",
    "\n",
    "$BrainWt = ?$ \n",
    "\n",
    "Hint: Use the basic relationships for natural logarithm (log) and the exponential (exp(a) = $e^a$) \n",
    "\n",
    "$exp(a+b) = exp(a)*exp(b)$\n",
    "\n",
    "$log(a^b) = b*log(a)$\n",
    "\n",
    "$exp(log(a)) = a $\n",
    "\n",
    "In your result, how do $b_0$ and $b_1$ change the relationship?\n",
    "When would the relationship between BrainWeight and Body Weight be proportional (i.e. linear)? "
   ]
  },
  {
   "cell_type": "code",
   "execution_count": 32,
   "metadata": {},
   "outputs": [
    {
     "name": "stdout",
     "output_type": "stream",
     "text": [
      "logBrainWt = -2.5128875388040166 + 1.2222412102028812 * logBodyWt\n",
      "BrainWt = 0.08103391252311037 + 1.2222412102028812 * BodyWt\n"
     ]
    },
    {
     "data": {
      "image/png": "[encoded data removed]",
      "text/plain": [
       "<Figure size 640x480 with 1 Axes>"
      ]
     },
     "metadata": {},
     "output_type": "display_data"
    }
   ],
   "source": [
    "print(\"logBrainWt\", \"=\", b[0], \"+\", b[1], \"* logBodyWt\")\n",
    "\n",
    "print(\"BrainWt =\", np.exp(b[0]), \"+\",  b[1], \"* BodyWt\")\n",
    "\n",
    "plotPrediction(b = [np.exp(b[0]), b[1]], x = df[\"BrainWt\"], y = df[\"BodyWt\"] ,fcn = simpleRegPredict)"
   ]
  },
  {
   "cell_type": "markdown",
   "metadata": {},
   "source": [
    "The intercept would change but that's about it. The relationship wuld no longer be linear, rather exponential"
   ]
  },
  {
   "cell_type": "markdown",
   "metadata": {},
   "source": []
  },
  {
   "cell_type": "markdown",
   "metadata": {},
   "source": [
    "### Question 5  (7pts)\n",
    "Which species have larger brain sizes than expected from their body size? Calculate the residuals from the regression analysis from question 3 and find the species that have a residual larger than log(3). ((logBrainWt - predicted(logBrainWt) > log(3)). Report the species names and their residuals. What does a residual bigger than log(3) mean in terms the difference between actual weight and predicted brain weight?  "
   ]
  },
  {
   "cell_type": "code",
   "execution_count": 52,
   "metadata": {},
   "outputs": [
    {
     "name": "stdout",
     "output_type": "stream",
     "text": [
      "Braziliantapir 1.3180877404920608\n",
      "Cow 1.2635774537266151\n",
      "Giantarmadillo 1.2361552480442466\n",
      "Kangaroo 1.1482848783170865\n",
      "Pig 1.4233370448684042\n",
      "Tenrec 1.2396615582131527\n",
      "Wateropossum 2.1022088779371826\n"
     ]
    }
   ],
   "source": [
    "yPredict = simpleRegPredict(b, df[\"logBrainWt\"])\n",
    "\n",
    "for i in range(len(df)):\n",
    "    res = df[\"logBodyWt\"].iloc[i] - yPredict[i]\n",
    "    if res > np.log(3):\n",
    "        print(df.Species[i], res)"
   ]
  },
  {
   "cell_type": "markdown",
   "metadata": {},
   "source": [
    "a log bigger than 3 means that it is 3 times likely to have a larger actual than predicted"
   ]
  },
  {
   "cell_type": "markdown",
   "metadata": {},
   "source": [
    "## Task 2: Building a predictive model for Dreaming sleep\n",
    "### Question 1 (5pts)\n",
    "What is the maximal number of hours any species amoung the listed ones spends in dreaming sleep? What is the name of the species with the most hours of dreaming sleep? \n",
    "\n"
   ]
  },
  {
   "cell_type": "code",
   "execution_count": null,
   "metadata": {},
   "outputs": [],
   "source": []
  },
  {
   "cell_type": "markdown",
   "metadata": {
    "collapsed": true
   },
   "source": [
    "### Question 2 (5pts)\n",
    "Using leave-one-out crossvalidation, determine the crossvalidated $R^2$ value for a linear model that predicts hours of dreaming sleep from\n",
    "\n",
    "- logBodyWt\n",
    "- logBrainWt \n",
    "- Exposure rating \n",
    "- Danger rating \n",
    "- Predation rating"
   ]
  },
  {
   "cell_type": "code",
   "execution_count": null,
   "metadata": {},
   "outputs": [],
   "source": []
  },
  {
   "cell_type": "markdown",
   "metadata": {},
   "source": [
    "### Question 3 (8pts)\n",
    "Use stepwise linear regression (backwards) to determine the best predictive model (using leave-one-out-crossvalidation) to explain the number of hours of dreaming sleep from these 5 variables (logBodyWt, logBrainWt, Exposure, Danger, Predation). Show all the intermediate steps and show explicitly which term you drop. Report the explanatory variables included in the best model \n"
   ]
  },
  {
   "cell_type": "code",
   "execution_count": null,
   "metadata": {},
   "outputs": [],
   "source": []
  },
  {
   "cell_type": "markdown",
   "metadata": {},
   "source": [
    "### Question 4 (7pts)\n",
    "Fit the a model that uses logBodyWt,logBrainWt and Danger as explanatory variables and Dreaming as response variable to the entire data set and report the beta-values for each of the regressors. Which regressors predict a larger amount of dreaming sleep and which ones a lesser amount? "
   ]
  },
  {
   "cell_type": "code",
   "execution_count": null,
   "metadata": {},
   "outputs": [],
   "source": []
  },
  {
   "cell_type": "markdown",
   "metadata": {},
   "source": []
  },
  {
   "cell_type": "markdown",
   "metadata": {},
   "source": [
    "### Question 5 (5pts)\n",
    "What measurement scale does the variable \"Predation\" have? \n",
    "Based on the measurement scale, is it appropriate to report the\n",
    "\n",
    "- Counts in each category (1-5)? \n",
    "- Median of predation rating? \n",
    "- Mean of predation rating? \n",
    "- Standard deviation of predation rating?\n",
    "\n",
    " Give a yes/no answer for each of the four. If you answer no, jutsify your answer. "
   ]
  },
  {
   "cell_type": "markdown",
   "metadata": {},
   "source": []
  },
  {
   "cell_type": "markdown",
   "metadata": {},
   "source": [
    "## Task 3: Testing two competing models of mamillarian sleep\n",
    "### Question 1 (5pts)\n",
    "The number of hours spent sleeping differs dramatically across different mamillarian species. Why is that? You have the scientific hypothesis that the amount of sleep can be simply explained by the physical brain size - with mammals with smaller brains having to sleep more. Specifically your idea is that the hours of TotalSleep are negatively and linearly related to logBrainWt. To support your hypothesis, run a linear regression analysis and report the fitted R2 value as a measure of fit. Also provide the scatterplot with the fitted regression line. Don't forget axis labels.   "
   ]
  },
  {
   "cell_type": "code",
   "execution_count": null,
   "metadata": {},
   "outputs": [],
   "source": []
  },
  {
   "cell_type": "markdown",
   "metadata": {},
   "source": []
  },
  {
   "cell_type": "markdown",
   "metadata": {},
   "source": [
    "### Question 2 (7pts)\n",
    "A reviewer of your paper thinks that the relationship bewteen logBrainWt and amount of sleep only comes about by the particular sample of 60 mammals that you are used (amoung the 5416 possible species you could have sampled). \n",
    "In response, conduct a boostrap analysis, resampling 1000 times from your sample amd redo your regression analysis from Question 1. Generate a histogram of the slope that indicates the relationship between TotalSleep and logBrainWt. Report the 95% confidence interval. \n",
    "\n",
    "What do you conclude? Do the results argue against the reviewer's comment? To make your argument hold, do you need to argue that you sampled your 60species at random from the 5416 known species? Or is random sampling not necessary for the argument here? Justify you answer. "
   ]
  },
  {
   "cell_type": "code",
   "execution_count": 33,
   "metadata": {},
   "outputs": [],
   "source": []
  },
  {
   "cell_type": "markdown",
   "metadata": {},
   "source": []
  },
  {
   "cell_type": "markdown",
   "metadata": {},
   "source": [
    "### Question 3 (5pts)\n",
    "A competing scientist proposed the idea that the amount of total Sleep has nothing to do with the overall brain weight, but rather is just evolutionary different between different orders of mammals. \n",
    "To check this idea on your sample, make a boxplot with TotalSleep  as y-variable and Order as x-variable. Which order sleeps most and which one sleeps least? "
   ]
  },
  {
   "cell_type": "code",
   "execution_count": null,
   "metadata": {},
   "outputs": [],
   "source": []
  },
  {
   "cell_type": "markdown",
   "metadata": {},
   "source": []
  },
  {
   "cell_type": "markdown",
   "metadata": {},
   "source": [
    "### Question 4 (7pts)\n",
    "To compare this competing model with yours, generate dummy-coded variables for the different orders in your sample. Use \"other\" as your reference group. Then run a multiple regression analysis, using all dummy-coded variables as regressors. Report the R2-value, and compare it to the R2 value of the model you fitted in Task3, Question 1. From the result, can you conclude which one is the better model? Justify your answer."
   ]
  },
  {
   "cell_type": "code",
   "execution_count": null,
   "metadata": {
    "scrolled": false
   },
   "outputs": [],
   "source": []
  },
  {
   "cell_type": "markdown",
   "metadata": {},
   "source": []
  },
  {
   "cell_type": "markdown",
   "metadata": {},
   "source": [
    "### Question 5 (5pts)\n",
    "You now want to show that logBrainWt still has a influence on the amount of sleep, even after *accounting* for the order of the mammal. To do this, run a regression analysis with TotalSleep as dependent, and logBrainWt and the dummy-coded variables as a explanatory variable. Report R2 value of the model. Is it bigger than the R2 value in Question 4? What can you conclude from this result?  "
   ]
  },
  {
   "cell_type": "code",
   "execution_count": null,
   "metadata": {},
   "outputs": [],
   "source": []
  },
  {
   "cell_type": "markdown",
   "metadata": {},
   "source": []
  },
  {
   "cell_type": "markdown",
   "metadata": {},
   "source": [
    "### Question 6 (6pts)\n",
    "To test the idea that brain size influence how much mammals sleep, even after accounting for the order, conduct a bootstrap on the model in Question 5. Show a histogram of the slope parameter for logBrainWt, and report the 95% confidence interval. What do you conclude about the idea you set out to test?     "
   ]
  },
  {
   "cell_type": "code",
   "execution_count": 40,
   "metadata": {},
   "outputs": [],
   "source": []
  },
  {
   "cell_type": "markdown",
   "metadata": {},
   "source": []
  },
  {
   "cell_type": "markdown",
   "metadata": {},
   "source": [
    "### Question 7 (5pts)\n",
    "Using the the same bootstrap sample, test the directed hypothesis that mammals with larger brains sleep less, even after accounting for the order of mammal. What do you conclude? "
   ]
  },
  {
   "cell_type": "code",
   "execution_count": null,
   "metadata": {},
   "outputs": [],
   "source": []
  },
  {
   "cell_type": "markdown",
   "metadata": {},
   "source": []
  }
 ],
 "metadata": {
  "kernelspec": {
   "display_name": "Python 3 (ipykernel)",
   "language": "python",
   "name": "python3"
  },
  "language_info": {
   "codemirror_mode": {
    "name": "ipython",
    "version": 3
   },
   "file_extension": ".py",
   "mimetype": "text/x-python",
   "name": "python",
   "nbconvert_exporter": "python",
   "pygments_lexer": "ipython3",
   "version": "3.9.13"
  }
 },
 "nbformat": 4,
 "nbformat_minor": 1
}
