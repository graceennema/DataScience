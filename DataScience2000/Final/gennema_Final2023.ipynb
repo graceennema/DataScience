{
 "cells": [
  {
   "cell_type": "markdown",
   "metadata": {},
   "source": [
    "# DataScience 2000B / Integrated Science 2000B Final 2023\n",
    "\n",
    "\n",
    "## Your Student ID: 251227666\n",
    "\n",
    "## General \n",
    "The instruction for the final exam for DS2000B / IS2002B is included in this Jupyter Notebook. \n",
    "\n",
    "- You are allowed to use any document and source and look up documents on the internet. You are not allowed to use chatGPT, copilot, or any other AI engine that provides programming assistance. \n",
    "- You or not allowed to share documents, or communicate in any other way with people during period of final. Given that there are students with extra time, this is until 6pm.  \n",
    "- You are only allowed to use the python packages listed under \"preliminaries\" - the use of other regression (e.g., statsmodels, numpy polyfit) or machine learning toolboxes (e.g., sklearn) is not permitted. \n",
    "- All the code you are using from previous assignments or labs needs to be included in the notebook. \n",
    "- Most questions also require some written answer. The answer to these questions should be given in full English sentences. \n",
    "- All Figures should be appropriately labeled in x and y axis.  \n",
    "- The Final exam needs to be submitted on OWL (Assignment) before 5:30pm. If you have approved accommodation, you need to submit after 3.5 hrs + your extra time after the start of the exam at 2pm.\n",
    "- Any final submitted later than the alloted time will be scored with 0 pts.  \n",
    "- **It is your responsibility that you submit the correct file. Please check that you uploaded the correct file by downloading the submitted version and opening it in jupyter before you leave the exam room.** "
   ]
  },
  {
   "cell_type": "markdown",
   "metadata": {},
   "source": [
    "## Problem description \n",
    "\n",
    "Companies are increasingly using Machine Learning algorithms and Artificial Intelligence (AI) to select the job applicants that they want to bring in for an interview. Many applications are nowadays not seen by a human at all anymore - the initial screening is done purely by algorithms. \n",
    "\n",
    "These algorithms work in quite similar ways to the classification algorithms (logistic regression) that you've learned in class: They are models with many parameters, which have been optimized on a training set of data (using a loss function and gradient). The best algorithm will then be picked by testing its predictive performance on a left-out test set. \n",
    "\n",
    "The data the algorithm is trained on a large number of applications from previous job-applicants. It tries to predict whether the job candidate was judged to suitable for the job after the interview. These candidates are shortlisted by the algorithm (shortlist, coded 0: not shortlisted, 1: shortlisted).\n",
    "\n",
    "The main problem with these algorithms is that they are often biased, simply because the original training data was biased. That is, if more white males were invited to an interview than females of ethnic minorities, then the algorithm learns that a name such as \"Alexander\" predicts better chances of being suitable for the job than \"Aaliyah\", even if all the other performance indicators are matched. \n",
    "\n",
    "The company that sells the algorithm claims that the algorithm is unbiased. However, you are more critical, and want to test whether this is really true, before recommending to use the algorithm for hiring. "
   ]
  },
  {
   "cell_type": "markdown",
   "metadata": {},
   "source": [
    "You decide to conduct an experiment to test the influence of the first name on the decision. \n",
    "Because the algorithm detects when it gets the same application twice (and dismisses them), every single application must be slightly different. Since you have taken Data Science 2000 - this is no problem for you! You write a program that generate 1500 applications, each with a random GPA, degree, University, font, formatting.\n",
    "\n",
    "You then *randomly* assign whether the first name is male or female. You also *randomly choose* whether the first and last name sound White Canadian, or to belong to an ethnic minority (black, first nation, asian, persian). The CVs are then submitted to the algorithm that then gives you a decision of \"shortlisted\" and \"not shortlisted\". \n",
    "\n",
    "The dataset `recruitment.csv` contains the data with the data frame: \n",
    "\n",
    "* age: age of the candidate in years\n",
    "* undergrad_degree: DataSci, CompSci, or Stats\n",
    "* gender: Likely gender indicated by first name on application (male / female)\n",
    "* minority: Whether the name sounds like it belongs to a Canadian of Caucasian descent or not (0: caucasian, 1: non-caucasian)\n",
    "* shortlist: Whether the candidate was shortlisted by the algorithm (0: not shortlisted, 1: shortlisted)"
   ]
  },
  {
   "cell_type": "code",
   "execution_count": 1,
   "metadata": {},
   "outputs": [],
   "source": [
    "# Preliminaries - you are only allowed to import the following packages\n",
    "import numpy as np\n",
    "import pandas as pd\n",
    "import matplotlib.pyplot as plt\n",
    "import seaborn as sns\n",
    "import scipy.optimize as so"
   ]
  },
  {
   "cell_type": "code",
   "execution_count": 2,
   "metadata": {},
   "outputs": [
    {
     "data": {
      "text/html": [
       "<div>\n",
       "<style scoped>\n",
       "    .dataframe tbody tr th:only-of-type {\n",
       "        vertical-align: middle;\n",
       "    }\n",
       "\n",
       "    .dataframe tbody tr th {\n",
       "        vertical-align: top;\n",
       "    }\n",
       "\n",
       "    .dataframe thead th {\n",
       "        text-align: right;\n",
       "    }\n",
       "</style>\n",
       "<table border=\"1\" class=\"dataframe\">\n",
       "  <thead>\n",
       "    <tr style=\"text-align: right;\">\n",
       "      <th></th>\n",
       "      <th>age</th>\n",
       "      <th>undergrad_degree</th>\n",
       "      <th>gender</th>\n",
       "      <th>minority</th>\n",
       "      <th>GPA</th>\n",
       "      <th>shortlist</th>\n",
       "    </tr>\n",
       "  </thead>\n",
       "  <tbody>\n",
       "    <tr>\n",
       "      <th>0</th>\n",
       "      <td>24</td>\n",
       "      <td>CompSci</td>\n",
       "      <td>female</td>\n",
       "      <td>1</td>\n",
       "      <td>3.73</td>\n",
       "      <td>1</td>\n",
       "    </tr>\n",
       "    <tr>\n",
       "      <th>1</th>\n",
       "      <td>31</td>\n",
       "      <td>DataSci</td>\n",
       "      <td>female</td>\n",
       "      <td>1</td>\n",
       "      <td>2.82</td>\n",
       "      <td>0</td>\n",
       "    </tr>\n",
       "    <tr>\n",
       "      <th>2</th>\n",
       "      <td>30</td>\n",
       "      <td>DataSci</td>\n",
       "      <td>female</td>\n",
       "      <td>1</td>\n",
       "      <td>1.83</td>\n",
       "      <td>0</td>\n",
       "    </tr>\n",
       "    <tr>\n",
       "      <th>3</th>\n",
       "      <td>28</td>\n",
       "      <td>DataSci</td>\n",
       "      <td>female</td>\n",
       "      <td>1</td>\n",
       "      <td>2.32</td>\n",
       "      <td>0</td>\n",
       "    </tr>\n",
       "    <tr>\n",
       "      <th>4</th>\n",
       "      <td>28</td>\n",
       "      <td>CompSci</td>\n",
       "      <td>female</td>\n",
       "      <td>0</td>\n",
       "      <td>3.91</td>\n",
       "      <td>0</td>\n",
       "    </tr>\n",
       "    <tr>\n",
       "      <th>...</th>\n",
       "      <td>...</td>\n",
       "      <td>...</td>\n",
       "      <td>...</td>\n",
       "      <td>...</td>\n",
       "      <td>...</td>\n",
       "      <td>...</td>\n",
       "    </tr>\n",
       "    <tr>\n",
       "      <th>1495</th>\n",
       "      <td>28</td>\n",
       "      <td>CompSci</td>\n",
       "      <td>female</td>\n",
       "      <td>0</td>\n",
       "      <td>3.11</td>\n",
       "      <td>0</td>\n",
       "    </tr>\n",
       "    <tr>\n",
       "      <th>1496</th>\n",
       "      <td>29</td>\n",
       "      <td>DataSci</td>\n",
       "      <td>male</td>\n",
       "      <td>1</td>\n",
       "      <td>2.45</td>\n",
       "      <td>0</td>\n",
       "    </tr>\n",
       "    <tr>\n",
       "      <th>1497</th>\n",
       "      <td>31</td>\n",
       "      <td>CompSci</td>\n",
       "      <td>male</td>\n",
       "      <td>1</td>\n",
       "      <td>3.17</td>\n",
       "      <td>1</td>\n",
       "    </tr>\n",
       "    <tr>\n",
       "      <th>1498</th>\n",
       "      <td>28</td>\n",
       "      <td>CompSci</td>\n",
       "      <td>male</td>\n",
       "      <td>1</td>\n",
       "      <td>2.37</td>\n",
       "      <td>1</td>\n",
       "    </tr>\n",
       "    <tr>\n",
       "      <th>1499</th>\n",
       "      <td>32</td>\n",
       "      <td>CompSci</td>\n",
       "      <td>male</td>\n",
       "      <td>0</td>\n",
       "      <td>3.46</td>\n",
       "      <td>1</td>\n",
       "    </tr>\n",
       "  </tbody>\n",
       "</table>\n",
       "<p>1500 rows × 6 columns</p>\n",
       "</div>"
      ],
      "text/plain": [
       "      age undergrad_degree  gender  minority   GPA  shortlist\n",
       "0      24          CompSci  female         1  3.73          1\n",
       "1      31          DataSci  female         1  2.82          0\n",
       "2      30          DataSci  female         1  1.83          0\n",
       "3      28          DataSci  female         1  2.32          0\n",
       "4      28          CompSci  female         0  3.91          0\n",
       "...   ...              ...     ...       ...   ...        ...\n",
       "1495   28          CompSci  female         0  3.11          0\n",
       "1496   29          DataSci    male         1  2.45          0\n",
       "1497   31          CompSci    male         1  3.17          1\n",
       "1498   28          CompSci    male         1  2.37          1\n",
       "1499   32          CompSci    male         0  3.46          1\n",
       "\n",
       "[1500 rows x 6 columns]"
      ]
     },
     "execution_count": 2,
     "metadata": {},
     "output_type": "execute_result"
    }
   ],
   "source": [
    "df = pd.read_csv(\"recruitment.csv\")\n",
    "df"
   ]
  },
  {
   "cell_type": "markdown",
   "metadata": {},
   "source": [
    "## Task 1: (26pts)\n",
    "### Questions 1.1: (3pts)\n",
    "Calculate the probability of being shortlisted by the algorithm with a male and female name. Report the probabilities. "
   ]
  },
  {
   "cell_type": "code",
   "execution_count": 3,
   "metadata": {},
   "outputs": [
    {
     "data": {
      "text/html": [
       "<div>\n",
       "<style scoped>\n",
       "    .dataframe tbody tr th:only-of-type {\n",
       "        vertical-align: middle;\n",
       "    }\n",
       "\n",
       "    .dataframe tbody tr th {\n",
       "        vertical-align: top;\n",
       "    }\n",
       "\n",
       "    .dataframe thead th {\n",
       "        text-align: right;\n",
       "    }\n",
       "</style>\n",
       "<table border=\"1\" class=\"dataframe\">\n",
       "  <thead>\n",
       "    <tr style=\"text-align: right;\">\n",
       "      <th>shortlist</th>\n",
       "      <th>0</th>\n",
       "      <th>1</th>\n",
       "      <th>All</th>\n",
       "    </tr>\n",
       "    <tr>\n",
       "      <th>gender</th>\n",
       "      <th></th>\n",
       "      <th></th>\n",
       "      <th></th>\n",
       "    </tr>\n",
       "  </thead>\n",
       "  <tbody>\n",
       "    <tr>\n",
       "      <th>female</th>\n",
       "      <td>542</td>\n",
       "      <td>179</td>\n",
       "      <td>721</td>\n",
       "    </tr>\n",
       "    <tr>\n",
       "      <th>male</th>\n",
       "      <td>559</td>\n",
       "      <td>220</td>\n",
       "      <td>779</td>\n",
       "    </tr>\n",
       "    <tr>\n",
       "      <th>All</th>\n",
       "      <td>1101</td>\n",
       "      <td>399</td>\n",
       "      <td>1500</td>\n",
       "    </tr>\n",
       "  </tbody>\n",
       "</table>\n",
       "</div>"
      ],
      "text/plain": [
       "shortlist     0    1   All\n",
       "gender                    \n",
       "female      542  179   721\n",
       "male        559  220   779\n",
       "All        1101  399  1500"
      ]
     },
     "metadata": {},
     "output_type": "display_data"
    },
    {
     "name": "stdout",
     "output_type": "stream",
     "text": [
      "The marginal probablity of being shortlisted if male is 0.28241335044929394\n",
      "The marginal probablity of being shortlisted if female is 0.24826629680998613\n"
     ]
    }
   ],
   "source": [
    "table = pd.crosstab(df['gender'], df['shortlist'], margins = True) # Same table as task 2 Q1 but with margins\n",
    "display(table)\n",
    "\n",
    "mpSM = table.iloc[1][1]/ table.iloc[1][\"All\"]\n",
    "\n",
    "mpSF = table.iloc[0][1]/table.iloc[0][\"All\"]\n",
    "\n",
    "print(\"The marginal probablity of being shortlisted if male is\", mpSM)\n",
    "print(\"The marginal probablity of being shortlisted if female is\", mpSF)"
   ]
  },
  {
   "cell_type": "markdown",
   "metadata": {},
   "source": [
    "### Question 1.2: (3pts)\n",
    "Write a function that takes a data frame as input and then returns the difference in probability of being shortlisted by the algorithm between males and females. \n",
    "\n",
    "Call the function with the real data and report the difference in percentage of male and female candidates being shortlisted. "
   ]
  },
  {
   "cell_type": "code",
   "execution_count": 35,
   "metadata": {},
   "outputs": [
    {
     "name": "stdout",
     "output_type": "stream",
     "text": [
      "The difference in percentage of male and female candidates being shortlisted is 3.414705363930781\n"
     ]
    }
   ],
   "source": [
    "def diff(D):\n",
    "    # Best way def not but it gets the job done.... time crunch fix later\n",
    "    table = pd.crosstab(D['gender'], D['shortlist'], margins = True)\n",
    "    mpSM = table.iloc[1][1]/ table.iloc[1][\"All\"] \n",
    "    mpSF = table.iloc[0][1]/table.iloc[0][\"All\"]\n",
    "    \n",
    "    diff = (mpSM - mpSF)\n",
    "    \n",
    "    return diff\n",
    "\n",
    "print(\"The difference in percentage of male and female candidates being shortlisted is\", diff(df)*100)"
   ]
  },
  {
   "cell_type": "markdown",
   "metadata": {},
   "source": [
    "### Question 1.3: (8pts)\n",
    "In this question, you will determine whether the gender difference found in Q.1.2 is significant.\n",
    "\n",
    "You want to test the hypothesis that the algorithm takes the (likely) gender of the first name on the application into account when making shortlisting decisions. \n",
    "\n",
    "* Formulate the Null-hypothesis\n",
    "* Conduct a randomization test where you randomly randomly shuffle the column of the dataframe that is exchangeable under the Null hypothesis. \n",
    "* **Plot a histogram of the difference in probability between male and female candidates.**\n",
    "* Choose whether you are conducting a one-sided or two-sided test\n",
    "* Report the p-value for testing the the hypothesis and draw a conclusion"
   ]
  },
  {
   "cell_type": "markdown",
   "metadata": {},
   "source": [
    "H0: There is no difference in shortlisting decisions when gender is accounted for  \n",
    "HA: There is a difference in shortlisting decisions when gender is accounted for"
   ]
  },
  {
   "cell_type": "code",
   "execution_count": 36,
   "metadata": {},
   "outputs": [],
   "source": [
    "def permutation_test(frame, fnc, shuffle, numIter = 500, sides = 1, pBin = 25):\n",
    "    sample = np.array([])\n",
    "    \n",
    "    for i in range(0, numIter):\n",
    "        df_copy = frame.copy()\n",
    "        idx = df_copy.index\n",
    "        idx_arr = np.arange(0, len(idx))\n",
    "        np.random.shuffle(idx_arr)\n",
    "        shuffled_gender = df_copy[shuffle].iloc[idx_arr]\n",
    "        shuffled_gender_id = shuffled_gender.reset_index(drop = True)\n",
    "        df_copy[shuffle] = shuffled_gender_id\n",
    "        sample = np.append(sample, fnc(df_copy))\n",
    "        \n",
    "    # Graph     \n",
    "    fig, axes = plt.subplots(nrows = 1, ncols = 1, figsize = (20,10))\n",
    "    axes.hist(sample, bins = pBin, color = 'b')\n",
    "    plt.axvline(x = fnc(frame), color = 'r')\n",
    "    axes.set_ylabel(\"Number of Observations\")\n",
    "    axes.set_xlabel(f\"Result of test\")\n",
    "    \n",
    "    # P-Value\n",
    "    if sides == 2:\n",
    "        plt.axvline(x = -(fnc(frame)), color = 'r')\n",
    "        a = np.absolute(sample) >= fnc(frame)\n",
    "        twosided = sum(a) / len(sample)\n",
    "    \n",
    "        print(f\"The result of the two sided test is {twosided}\")\n",
    "        \n",
    "    else:\n",
    "        a = sample >= fnc(frame)\n",
    "        p = sum(a) / len(sample)\n",
    "        print(f\"The p-value is {p}\")\n",
    "    \n",
    "    return sample\n",
    "\n",
    "def X2(data, x = \"gender\", y = \"shortlist\"):\n",
    "    table = pd.crosstab(data[x], data[y])\n",
    "    tabArr = np.array(table)\n",
    "    \n",
    "    nrow, ncol = tabArr.shape\n",
    "    expectArr = np.zeros([nrow, ncol])\n",
    "    \n",
    "    sObservedCol = np.sum(tabArr, axis = 0)\n",
    "    sObservedRow = np.sum(tabArr, axis = 1)\n",
    "\n",
    "    for i in range(0, len(sObservedCol)):\n",
    "\n",
    "        marginalC = sObservedCol[i]\n",
    "\n",
    "        for j in range (0, len(sObservedRow)):\n",
    "\n",
    "            marginalH = sObservedRow[j]\n",
    "\n",
    "            expectArr[j,i] = (marginalH * marginalC) / np.sum(tabArr)\n",
    "            \n",
    "    X2 = np.sum((tabArr - expectArr)**2/expectArr)\n",
    "    return X2"
   ]
  },
  {
   "cell_type": "code",
   "execution_count": 59,
   "metadata": {},
   "outputs": [
    {
     "name": "stdout",
     "output_type": "stream",
     "text": [
      "The result of the two sided test is 0.1448\n"
     ]
    },
    {
     "data": {
      "image/png": "[encoded data removed]",
      "text/plain": [
       "<Figure size 2000x1000 with 1 Axes>"
      ]
     },
     "metadata": {},
     "output_type": "display_data"
    }
   ],
   "source": [
    "store = permutation_test(df, diff, shuffle = \"gender\", numIter = 5000, sides = 2, pBin = 25)"
   ]
  },
  {
   "cell_type": "markdown",
   "metadata": {},
   "source": [
    "The p value is over 0.05 (my value is 0.1448) and therefore the null hypothesis that there is no difference in shortlisting decisions when gender is accounted for cannot be rejected. "
   ]
  },
  {
   "cell_type": "markdown",
   "metadata": {},
   "source": [
    "### Question 1.4 (5pts)\n",
    "In this question we will test whether the algorithm is biased against women of ethnic minorities. We will do this by comparing the probability of being shortlisted for a application with a female minority name to anybody else. \n",
    "\n",
    "Add a new column entitled 'female_minority' that is 1 if the name indicates the the applicant is both female AND a member of a minority, and 0 otherwise. \n",
    "\n",
    "Write a function that returns the difference in the probability of getting shortlisted for female members of an ethnic minority against anybody else. Report the difference between the two groups. "
   ]
  },
  {
   "cell_type": "code",
   "execution_count": 56,
   "metadata": {
    "scrolled": false
   },
   "outputs": [
    {
     "name": "stdout",
     "output_type": "stream",
     "text": [
      "The difference in being short listed as a minority female as opposed to anyone shortlisted within all applicants is 0.08481002825544473\n"
     ]
    },
    {
     "name": "stderr",
     "output_type": "stream",
     "text": [
      "/var/folders/89/nzdnlgpx6j36hmhlf7gs7k7c0000gn/T/ipykernel_1751/607542534.py:4: SettingWithCopyWarning: \n",
      "A value is trying to be set on a copy of a slice from a DataFrame\n",
      "\n",
      "See the caveats in the documentation: https://pandas.pydata.org/pandas-docs/stable/user_guide/indexing.html#returning-a-view-versus-a-copy\n",
      "  df.female_minority[i] = 1\n"
     ]
    }
   ],
   "source": [
    "df[\"female_minority\"] = np.zeros(len(df.index))\n",
    "for i in range(len(df.index)):\n",
    "    if df.gender[i] == \"female\" and df.minority[i] == 1:\n",
    "        df.female_minority[i] = 1\n",
    "#display(df)\n",
    "\n",
    "def diff2(D):\n",
    "    \n",
    "    table = pd.crosstab(D['female_minority'], D['shortlist'], margins = True)\n",
    "    mpO = table.iloc[0][1]/ table.iloc[0][\"All\"] \n",
    "    mpFM = table.iloc[1][1]/table.iloc[1][\"All\"]\n",
    "    diff = (mpO - mpFM)\n",
    "    return diff\n",
    "\n",
    "print(\"The difference in being short listed as a minority female as opposed to anyone shortlisted within all applicants is\", diff2(df))"
   ]
  },
  {
   "cell_type": "markdown",
   "metadata": {},
   "source": [
    "### Question 1.5: (7pts)\n",
    "In this question you will determine whether the difference observed in Q.1.4 constitute significant discrimination against women of ethics minorities. \n",
    "\n",
    "You want to test the hypothesis that the algorithm is *less likely* to shortlist the candidate, if the name on the application suggests that the applicant is both female and a member of a minority.  \n",
    "\n",
    "* Formulate the Null-hypothesis \n",
    "* Conduct a randomization test (with at least 5000 iterations) where you randomly randomly shuffle the column of the dataframe that is exchangeable under the Null hypothesis. \n",
    "* Plot a histogram of the difference in probability between male and female candidates. \n",
    "* Choose whether you are conducting a one-sided or two-sided test\n",
    "* Report the p-value for testing the the hypothesis and draw a conclusion"
   ]
  },
  {
   "cell_type": "markdown",
   "metadata": {},
   "source": [
    "H0: There is no difference in shortlisting decisions when the applicant is a female and minority   \n",
    "HA: A minority female is less likely to make the shortlist"
   ]
  },
  {
   "cell_type": "code",
   "execution_count": 58,
   "metadata": {},
   "outputs": [
    {
     "name": "stdout",
     "output_type": "stream",
     "text": [
      "The p-value is 0.006\n"
     ]
    },
    {
     "data": {
      "image/png": "[encoded data removed]",
      "text/plain": [
       "<Figure size 2000x1000 with 1 Axes>"
      ]
     },
     "metadata": {},
     "output_type": "display_data"
    }
   ],
   "source": [
    "store = permutation_test(df, diff2, shuffle = \"shortlist\", numIter = 5000, sides = 1, pBin = 25)"
   ]
  },
  {
   "cell_type": "markdown",
   "metadata": {},
   "source": [
    "The p-value is less 0.05 (mine was 0.006) than and therefore the null hypothesis that there is no difference in shortlisting decisions when the applicant is a female and minority can be rejected"
   ]
  },
  {
   "cell_type": "markdown",
   "metadata": {},
   "source": [
    "## Task 2: (25pts)\n",
    "\n",
    "Instead of just doing a randomization test to test your hypotheses, you decide that you also need to account for possible other differences between the applications. \n",
    "Even though you randomly assigned the name to each application, you cannot be sure that they are exactly matched between the groups. \n",
    "So you decided to build and test different models of the shortlisting decision of the algorithm. "
   ]
  },
  {
   "cell_type": "markdown",
   "metadata": {},
   "source": [
    "## Question 2.1: (4pts) \n",
    "\n",
    "Create dummy coded variables for gender (male / female) \n",
    "and undergraduate major (DataSci, CompSci, Stats).\n",
    "\n",
    "You are free to choose on of the variables as comparison group - just be aware that it will influence the your interpretation of the regression coefficients later on. \n",
    "\n",
    "Based on your dummy variable, report the proportion of applications that have labels with having a \"Data Science\" Major. "
   ]
  },
  {
   "cell_type": "code",
   "execution_count": 61,
   "metadata": {},
   "outputs": [
    {
     "name": "stdout",
     "output_type": "stream",
     "text": [
      "0.34\n",
      "number of data sci majors / total\n"
     ]
    }
   ],
   "source": [
    "# Comp group male\n",
    "dFemale = df['gender'] == 'female'\n",
    "dFemale = np.double(dFemale)\n",
    "df['dFemale']  = dFemale\n",
    "\n",
    "# Comp group stats\n",
    "dDS = df['undergrad_degree'] == 'DataSci'\n",
    "dDS = np.double(dDS)\n",
    "df['dDS']  = dDS\n",
    "\n",
    "dCS = df['undergrad_degree'] == 'CompSci'\n",
    "dCS = np.double(dCS)\n",
    "df['dCS']  = dCS\n",
    "\n",
    "print(sum(dDS)/len(df.index))\n",
    "print(\"number of data sci majors / total\")\n"
   ]
  },
  {
   "cell_type": "markdown",
   "metadata": {},
   "source": [
    "34% of application have data science listed as their major"
   ]
  },
  {
   "cell_type": "markdown",
   "metadata": {},
   "source": [
    "### Question 2.2: Build regression model (9pts)\n",
    "\n",
    "Build a regression model to predict the shortlisting decision (1/0) of the algorithm based on the following variables:\n",
    "\n",
    "* gender (dummy coded)\n",
    "* undergrad_degree (dummy coded)\n",
    "* minority\n",
    "* GPA \n",
    "\n",
    "\n",
    "Written answer: From among multiple Regression, median regression, and logistic regression, choose the most appropriate regression technique and justify your choice. \n",
    "\n",
    "Estimate and report the parameters of your model. \n",
    "\n",
    "Written answer: Interpret the gender, minority, and undergraduate degree effects. Which of the groups does the algorithm have a preference for? "
   ]
  },
  {
   "cell_type": "markdown",
   "metadata": {},
   "source": [
    "In muliple regression the response variable is explained by a linear combination of response variables. In log regression you are aiming to fit probability values. I think that the most appropriate technique is multiple regression because you are looking at how different variables specifically affect the shortlisting decision. "
   ]
  },
  {
   "cell_type": "code",
   "execution_count": 9,
   "metadata": {},
   "outputs": [],
   "source": [
    "def multiRegPredict(b, df, xname):\n",
    "\n",
    "    ## the intercept is the first element of the parameter array multiplied by 1.\n",
    "    yp = np.ones(len(df.index)) * b[0]\n",
    "\n",
    "    for i in range(len(xname)):\n",
    "        xcurrent = df[xname[i]]\n",
    "        yp = yp + b[i+1]*xcurrent # Add each regression value \n",
    "\n",
    "    return yp\n",
    "\n",
    "def multiRegLossRSS(b, df, y, xname):\n",
    "    # 1. calculate the residuals\n",
    "    yp = multiRegPredict(b, df, xname)\n",
    "\n",
    "    res = y - yp\n",
    "    res2 = res ** 2\n",
    "    RSS = sum(res2)\n",
    "    \n",
    "    \n",
    "    # 1. initialize the derivative array\n",
    "    deriv = np.zeros(len(b))\n",
    "\n",
    "    ## the first element will be the derivative in respect to the intercept\n",
    "    deriv[0] = -2*sum(res)\n",
    "    \n",
    "    # 2. build up the array using a for loop \n",
    "    for i in range(0, len(xname)):\n",
    "        deriv[i+1] = -2*np.sum(df[xname[i]]*res)\n",
    "    \n",
    "    return RSS, deriv\n",
    "\n",
    "def multiRegFit(df, y, xname):\n",
    "    b0 = np.zeros(len(xname)+1)\n",
    "    \n",
    "    result = so.minimize(multiRegLossRSS, b0, args=(df, y, xname), jac=True)\n",
    "    \n",
    "    b = result.x\n",
    "    \n",
    "    TSS = sum((y - np.mean(y))**2)\n",
    "\n",
    "    RSS, deriv = multiRegLossRSS(b,df,y,xname)\n",
    "    R2 = 1 - RSS/TSS \n",
    "\n",
    "    return R2, b"
   ]
  },
  {
   "cell_type": "code",
   "execution_count": 10,
   "metadata": {},
   "outputs": [
    {
     "name": "stdout",
     "output_type": "stream",
     "text": [
      "The fit (R2) is 0.015592140579468339\n",
      "the regression coeff are [ 0.12622031 -0.03807095  0.04160483 -0.03704301 -0.06445137  0.05930364]\n"
     ]
    }
   ],
   "source": [
    "R2, b  = multiRegFit(df, y = df[\"shortlist\"], xname = [\"dFemale\", \"dDS\", \"dCS\", \"minority\", \"GPA\"])\n",
    "print(\"The fit (R2) is\", R2)\n",
    "print(\"the regression coeff are\", b)"
   ]
  },
  {
   "cell_type": "markdown",
   "metadata": {},
   "source": [
    "\n",
    "The algorithm has the biggest preference for gender as it has the largest regression coeff. "
   ]
  },
  {
   "cell_type": "markdown",
   "metadata": {},
   "source": [
    "### Question 2.3: (8pts)\n",
    "Use Model comparison to determine whether gender has an effect on the probability of being shortlisted, after we account for the variables (minority, undergrad_degree, and GPA). \n",
    "\n",
    "Compare the models using 50-fold cross-validation to determine the cross-validated prediction performance the two appropriate model.\n",
    "\n",
    "Is there positive evidence (in the sense of Kass & Raftery, 1995) for an effect of gender on the algorithms decision, after we account for minority, undergrad_degree, and GPA."
   ]
  },
  {
   "cell_type": "code",
   "execution_count": 83,
   "metadata": {},
   "outputs": [],
   "source": [
    "# def logisticRegPredict(b,D,xname):\n",
    "#     yp=np.ones(len(D.index))*b[0]       # Start out with the intercept  \n",
    "#     for i in range(len(xname)):\n",
    "#         yp=yp+D[xname[i]]*b[i+1]        # Add the prediction of each regressor seperately \n",
    "#     p = np.exp(yp)/(1+np.exp(yp))\n",
    "#     p = p.clip(1e-12,1-(1e-12))\n",
    "#     return p \n",
    "    \n",
    "# def logisticRegLoss(b,D,y,xname):\n",
    "#     p = logisticRegPredict(b,D,xname)\n",
    "#     cost = -y*np.log(p)-(1-y)*np.log(1-p)\n",
    "#     N=len(xname)\n",
    "#     grad=np.zeros(N+1)\n",
    "#     res = y-p\n",
    "#     grad[0]=-sum(res)\n",
    "#     for i in range(N):\n",
    "#         grad[i+1]=-np.sum(D[xname[i]]*res)         # Add each regressor \n",
    "#     return (cost.sum(),grad)\n",
    "    \n",
    "# def logisticRegFit(D,y,xname,figure=0,b0=[]):\n",
    "#     k=len(xname)+1\n",
    "#     if (len(b0)!=k):\n",
    "#         b0=np.zeros(k)\n",
    "#     RES = so.minimize(logisticRegLoss,b0,args=(D,y,xname),jac=True)\n",
    "#     b = RES.x\n",
    "#     ll = -RES.fun # Negative function value is the log likelihood \n",
    "#     p = logisticRegPredict(b,D,xname)\n",
    "#     if (k==2 & figure==1):\n",
    "#         fig = plt.figure()\n",
    "#         ax = fig.add_subplot(1,1,1)\n",
    "#         ax.scatter(D[xname[0]],y)\n",
    "#         xRange=[min(D[xname[0]]),max(D[xname[0]])]\n",
    "#         xp=np.arange(xRange[0],xRange[1],(xRange[1]-xRange[0])/50)\n",
    "#         yp=b[0]+b[1]*xp\n",
    "#         pp=np.exp(yp)/(1+np.exp(yp))\n",
    "#         ax.plot(xp,pp,'r-')\n",
    "#         ax.spines['top'].set_visible(False)\n",
    "#         ax.spines['right'].set_visible(False)\n",
    "#     return (ll,b)\n",
    "\n",
    "\n",
    "# def KfoldCVlogisticReg(D,y,xname,K=20,fitfcn=logisticRegFit,predictfcn=logisticRegPredict):\n",
    "#     N = len(y) #Number of observations\n",
    "#     yp= np.zeros(N)\n",
    "#     ind = np.arange(N)\n",
    "#     ind = np.floor(ind/N*K)\n",
    "    \n",
    "#     # Get overall model fit \n",
    "#     LL,b_all=fitfcn(D,y,xname,figure=0)\n",
    "    \n",
    "#     # Loop over the crossvalidation folds \n",
    "#     for i in range(K):\n",
    "#         r,b=fitfcn(D[ind!=i],y[ind!=i],xname,b0=b_all,figure=0)\n",
    "#         yp[ind==i]=predictfcn(b,D[ind==i],xname)\n",
    "#     LLcv = sum(y*np.log(yp)+(1-y)*np.log(1-yp))\n",
    "#     return LLcv,LL \n",
    "\n",
    "def multRegPredict(b,D,xname):\n",
    "    \"\"\"Prediction function for multipel regression \n",
    "\n",
    "    Args:\n",
    "        b (nd.array): Array of regression coefficients - first is intercept \n",
    "        D (pd.DataFrame): Pandas data frame with explanatory variables\n",
    "        xname (list): List of strings with names of explanatory variables  \n",
    "\n",
    "    Returns:\n",
    "        yp (nd.array): Predicted y - values \n",
    "    \"\"\"\n",
    "    yp=np.ones(len(D.index))*b[0]        # Intercept \n",
    "    for i in range(len(xname)):          \n",
    "        yp=yp+D[xname[i]]*b[i+1]         # Add each regression value \n",
    "    return yp \n",
    "\n",
    "def multRegLossRSS(b,D,y,xname):\n",
    "    \"\"\"Loss function for OLS multiple regression \n",
    "\n",
    "    Args:\n",
    "        b (nd.array): Array of regression coefficients - first is intercept \n",
    "        D (pd.DataFrame): Pandas data frame with explanatory variables\n",
    "        y (ndarray): Dependent variable \n",
    "        xname (list): List of strings with names of explanatory variables  \n",
    "\n",
    "    Returns:\n",
    "        rss: Current loss\n",
    "        grad: gradient of loss function in respect to parameters  \n",
    "    \"\"\"\n",
    "    predY = multRegPredict(b,D,xname)\n",
    "    res = y-predY\n",
    "    rss = sum(res**2)\n",
    "    grad=np.zeros(len(b))\n",
    "    grad[0]=-2*np.sum(res)\n",
    "    for i in range(len(xname)):\n",
    "        grad[i+1]=-2*np.sum(D[xname[i]]*res)\n",
    "    return (rss,grad)\n",
    "\n",
    "def multRegFit(D,y,xname=[],figure=0,b0=[]):\n",
    "    \"\"\"Fits a multiple regression loss function \n",
    "\n",
    "    Args:\n",
    "        D (pd.DataFrame): Pandas data frame with explanatory variables\n",
    "        y (ndarray): Dependent variable \n",
    "        xname (list): List of strings with names of explanatory variables  \n",
    "        figure (int): Plot figure? Defaults to 0.\n",
    "        b0 (np.ndarray). Initial guess for the parameter vector\n",
    "\n",
    "    Returns:\n",
    "        R2: Fitted R2 value \n",
    "        b: Fitted \n",
    "    \"\"\"\n",
    "    k=len(xname)+1\n",
    "    if (len(b0)!=k):\n",
    "        b0=np.zeros((k,))\n",
    "    RES = so.minimize(multRegLossRSS,b0,args=(D,y,xname),jac=True)\n",
    "    b=RES.x # Results\n",
    "    res = y-np.mean(y)\n",
    "    TSS = sum(res**2)\n",
    "    RSS,deriv = multRegLossRSS(b,D,y,xname)\n",
    "    R2 = 1-RSS/TSS \n",
    "    if (k==2 and figure==1):\n",
    "        fig = plt.figure()\n",
    "        ax = fig.add_subplot(1,1,1)\n",
    "        ax.scatter(D[xname[0]],y)\n",
    "        xRange=[min(D[xname[0]]),max(D[xname[0]])]\n",
    "        xp=np.arange(xRange[0],xRange[1],(xRange[1]-xRange[0])/50)\n",
    "        yp=b[0]+b[1]*xp\n",
    "        ax.plot(xp,yp,'r-')\n",
    "        ax.spines['top'].set_visible(False)\n",
    "        ax.spines['right'].set_visible(False)\n",
    "    return (R2,b)\n",
    "\n",
    "def KfoldCVmultReg(D,y,xname,K=20):\n",
    "\n",
    "    N = len(y) #Number of observations\n",
    "    yp= np.zeros(N)\n",
    "\n",
    "    # Make an index vector with K folds\n",
    "    ind = np.arange(N)\n",
    "    ind = np.floor(ind/N*K)\n",
    "    \n",
    "    # Get overall model fit \n",
    "    R2,b_all=multRegFit(D,y,xname)\n",
    "\n",
    "    # Loop over the crossvalidation folds \n",
    "    for i in range(K):\n",
    "        r,b=multRegFit(D[ind!=i],y[ind!=i],xname,b0=b_all)\n",
    "        yp[ind==i]=multRegPredict(b,D[ind==i],xname)\n",
    "        \n",
    "    # Calculate crossvalidated model fit \n",
    "    TSS  = sum((y-y.mean())**2)\n",
    "    RSScv = sum((y-yp)**2)\n",
    "    R2cv = 1-RSScv/TSS\n",
    "    return R2cv,R2 "
   ]
  },
  {
   "cell_type": "code",
   "execution_count": 84,
   "metadata": {
    "scrolled": true
   },
   "outputs": [
    {
     "data": {
      "text/plain": [
       "(0.007833226524507686, 0.015592140579468117)"
      ]
     },
     "execution_count": 84,
     "metadata": {},
     "output_type": "execute_result"
    }
   ],
   "source": [
    "KfoldCVmultReg(df, y = df[\"shortlist\"], xname = [\"dFemale\", \"dDS\", \"dCS\", \"minority\", \"GPA\"], K=50)\n",
    "\n",
    "# Bayes factor division\n",
    "#BF10 = BF1/BF0 but logistic... "
   ]
  },
  {
   "cell_type": "markdown",
   "metadata": {},
   "source": [
    "| Bayes Factor        | Log Bayes Factor |Evidence         |\n",
    "|---------|----------|----------|\n",
    "| <1    |  <0 | Negative, in favour of the other hypothesis |\n",
    "| 1-3 | 0-1 | Barely worth mentioning |\n",
    "| 3-20  | 1-3  | Positive              | \n",
    "| 20-150| 3-5  | Strong|\n",
    "|>150| >5  | Very Strong\n",
    "\n",
    "Based on the evidence from the bayes factor calculated I can draw the conclusion that the evidence is XXXXX, based on the table above.  \n",
    "\n",
    "*I could not not get the right values. After obtainsing the two values you divide for the factor and using the number obtained you can use the table.*"
   ]
  },
  {
   "cell_type": "markdown",
   "metadata": {},
   "source": [
    "### Question 2.4 (4pts)\n",
    "Now use the same approach as in Question 2.3 to test whether being a female AND a member of minority has an influence of the algorithms decision, after we  account for the influence of GPA and undergraduate degree. "
   ]
  },
  {
   "cell_type": "code",
   "execution_count": 86,
   "metadata": {},
   "outputs": [
    {
     "data": {
      "text/plain": [
       "(-0.00204103433071956, 0.003160248001413013)"
      ]
     },
     "execution_count": 86,
     "metadata": {},
     "output_type": "execute_result"
    }
   ],
   "source": [
    "KfoldCVmultReg(df, y = df[\"female_minority\"], xname = [\"dDS\", \"dCS\", \"GPA\"], K=50)"
   ]
  },
  {
   "cell_type": "markdown",
   "metadata": {},
   "source": [
    "The negative R2cv means that degree and GPA do not add predictive value. Because it is lower than 0 a simple mean may be a better predictor."
   ]
  },
  {
   "cell_type": "markdown",
   "metadata": {},
   "source": [
    "## Task 3: Regularized logistic regression (19pts)\n",
    "Because there are so many potential variables that could influence the algorithm's decision, you want to implement a L2-regularized version of logistic regression. \n",
    "Having taken Data Science 2000, you decide to do it the hard (and heroic) way, and write the code yourself. That way you can be sure your really know what is going on!"
   ]
  },
  {
   "cell_type": "markdown",
   "metadata": {},
   "source": [
    "### Question 3.1  (3pts)\n",
    "\n",
    "Z-standarize the variables GPA, age, gender (dummy coded), minority (dummy coded). \n",
    "\n",
    "Check that the variables have after standardization (approximately) a mean of 0 and a standard deviation of 1 by reporting the mean and standard deviations of one of the variables. "
   ]
  },
  {
   "cell_type": "code",
   "execution_count": 87,
   "metadata": {},
   "outputs": [
    {
     "name": "stdout",
     "output_type": "stream",
     "text": [
      "Mean: 1.2034817586936698e-16\n",
      "Std: 1.0000000000000024\n"
     ]
    }
   ],
   "source": [
    "def zstandardize(d):\n",
    "    d = (d-d.mean())/d.std()\n",
    "    return d\n",
    "\n",
    "df['zAge'] = zstandardize(df.age)\n",
    "df['zGPA'] = zstandardize(df.GPA)\n",
    "df['zdFemale'] = zstandardize(df.dFemale)\n",
    "df[\"zMinority\"] = zstandardize(df.minority)\n",
    "\n",
    "print('Mean:',df.zAge.mean())\n",
    "print('Std:',df.zAge.std())"
   ]
  },
  {
   "cell_type": "markdown",
   "metadata": {},
   "source": [
    "### Question 3.2 (7pts)\n",
    "Change the loss function for logistic regression (i.e. see Assignment 11 solutions) to include L2-regularization.\n",
    "\n",
    "Regularize all regression coefficients except the intercept with a regularization coefficient of alpha = 0.1. \n",
    "Adjust the gradients accordingly.\n",
    "\n",
    "Calculate the loss and gradients for the regularized logistic regression model, using the variables: \n",
    "\n",
    "* Intercept \n",
    "* age (z-standardized)\n",
    "* GPA (z-standardized)\n",
    "* gender (dummy coded and z-standardized)\n",
    "* minority (dummy coded and z-standardized)\n",
    "\n",
    "\n",
    "Report the loss and gradient for the regularized model (alpha = 0.1) and compare it to the loss for the unregularized model for the parameters \n",
    "`b= [-0.5,0.2,0.3,-0.2,-0.2]`\n",
    "(these are the regression coefficients for [intercept, ageZ, GPAZ, genderZ, minorityZ])\n",
    "\n",
    "Written answer: \n",
    "   * Why does the regularized model have a higher loss than the non-regularized model?\n",
    "   * Which direction do you have to change the regression coefficient for the intercept to lower the loss? \n"
   ]
  },
  {
   "cell_type": "markdown",
   "metadata": {},
   "source": [
    "**L2 = RIDGE REGRESSION**"
   ]
  },
  {
   "cell_type": "code",
   "execution_count": 89,
   "metadata": {},
   "outputs": [
    {
     "name": "stdout",
     "output_type": "stream",
     "text": [
      "The fit (R2) is 0.03181829347242082\n",
      "the regression coeff are [ 0.266       0.06493374  0.02739556 -0.032613   -0.01930407]\n",
      "The fit (R2) is 0.03181829272980563\n",
      "the regression coeff are [-0.51497405  0.02259164  0.05885001 -0.06520423 -0.03861667]\n"
     ]
    }
   ],
   "source": [
    "def ridgeLoss(b,D,y,xname,alpha=1.0):\n",
    "    \"\"\"Loss function for Ridge regression \"\"\"\n",
    "    predY = multRegPredict(b,D,xname)\n",
    "    res = y-predY\n",
    "    rss = sum(res**2)+alpha*sum(b[1:]**2)\n",
    "    grad=np.zeros(len(b))\n",
    "    grad[0]=-2*np.sum(res)\n",
    "    for i in range(len(xname)):\n",
    "        grad[i+1]=-2*np.sum(D[xname[i]]*res)+2*alpha*b[i+1]\n",
    "    return (rss,grad)\n",
    "\n",
    "def ridgeFit(D,y,xname,figure=0,b0=[],alpha=1.0):\n",
    "    \"\"\"Fits a multiple regression loss function \"\"\"\n",
    "    k=len(xname)+1\n",
    "    if (len(b0)!=k):\n",
    "        b0=np.zeros((k,))\n",
    "    RES = so.minimize(ridgeLoss,b0,args=(D,y,xname,alpha),jac=True)\n",
    "    b=RES.x # Results\n",
    "    res = y-np.mean(y)\n",
    "    TSS = sum(res**2)\n",
    "    RSS,deriv = multiRegLossRSS(b,D,y,xname)\n",
    "    R2 = 1-RSS/TSS \n",
    "    if (k==2 and figure==1):\n",
    "        fig = plt.figure()\n",
    "        ax = fig.add_subplot(1,1,1)\n",
    "        ax.scatter(D[xname[0]],y)\n",
    "        xRange=[min(D[xname[0]]),max(D[xname[0]])]\n",
    "        xp=np.arange(xRange[0],xRange[1],(xRange[1]-xRange[0])/50)\n",
    "        yp=b[0]+b[1]*xp\n",
    "        ax.plot(xp,yp,'r-')\n",
    "        ax.spines['top'].set_visible(False)\n",
    "        ax.spines['right'].set_visible(False)\n",
    "    return (R2,b)\n",
    "\n",
    "R2, b = ridgeFit(df, df[\"shortlist\"], xname = [\"zAge\", \"zGPA\", \"zMinority\", \"zdFemale\"], alpha = 0.1)\n",
    "print(\"The fit (R2) is\", R2)\n",
    "print(\"the regression coeff are\", b)\n",
    "\n",
    "rss, b = ridgeFit(df, df[\"shortlist\"], xname = [\"age\", \"GPA\", \"minority\", \"dFemale\"], b0 = [-0.5,0.2,0.3,-0.2,-0.2], alpha = 0.1)\n",
    "print(\"The fit (R2) is\", R2)\n",
    "print(\"the regression coeff are\", b)"
   ]
  },
  {
   "cell_type": "markdown",
   "metadata": {},
   "source": [
    "Written answer: \n",
    "   * Why does the regularized model have a higher loss than the non-regularized model?\n",
    "   * Which direction do you have to change the regression coefficient for the intercept to lower the loss? \n",
    "   \n",
    "The regularized model has a higher loss than the non-regularized model because...Well I didn't know how to get teh loss function working on it's own, so I have the R2 values. But in theory the regularized model has higher loss because of the greater penality on large coefficients?\n",
    "\n",
    "If intercept and slope are negative, increase values to get the lowest loss (closest to 0)  \n",
    "If intercept and slope are positive, decrease values to get the lowest loss (closest to 0)  \n",
    "*Seeing as I could not obtained values this is the directions of which I would change the coefficients- Based on my number the intercept needs to increase in the non-regularized model*"
   ]
  },
  {
   "cell_type": "markdown",
   "metadata": {},
   "source": [
    "### Question 3.3 (9pts)\n",
    "Change the logisticRegFit from Assignment 10/11 to use regularization. \n",
    "Fit the the model from question Q3.2 (age, GPA, gender, minority), using L2 regularization with alpha = 0.1. \n",
    "\n",
    "The function should return the log-likelihood of the data given the model (*Hint: In this case this is not anymore equal to the negative loss!*) \n",
    "\n",
    "Compare the logliklihood and the parameters to the fit of the unregularized model.\n",
    "\n",
    "Written answer: What can you conclude from the comparison of the log-likelihood? Can you determine which model is better?\n",
    "\n",
    "Written answer: What is the difference between the regression coefficients of the regularized and unregularized model? How can you explain this difference?"
   ]
  },
  {
   "cell_type": "code",
   "execution_count": null,
   "metadata": {},
   "outputs": [],
   "source": [
    "def ridgeFit(D,y,xname,figure=0,b0=[],alpha=1.0):\n",
    "    \"\"\"Fits a multiple regression loss function \"\"\"\n",
    "    k=len(xname)+1\n",
    "    if (len(b0)!=k):\n",
    "        b0=np.zeros((k,))\n",
    "    RES = so.minimize(ridgeLoss,b0,args=(D,y,xname,alpha),jac=True)\n",
    "    b=RES.x # Results\n",
    "    res = y-np.mean(y)\n",
    "    TSS = sum(res**2)\n",
    "    RSS,deriv = multiRegLossRSS(b,D,y,xname)\n",
    "    \n",
    "    R2 = 1-RSS/TSS # IS THIS RIGHT OR     ll = -RES.fun # Negative function value is the log likelihood \n",
    "    \n",
    "    if (k==2 and figure==1):\n",
    "        fig = plt.figure()\n",
    "        ax = fig.add_subplot(1,1,1)\n",
    "        ax.scatter(D[xname[0]],y)\n",
    "        xRange=[min(D[xname[0]]),max(D[xname[0]])]\n",
    "        xp=np.arange(xRange[0],xRange[1],(xRange[1]-xRange[0])/50)\n",
    "        yp=b[0]+b[1]*xp\n",
    "        ax.plot(xp,yp,'r-')\n",
    "        ax.spines['top'].set_visible(False)\n",
    "        ax.spines['right'].set_visible(False)\n",
    "    return (R2,b)"
   ]
  },
  {
   "cell_type": "code",
   "execution_count": 90,
   "metadata": {},
   "outputs": [
    {
     "name": "stdout",
     "output_type": "stream",
     "text": [
      "The fit (R2) is 0.03181829347242082\n",
      "the regression coeff are [ 0.266       0.06493374  0.02739556 -0.032613   -0.01930407]\n"
     ]
    }
   ],
   "source": [
    "R2, b = ridgeFit(df, df[\"shortlist\"], xname = [\"zAge\", \"zGPA\", \"zMinority\", \"zdFemale\"], alpha = 0.1)\n",
    "print(\"The fit (R2) is\", R2)\n",
    "print(\"the regression coeff are\", b)"
   ]
  },
  {
   "cell_type": "markdown",
   "metadata": {},
   "source": [
    "Written answer: What can you conclude from the comparison of the log-likelihood? Can you determine which model is better?\n",
    "\n",
    "Written answer: What is the difference between the regression coefficients of the regularized and unregularized model? How can you explain this difference?"
   ]
  },
  {
   "cell_type": "markdown",
   "metadata": {},
   "source": [
    "Log likelihood follows the bayes factor rules.  \n",
    "\n",
    "| Bayes Factor        | Log Bayes Factor |Evidence         |\n",
    "|---------|----------|----------|\n",
    "| <1    |  <0 | Negative, in favour of the other hypothesis |\n",
    "| 1-3 | 0-1 | Barely worth mentioning |\n",
    "| 3-20  | 1-3  | Positive              | \n",
    "| 20-150| 3-5  | Strong|\n",
    "|>150| >5  | Very Strong\n",
    "\n",
    "Based on the evidence from the log bayes factor calculated I can draw the conclusion that the evidence is XXXXX, based on the table above. "
   ]
  },
  {
   "cell_type": "markdown",
   "metadata": {},
   "source": []
  },
  {
   "cell_type": "markdown",
   "metadata": {},
   "source": [
    "**Congrats: This is the end! You are done with the Final and Data Science 2000. This was a challenging course, and if you finished the final, you can be proud of yourself!**"
   ]
  }
 ],
 "metadata": {
  "kernelspec": {
   "display_name": "Python 3 (ipykernel)",
   "language": "python",
   "name": "python3"
  },
  "language_info": {
   "codemirror_mode": {
    "name": "ipython",
    "version": 3
   },
   "file_extension": ".py",
   "mimetype": "text/x-python",
   "name": "python",
   "nbconvert_exporter": "python",
   "pygments_lexer": "ipython3",
   "version": "3.9.13"
  }
 },
 "nbformat": 4,
 "nbformat_minor": 2
}
