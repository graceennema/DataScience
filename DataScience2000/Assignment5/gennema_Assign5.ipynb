{
 "cells": [
  {
   "cell_type": "markdown",
   "metadata": {},
   "source": [
    "# Assignment 5: Randomization test 2\n",
    "## Learning Outcomes\n",
    "We will continue our last homework on the use of randomization and Monte-Carlo simulation tests to determine whether a specific effect is statistically significant. Randomization and simulation tests are universal and powerful way to do this, and form an essential part of the toolkit of any Data Scientist. \n",
    "## Problem Description\n",
    "In Task 1 & 2, we continue with the movie dataset. The first two task build on the last homework and run randomization tests with two new test statistics. You should re-use the randomization test function that you wrote for the last homework – but the new modified version needs to be included in the submission. In Task 3 you are asked to program a simple monte-Carlo simulation test.  \n",
    "## Preliminaries\n",
    "Set up the environment by importing pandas, numpy, and matplotlib. Load the movie data set into a pandas data frame. **IMPORTANT: Download and used the new movie data set that comes with this assignment on OWL**. For older versions, you my need to configure your notebook such that plots are shown inline (see Assignment 2). "
   ]
  },
  {
   "cell_type": "code",
   "execution_count": 1,
   "metadata": {},
   "outputs": [],
   "source": [
    "import matplotlib\n",
    "import matplotlib.pyplot as plt \n",
    "import numpy as np\n",
    "import pandas as pd\n",
    "import scipy.stats as stats\n",
    "\n",
    "# Maybe necessary: \n",
    "matplotlib.use('TkAgg')\n",
    "%matplotlib inline\n",
    "\n",
    "df = pd.read_csv('movieDataset.csv')"
   ]
  },
  {
   "cell_type": "markdown",
   "metadata": {},
   "source": [
    "## TASK 1: Chi-square test of independence (40pts)\n",
    "To test whether two discrete variables interact with each other, you can perform the Chi-sqaure test. The Chi-square statistic measures the deviation of the observed cell counts in a contingency table to the expected counts (see lecture).  \n",
    "### Question 1: Null-hypothesis (5pts)\n",
    "We want to test the hypothesis that there is a systematic relationship between director Gender and film genre. Please formulate the corresponding Null-hypothesis and Alternative hypothesis, and spell out what they predict in terms of the observed and expected cell counts."
   ]
  },
  {
   "cell_type": "markdown",
   "metadata": {},
   "source": [
    "H0: There is no systematic relationship between director gender and film genre. This means that director gender is independent of what film genre they work with. The expected counts are the values we should expect if the null hypotesis is true, therefore expected and observed should be very close in value. \n",
    "\n",
    "\n",
    "\n",
    "HA: There is a systematic relationship between director gender and film genre. This means that director gender is dependent of what film genre they work with, so certain genders are more likely to work with certain preferred genres. The observed and expected values are different."
   ]
  },
  {
   "cell_type": "markdown",
   "metadata": {},
   "source": [
    "### Question 2: Expected frequencies (10pts)\n",
    "From the table of the observed frequencies of genre / director Gender, generate a table that shows the expected frequencies if genre and gender were independent. The Marginal counts in the table should stay unchanged. "
   ]
  },
  {
   "cell_type": "code",
   "execution_count": 2,
   "metadata": {},
   "outputs": [
    {
     "data": {
      "text/html": [
       "<div>\n",
       "<style scoped>\n",
       "    .dataframe tbody tr th:only-of-type {\n",
       "        vertical-align: middle;\n",
       "    }\n",
       "\n",
       "    .dataframe tbody tr th {\n",
       "        vertical-align: top;\n",
       "    }\n",
       "\n",
       "    .dataframe thead th {\n",
       "        text-align: right;\n",
       "    }\n",
       "</style>\n",
       "<table border=\"1\" class=\"dataframe\">\n",
       "  <thead>\n",
       "    <tr style=\"text-align: right;\">\n",
       "      <th>dirGender</th>\n",
       "      <th>female</th>\n",
       "      <th>male</th>\n",
       "    </tr>\n",
       "    <tr>\n",
       "      <th>genre</th>\n",
       "      <th></th>\n",
       "      <th></th>\n",
       "    </tr>\n",
       "  </thead>\n",
       "  <tbody>\n",
       "    <tr>\n",
       "      <th>action</th>\n",
       "      <td>9</td>\n",
       "      <td>48</td>\n",
       "    </tr>\n",
       "    <tr>\n",
       "      <th>adventure</th>\n",
       "      <td>6</td>\n",
       "      <td>58</td>\n",
       "    </tr>\n",
       "    <tr>\n",
       "      <th>comedy</th>\n",
       "      <td>13</td>\n",
       "      <td>35</td>\n",
       "    </tr>\n",
       "    <tr>\n",
       "      <th>drama</th>\n",
       "      <td>5</td>\n",
       "      <td>31</td>\n",
       "    </tr>\n",
       "    <tr>\n",
       "      <th>other</th>\n",
       "      <td>4</td>\n",
       "      <td>41</td>\n",
       "    </tr>\n",
       "  </tbody>\n",
       "</table>\n",
       "</div>"
      ],
      "text/plain": [
       "dirGender  female  male\n",
       "genre                  \n",
       "action          9    48\n",
       "adventure       6    58\n",
       "comedy         13    35\n",
       "drama           5    31\n",
       "other           4    41"
      ]
     },
     "metadata": {},
     "output_type": "display_data"
    },
    {
     "data": {
      "text/html": [
       "<div>\n",
       "<style scoped>\n",
       "    .dataframe tbody tr th:only-of-type {\n",
       "        vertical-align: middle;\n",
       "    }\n",
       "\n",
       "    .dataframe tbody tr th {\n",
       "        vertical-align: top;\n",
       "    }\n",
       "\n",
       "    .dataframe thead th {\n",
       "        text-align: right;\n",
       "    }\n",
       "</style>\n",
       "<table border=\"1\" class=\"dataframe\">\n",
       "  <thead>\n",
       "    <tr style=\"text-align: right;\">\n",
       "      <th>dirGender</th>\n",
       "      <th>female</th>\n",
       "      <th>male</th>\n",
       "    </tr>\n",
       "    <tr>\n",
       "      <th>genre</th>\n",
       "      <th></th>\n",
       "      <th></th>\n",
       "    </tr>\n",
       "  </thead>\n",
       "  <tbody>\n",
       "    <tr>\n",
       "      <th>action</th>\n",
       "      <td>8.436</td>\n",
       "      <td>48.564</td>\n",
       "    </tr>\n",
       "    <tr>\n",
       "      <th>adventure</th>\n",
       "      <td>9.472</td>\n",
       "      <td>54.528</td>\n",
       "    </tr>\n",
       "    <tr>\n",
       "      <th>comedy</th>\n",
       "      <td>7.104</td>\n",
       "      <td>40.896</td>\n",
       "    </tr>\n",
       "    <tr>\n",
       "      <th>drama</th>\n",
       "      <td>5.328</td>\n",
       "      <td>30.672</td>\n",
       "    </tr>\n",
       "    <tr>\n",
       "      <th>other</th>\n",
       "      <td>6.660</td>\n",
       "      <td>38.340</td>\n",
       "    </tr>\n",
       "  </tbody>\n",
       "</table>\n",
       "</div>"
      ],
      "text/plain": [
       "dirGender  female    male\n",
       "genre                    \n",
       "action      8.436  48.564\n",
       "adventure   9.472  54.528\n",
       "comedy      7.104  40.896\n",
       "drama       5.328  30.672\n",
       "other       6.660  38.340"
      ]
     },
     "metadata": {},
     "output_type": "display_data"
    }
   ],
   "source": [
    "table = pd.crosstab(df['genre'], df['dirGender'])\n",
    "tabArr = np.array(table)\n",
    "\n",
    "nrow, ncol = tabArr.shape\n",
    "\n",
    "expectArr = np.zeros([nrow, ncol])\n",
    "\n",
    "sObservedCol = np.sum(tabArr, axis = 0)\n",
    "\n",
    "sObservedRow = np.sum(tabArr, axis = 1)\n",
    "\n",
    "for i in range(0, len(sObservedCol)):\n",
    "    \n",
    "    marginalC = sObservedCol[i]\n",
    "    \n",
    "    for j in range (0, len(sObservedRow)):\n",
    "        \n",
    "        marginalH = sObservedRow[j]\n",
    "\n",
    "        expectArr[j,i] = (marginalH * marginalC) / np.sum(tabArr)\n",
    "\n",
    "expectedTab = pd.DataFrame(expectArr)\n",
    "expectedTab.columns = table.columns\n",
    "expectedTab.index = table.index\n",
    "\n",
    "display(table)\n",
    "display(expectedTab)"
   ]
  },
  {
   "cell_type": "markdown",
   "metadata": {},
   "source": [
    "### Question 3: Chi-square (10pts)\n",
    "Create a function that takes the data frame as input and calculates a statistics of the overall deviation between expected and observed frequencies: \n",
    "$χ^2 = \\sum_i(O_i-E_i)^2/E_i)$ \n",
    "\n",
    "Where $O_i$ is the observed frequency for cell $i$, $E_i$ is the expected frequency for cell $i$, assuming independence of gender and genre. The sum is to be taken over all 10 cells. This test-statistic is called the Chi-square test of independence.\n",
    "\n",
    "The function should take a data frame and return the Chi-square value. Make sure that the function performs all the required computations - it should work without you having to run the code from Question #2 first. \n",
    "\n",
    "Report the value of this statistic for the real data. \n",
    "\n",
    "Extra challenge: Make your code more flexible by not always using ``genre`` and ``dirGender`` to make the crosstab, but by providing the name of the row and column variable as an input (not required for full points).\n"
   ]
  },
  {
   "cell_type": "code",
   "execution_count": 3,
   "metadata": {},
   "outputs": [
    {
     "name": "stdout",
     "output_type": "stream",
     "text": [
      "The Chi-squared value is 8.552103\n"
     ]
    }
   ],
   "source": [
    "def X2(data, x = \"genre\", y = \"dirGender\"):\n",
    "    table = pd.crosstab(data[x], data[y])\n",
    "    tabArr = np.array(table)\n",
    "    \n",
    "    nrow, ncol = tabArr.shape\n",
    "    expectArr = np.zeros([nrow, ncol])\n",
    "    \n",
    "    sObservedCol = np.sum(tabArr, axis = 0)\n",
    "    sObservedRow = np.sum(tabArr, axis = 1)\n",
    "\n",
    "    for i in range(0, len(sObservedCol)):\n",
    "\n",
    "        marginalC = sObservedCol[i]\n",
    "\n",
    "        for j in range (0, len(sObservedRow)):\n",
    "\n",
    "            marginalH = sObservedRow[j]\n",
    "\n",
    "            expectArr[j,i] = (marginalH * marginalC) / np.sum(tabArr)\n",
    "            \n",
    "    X2 = np.sum((tabArr - expectArr)**2/expectArr)\n",
    "    return X2\n",
    "\n",
    "print(f'The Chi-squared value is {X2(df, \"genre\", \"dirGender\"):.6f}')\n"
   ]
  },
  {
   "cell_type": "markdown",
   "metadata": {},
   "source": [
    "### Question 4: Randomization with flexible input arguments (5pts)\n",
    "Rewrite the randomization function from the last homework, so it it becomes more versatile by adding additional input arguments that determines the behavior of the routine. \n",
    "\n",
    "- The first argument should still be a dataframe (as before)\n",
    "- The second input argument should be a function that computes the test statistics. All test-statistic functions are assumed to take the data frame as the first and only input. \n",
    "- The third input argument is the name of the dataframe column that is being shuffled. \n",
    "- An optional input argument: the number of iterations (default=500)\n",
    "- An optional input argument: the number of sides of the test (1 or 2; default = 1). If the test is two-sided, then count the number of cases where the absolute value of the test statistic (np.abolute) is larger or equal to the real test statistic.\n",
    "- An optional input argument: The number of bins for plotting the histogram \n"
   ]
  },
  {
   "cell_type": "code",
   "execution_count": 4,
   "metadata": {},
   "outputs": [],
   "source": [
    "def permutation_test(frame, fnc, shuffle, numIter = 500, sides = 1, pBin = 25):\n",
    "    sample = np.array([])\n",
    "    \n",
    "    for i in range(0, numIter):\n",
    "        df_copy = frame.copy()\n",
    "        idx = df_copy.index\n",
    "\n",
    "        idx_arr = np.arange(0, len(idx))\n",
    "\n",
    "        np.random.shuffle(idx_arr)\n",
    "\n",
    "        shuffled_gender = df_copy[shuffle].iloc[idx_arr]\n",
    "\n",
    "        shuffled_gender_id = shuffled_gender.reset_index(drop = True)\n",
    "\n",
    "        df_copy[shuffle] = shuffled_gender_id\n",
    "\n",
    "        sample = np.append(sample, fnc(df_copy))\n",
    "        \n",
    "    fig, axes = plt.subplots(nrows = 1, ncols = 1, figsize = (20,10))\n",
    "    axes.hist(sample, bins = pBin, color = 'b')\n",
    "    plt.axvline(x = fnc(frame), color = 'r')\n",
    "    axes.set_ylabel(\"Number of Observations\")\n",
    "    axes.set_xlabel(f\"Result of test\")\n",
    "    \n",
    "    if sides == 2:\n",
    "        plt.axvline(x = -(fnc(frame)), color = 'r')\n",
    "        a = np.absolute(sample) >= fnc(frame)\n",
    "        twosided = sum(a) / len(sample)\n",
    "    \n",
    "        print(f\"The result of the two sided test is {twosided}\")\n",
    "        \n",
    "    else:\n",
    "        a = sample >= fnc(frame)\n",
    "        p = sum(a) / len(sample)\n",
    "        print(f\"The p-value is {p}\")\n",
    "    \n",
    "    return sample"
   ]
  },
  {
   "cell_type": "markdown",
   "metadata": {},
   "source": [
    "### Question 5: Randomization test (5pts)\n",
    "Perform a randomization test for the Chi-square test of independence. Your function should plot the histogram and report the p-value."
   ]
  },
  {
   "cell_type": "code",
   "execution_count": 5,
   "metadata": {},
   "outputs": [
    {
     "name": "stdout",
     "output_type": "stream",
     "text": [
      "The p-value is 0.0726\n"
     ]
    },
    {
     "data": {
      "image/png": "[encoded data removed]",
      "text/plain": [
       "<Figure size 2000x1000 with 1 Axes>"
      ]
     },
     "metadata": {},
     "output_type": "display_data"
    }
   ],
   "source": [
    "sampleData = permutation_test(df, X2, \"dirGender\", numIter = 5000)"
   ]
  },
  {
   "cell_type": "markdown",
   "metadata": {},
   "source": [
    "Figure 1. Histogram showing the results of distribution following the randomization test on Chi squared (X2) values. Red line is the X2 value of the orginal data set."
   ]
  },
  {
   "cell_type": "markdown",
   "metadata": {},
   "source": [
    "### Question 6: Conclusion (5pts)\n",
    "Written response: Based on the results, what can you conclude from this test? "
   ]
  },
  {
   "cell_type": "markdown",
   "metadata": {},
   "source": [
    "Based on the results and the p-value being above 0.05 it can be concluded that there is no systematic relationship between director gender and film genre, therefore we reject the alternative hypothesis and accept the null hypothesis. "
   ]
  },
  {
   "cell_type": "markdown",
   "metadata": {},
   "source": [
    "# TASK 2: Randomization test for mean differences (25pts)\n",
    "In this task we will test the hypothesis that male and female directors differ in their annual income. Note that the hypothesis is undirected, meaning it could mean either that men earn more than women, or that women earn more than men."
   ]
  },
  {
   "cell_type": "markdown",
   "metadata": {},
   "source": [
    "### Question 1: Null hypothesis (5pts)\n",
    "Formulate the Null-hypothesis. "
   ]
  },
  {
   "cell_type": "markdown",
   "metadata": {},
   "source": [
    "N0: There is no difference between director gender and annual income."
   ]
  },
  {
   "cell_type": "markdown",
   "metadata": {},
   "source": [
    "### Question 2: Difference of means (8pts)\n",
    "Write a function that calculates and returns the difference in director salaries depending on the gender (male average income – female average income). Report the value. "
   ]
  },
  {
   "cell_type": "code",
   "execution_count": 6,
   "metadata": {},
   "outputs": [
    {
     "name": "stdout",
     "output_type": "stream",
     "text": [
      "The difference in average income between males and females is 0.639045\n"
     ]
    }
   ],
   "source": [
    "def probDiff(D):\n",
    "    \n",
    "    menIncome = D[\"dirIncome\"].groupby(D[\"dirGender\"]).get_group(\"male\").mean()\n",
    "\n",
    "    womenIncome = D[\"dirIncome\"].groupby(D[\"dirGender\"]).get_group(\"female\").mean()\n",
    "    \n",
    "    difference = menIncome - womenIncome\n",
    "    \n",
    "    return difference\n",
    "\n",
    "print(f\"The difference in average income between males and females is {probDiff(df):.6f}\")"
   ]
  },
  {
   "cell_type": "markdown",
   "metadata": {
    "collapsed": true
   },
   "source": [
    "### Question 3:  Randomization test (7pts)\n",
    "Use your randomization test function to perform a randomization test to determine whether the reported difference is statistical significant. Plot a histogram of the null-distribution and the real value. Report the p-value for the two-sided test. "
   ]
  },
  {
   "cell_type": "code",
   "execution_count": 7,
   "metadata": {},
   "outputs": [
    {
     "name": "stdout",
     "output_type": "stream",
     "text": [
      "The result of the two sided test is 0.0014\n"
     ]
    },
    {
     "data": {
      "image/png": "[encoded data removed]",
      "text/plain": [
       "<Figure size 2000x1000 with 1 Axes>"
      ]
     },
     "metadata": {},
     "output_type": "display_data"
    }
   ],
   "source": [
    "store = permutation_test(df, probDiff, shuffle = \"dirGender\", numIter = 5000, sides = 2)"
   ]
  },
  {
   "cell_type": "markdown",
   "metadata": {},
   "source": [
    "Figure 2. Histogram showing the results of distribution following the randomization test on the difference of income between male and female directors (male - female). Red lines are the difference of the orginal data set. "
   ]
  },
  {
   "cell_type": "markdown",
   "metadata": {},
   "source": [
    "### Question 4: Conclusion (5pts)\n",
    "What do you conclude about the relationship between gender and salary? What can you conclude about the claim that there is gender discrimination in the American film industry?  \n"
   ]
  },
  {
   "cell_type": "markdown",
   "metadata": {},
   "source": [
    "It can be concluded that there is significant difference between director gender and income. The p value is below 0.05 leading to the rejection of the null hypothesis that there is no significant change. It is very likely that there is gender discrimination in the American film industry in terms of income. "
   ]
  },
  {
   "cell_type": "markdown",
   "metadata": {
    "collapsed": true
   },
   "source": [
    "# Task 3: Monte-Carlo simulation test (35pt)\n",
    "People providing an organ for donation sometimes seek help from a medical consultant. These consultants assist the patient in all aspects of the surgery. Patients might choose a consultant based in part on the historical complication rate of the consultant's clients. Consultant R tries to attract patients by noting the average complication rate for liver donor surgeries in the US is about 10%, but her clients have had only 3 complications in the 62 liver donor surgeries she has facilitated. She claims this is strong evidence that her work meaningfully contributes to reducing complications (and therefore she should be hired!).\n",
    "### Question 1: Monte Carlo simulation (15pts)\n",
    "Write a function (monteCarloSim) that simulates coin tossing. On each trial, the function should produce a specific number (N) of coin tosses and record the number of successes (heads). It should repeat this experiment numIter number of times. The inputs to the function should be a) probability of a success on each coin toss, b) the number of coin tosses per trial (N) and c) the number of trials. The function should return an np.array(range(numIter)) that holds the recorded number of heads for all trials (see lecture handout for tips)."
   ]
  },
  {
   "cell_type": "code",
   "execution_count": 8,
   "metadata": {},
   "outputs": [],
   "source": [
    "def monteCarloSim(prob, N, t):\n",
    "\n",
    "    numHead = np.array([])\n",
    "\n",
    "    for trial in range(0, t):\n",
    "        sim = np.random.choice([0,1], size = N, replace = True, p = prob) # p is probability per element\n",
    "        numHead = np.append(numHead, np.sum(sim))\n",
    "    \n",
    "    return numHead"
   ]
  },
  {
   "cell_type": "markdown",
   "metadata": {},
   "source": [
    "### Question 2: Monte Carlo Test (15pts)\n",
    "Write a function (monteCarloTest) that uses monteCarloSim (Question 1) to simulate 2000 trials of a N coin tosses. \n",
    "The function should take as input arguments: \n",
    "\n",
    "* `H0prob`: The probability of heads under the Null hypothesis\n",
    "* `N`: The number of coin throws per trial \n",
    "* `numHeads`: The number of observed coin tosses.  \n",
    "\n",
    "After getting the simulation result from `monteCarloSim`, the function should plot a histogram of the recorded number of heads, and mark the real measured number (`numHeads`) with a vertical line. The function should print out the probability that the simulated number of heads is smaller than or equal to the measured number of heads.  \n",
    "\n",
    "Use the function to evaluate the medical advisor example from the lecture: Determine the probability to get 3 complications in 62 cases if the probability of a complication in the population is known to be 10%. "
   ]
  },
  {
   "cell_type": "code",
   "execution_count": 9,
   "metadata": {},
   "outputs": [],
   "source": [
    "def monteCarloTest(H0prob, N, numHeads):\n",
    "    data = monteCarloSim(H0prob, N, 2000)\n",
    "    \n",
    "    fig, axes = plt.subplots(nrows = 1, ncols = 1, figsize = (20,10))\n",
    "    axes.hist(data, bins = 15, color = 'b')\n",
    "    plt.axvline(x = numHeads, color = 'r')\n",
    "    axes.set_ylabel(\"Number of Observations\")\n",
    "    axes.set_xlabel(f\"Number of Complications\")\n",
    "    \n",
    "    a = data <= numHeads\n",
    "    p = sum(a) / len(data)\n",
    "    print(f\"The p-value is {p}\")\n",
    "    \n",
    "    \n",
    "    return data \n"
   ]
  },
  {
   "cell_type": "code",
   "execution_count": 10,
   "metadata": {},
   "outputs": [
    {
     "name": "stdout",
     "output_type": "stream",
     "text": [
      "The p-value is 0.126\n"
     ]
    },
    {
     "data": {
      "image/png": "[encoded data removed]",
      "text/plain": [
       "<Figure size 2000x1000 with 1 Axes>"
      ]
     },
     "metadata": {},
     "output_type": "display_data"
    }
   ],
   "source": [
    "store = monteCarloTest([0.9,0.1], 62, 3)"
   ]
  },
  {
   "cell_type": "markdown",
   "metadata": {},
   "source": [
    "Figure 3. Histogram showing the results of distribution following the monte carlo test, where values were summed and recored with 0 was a success and 1 was a failure (complication). The red line represents the number of complications that advisor R claims to have."
   ]
  },
  {
   "cell_type": "markdown",
   "metadata": {},
   "source": [
    "### Question 3: Conclusion (5pts)\n",
    "Written answer: What do you conclude about the claim that the work of advisor R is lowering complication rates?"
   ]
  },
  {
   "cell_type": "markdown",
   "metadata": {},
   "source": [
    "I can conclude that the work of advisor R is not actively lowering complication rates as the p-value shows no statistical significance. "
   ]
  }
 ],
 "metadata": {
  "kernelspec": {
   "display_name": "Python 3 (ipykernel)",
   "language": "python",
   "name": "python3"
  },
  "language_info": {
   "codemirror_mode": {
    "name": "ipython",
    "version": 3
   },
   "file_extension": ".py",
   "mimetype": "text/x-python",
   "name": "python",
   "nbconvert_exporter": "python",
   "pygments_lexer": "ipython3",
   "version": "3.11.5"
  },
  "vscode": {
   "interpreter": {
    "hash": "82c9595c6ac3df5bed1366f4aa85323e4ec1b3448185f6be6e163d2b6e222f49"
   }
  }
 },
 "nbformat": 4,
 "nbformat_minor": 1
}
