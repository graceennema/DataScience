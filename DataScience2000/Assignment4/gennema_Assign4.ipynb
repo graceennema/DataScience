{
 "cells": [
  {
   "cell_type": "markdown",
   "metadata": {
    "collapsed": true
   },
   "source": [
    "# Assignment 4: Permutation test 1\n",
    "## Learning Outcomes\n",
    "By completing this assignment, you will be able to implement and use randomization tests to determine whether a specific effect is statistically significant. Randomization tests are a highly universal and powerful way to do this, and form an essential part of the toolkit of any Data Scientist. \n",
    "\n",
    "## Problem Description\n",
    "An increasingly common statistical tool for determining whether a difference is significant is the randomization or permutation test. A randomization test builds - rather than assumes – a sampling distribution of the test statistics. This is achieved by exchanging or permuting variables which are “exchangeable” under the Null-hypothesis. A randomization test gives a simple way to compute the sampling distribution for any test statistic under the null hypothesis that the dependent variable is statistically not dependent on the shuffled variable. \n",
    "In this assignment, we continue with the income dataset from week 1 and 2. This week your main task is to determine whether the difference in proportion for female vs. male directors to direct action movies is significant. \n",
    "You are allowed to use standard numpy and pandas functions such as mean, groupby, shuffle. But you are not allowed to use a permutation functions that have been already been designed. Numeric calculations in python that are printed should be rounded to 6 decimal places. \n",
    "\n",
    "Methods that you may find beneficial. \n",
    "Pandas: crosstab, iloc. Numpy: random.shuffle, reset_index, matplotlib: hist, axvline \n",
    "\n",
    "## The dataset \n",
    "As a data scientist for a Hollywood law firm, your task is to provide evidence for the claim that there is gender discrimination in the movie industry. You are provided with a summary of the last 250 movies, and the gender and income of the director. The dataset also includes a number of other variables\n",
    "- North American box office revenue (boxoff)\n",
    "- Production cost of the movie (prodcost)\n",
    "- Income of the director (dirIncome in millions)\n",
    "- Gender of the director (dirGender) \n",
    "- Year of release (year)\n",
    "- Month of release (month) \n",
    "- Movie genre (genre): Action, Comedy \n",
    "- Number of theatres (numTheatrs)\n",
    "\n",
    "\n",
    "## Preliminaries \n",
    "Import pandas, numpy, matplotlib, and load the dataset file"
   ]
  },
  {
   "cell_type": "code",
   "execution_count": 1,
   "metadata": {},
   "outputs": [],
   "source": [
    "import pandas as pd\n",
    "import numpy as np\n",
    "import matplotlib.pyplot as plt \n",
    "import matplotlib\n",
    "matplotlib.use('TkAgg')\n",
    "%matplotlib inline\n",
    "\n",
    "df = pd.read_csv(\"movieDataset.csv\")"
   ]
  },
  {
   "cell_type": "markdown",
   "metadata": {},
   "source": [
    "## TASK 1: Defining the test statistics (40pts)\n",
    "### Question 1  - Explore the gender imbalance across movie genres (10pts)\n",
    "As you did in Assignment 02, create a table that displays the number of movies per genre and director gender. Make a stacked barplot that best let's you see what proprtion of directors were female for each movie genre.   Remember x-, y-axis labels and caption. Written answer: Which movie genre has the highest proportion of female directors? \n",
    "\n",
    "*Hint: Since this is a new dataset for you, it is excellent practice to explore the dataset as you did in Assignment number 2*"
   ]
  },
  {
   "cell_type": "code",
   "execution_count": 2,
   "metadata": {},
   "outputs": [
    {
     "data": {
      "text/html": [
       "<div>\n",
       "<style scoped>\n",
       "    .dataframe tbody tr th:only-of-type {\n",
       "        vertical-align: middle;\n",
       "    }\n",
       "\n",
       "    .dataframe tbody tr th {\n",
       "        vertical-align: top;\n",
       "    }\n",
       "\n",
       "    .dataframe thead th {\n",
       "        text-align: right;\n",
       "    }\n",
       "</style>\n",
       "<table border=\"1\" class=\"dataframe\">\n",
       "  <thead>\n",
       "    <tr style=\"text-align: right;\">\n",
       "      <th>dirGender</th>\n",
       "      <th>female</th>\n",
       "      <th>male</th>\n",
       "    </tr>\n",
       "    <tr>\n",
       "      <th>genre</th>\n",
       "      <th></th>\n",
       "      <th></th>\n",
       "    </tr>\n",
       "  </thead>\n",
       "  <tbody>\n",
       "    <tr>\n",
       "      <th>action</th>\n",
       "      <td>0.157895</td>\n",
       "      <td>0.842105</td>\n",
       "    </tr>\n",
       "    <tr>\n",
       "      <th>adventure</th>\n",
       "      <td>0.093750</td>\n",
       "      <td>0.906250</td>\n",
       "    </tr>\n",
       "    <tr>\n",
       "      <th>comedy</th>\n",
       "      <td>0.270833</td>\n",
       "      <td>0.729167</td>\n",
       "    </tr>\n",
       "    <tr>\n",
       "      <th>drama</th>\n",
       "      <td>0.138889</td>\n",
       "      <td>0.861111</td>\n",
       "    </tr>\n",
       "    <tr>\n",
       "      <th>other</th>\n",
       "      <td>0.088889</td>\n",
       "      <td>0.911111</td>\n",
       "    </tr>\n",
       "  </tbody>\n",
       "</table>\n",
       "</div>"
      ],
      "text/plain": [
       "dirGender    female      male\n",
       "genre                        \n",
       "action     0.157895  0.842105\n",
       "adventure  0.093750  0.906250\n",
       "comedy     0.270833  0.729167\n",
       "drama      0.138889  0.861111\n",
       "other      0.088889  0.911111"
      ]
     },
     "metadata": {},
     "output_type": "display_data"
    },
    {
     "data": {
      "text/plain": [
       "Text(0, 0.5, 'Frequency')"
      ]
     },
     "execution_count": 2,
     "metadata": {},
     "output_type": "execute_result"
    },
    {
     "data": {
      "image/png": "[encoded data removed]",
      "text/plain": [
       "<Figure size 640x480 with 1 Axes>"
      ]
     },
     "metadata": {},
     "output_type": "display_data"
    }
   ],
   "source": [
    "table = pd.crosstab(df['genre'], df['dirGender'], margins = False, normalize = \"index\")\n",
    "display(table)\n",
    "\n",
    "g = table.plot(kind = \"bar\", stacked = True)\n",
    "g.set_xlabel(\"Genre\")\n",
    "g.set_ylabel(\"Frequency\")\n"
   ]
  },
  {
   "cell_type": "markdown",
   "metadata": {},
   "source": [
    "Figure 1. Stacked bar plot showing the relative proportions of male and female directors by genre. \n",
    "\n",
    "Written answer: The genre with the highest proportion of female directors is comedy."
   ]
  },
  {
   "cell_type": "markdown",
   "metadata": {},
   "source": [
    "### Question 2 - Create contingency table of comedy (yes/no) by director gender (5pts)\n",
    "Generate and display a cross-tabulation table of the 2x2 proportions of directorGender vs. whether the movie is a comedy or not (all other genres should be combined into non-comedy movies).  "
   ]
  },
  {
   "cell_type": "code",
   "execution_count": 3,
   "metadata": {
    "scrolled": true
   },
   "outputs": [
    {
     "data": {
      "text/html": [
       "<div>\n",
       "<style scoped>\n",
       "    .dataframe tbody tr th:only-of-type {\n",
       "        vertical-align: middle;\n",
       "    }\n",
       "\n",
       "    .dataframe tbody tr th {\n",
       "        vertical-align: top;\n",
       "    }\n",
       "\n",
       "    .dataframe thead th {\n",
       "        text-align: right;\n",
       "    }\n",
       "</style>\n",
       "<table border=\"1\" class=\"dataframe\">\n",
       "  <thead>\n",
       "    <tr style=\"text-align: right;\">\n",
       "      <th>dirGender</th>\n",
       "      <th>female</th>\n",
       "      <th>male</th>\n",
       "      <th>All</th>\n",
       "    </tr>\n",
       "    <tr>\n",
       "      <th>genre</th>\n",
       "      <th></th>\n",
       "      <th></th>\n",
       "      <th></th>\n",
       "    </tr>\n",
       "  </thead>\n",
       "  <tbody>\n",
       "    <tr>\n",
       "      <th>False</th>\n",
       "      <td>24</td>\n",
       "      <td>178</td>\n",
       "      <td>202</td>\n",
       "    </tr>\n",
       "    <tr>\n",
       "      <th>True</th>\n",
       "      <td>13</td>\n",
       "      <td>35</td>\n",
       "      <td>48</td>\n",
       "    </tr>\n",
       "    <tr>\n",
       "      <th>All</th>\n",
       "      <td>37</td>\n",
       "      <td>213</td>\n",
       "      <td>250</td>\n",
       "    </tr>\n",
       "  </tbody>\n",
       "</table>\n",
       "</div>"
      ],
      "text/plain": [
       "dirGender  female  male  All\n",
       "genre                       \n",
       "False          24   178  202\n",
       "True           13    35   48\n",
       "All            37   213  250"
      ]
     },
     "metadata": {},
     "output_type": "display_data"
    }
   ],
   "source": [
    "table2 = pd.crosstab(df[\"genre\"] == \"comedy\", df[\"dirGender\"], margins = True)\n",
    "display(table2)"
   ]
  },
  {
   "cell_type": "markdown",
   "metadata": {},
   "source": [
    "### Question 2 - Calculate p(comedy|female)-p(comedy|male) (15pts)\n",
    "Calculate and report the probability that the movie is a comedy given that the director Gender is female, p(comedy|female), the probability of the movie is a comedy given that the director Gender is male, p(comedy|male), as well as the difference between these two numbers, p(comedy|female)- p(comedy|male) (for help, see solution to homework 2)."
   ]
  },
  {
   "cell_type": "code",
   "execution_count": 4,
   "metadata": {},
   "outputs": [
    {
     "name": "stdout",
     "output_type": "stream",
     "text": [
      "Probability that the movie is a comedy given female, is 0.351351\n"
     ]
    }
   ],
   "source": [
    "# Conditional Probability P(A given B) = P(A and B) / P(B)\n",
    "# comedy given female\n",
    "\n",
    "cpCaF = ((table2.iloc[1][\"female\"]/table2.iloc[2][\"All\"]) / (table2.iloc[2][\"female\"]/table2.iloc[2][\"All\"]))\n",
    "\n",
    "print(f\"Probability that the movie is a comedy given female, is {cpCaF:.6f}\")"
   ]
  },
  {
   "cell_type": "code",
   "execution_count": 5,
   "metadata": {},
   "outputs": [
    {
     "name": "stdout",
     "output_type": "stream",
     "text": [
      "Probability that the movie is a comedy given male, is 0.164319\n"
     ]
    }
   ],
   "source": [
    "cpCaM = ((table2.iloc[1][\"male\"]/table2.iloc[2][\"All\"]) / (table2.iloc[2][\"male\"]/table2.iloc[2][\"All\"]))\n",
    "\n",
    "print(f\"Probability that the movie is a comedy given male, is {cpCaM:.6f}\")"
   ]
  },
  {
   "cell_type": "code",
   "execution_count": 6,
   "metadata": {},
   "outputs": [
    {
     "name": "stdout",
     "output_type": "stream",
     "text": [
      "The difference between p(comedy|female) - p(comedy|male) is, 0.187032\n"
     ]
    }
   ],
   "source": [
    "diff = cpCaF - cpCaM\n",
    "\n",
    "print(f\"The difference between p(comedy|female) - p(comedy|male) is, {diff:.6f}\")"
   ]
  },
  {
   "cell_type": "markdown",
   "metadata": {},
   "source": [
    "### Question 3 - Define a function that calculates this difference in probability (10pts)\n",
    "Write a function (e.g., https://www.tutorialspoint.com/python/python_functions.htm) that takes the data frame as an input and returns the difference on conditional probabilities (as calculated in question 2). \n",
    "Test the function by calling it with your data and report the difference in probability \n",
    "This difference is your test statistics for the coming permutation test."
   ]
  },
  {
   "cell_type": "code",
   "execution_count": 7,
   "metadata": {},
   "outputs": [],
   "source": [
    "def probDiff(D):\n",
    "    probs = []\n",
    "        \n",
    "    funcTable = pd.crosstab(D[\"genre\"] == \"comedy\", D[\"dirGender\"], margins = True)\n",
    "    probs.append(((funcTable.iloc[1][\"female\"]/funcTable.iloc[2][\"All\"]) / (funcTable.iloc[2][\"female\"]/funcTable.iloc[2][\"All\"])))\n",
    "    probs.append(((funcTable.iloc[1][\"male\"]/funcTable.iloc[2][\"All\"]) / (funcTable.iloc[2][\"male\"]/funcTable.iloc[2][\"All\"])))\n",
    "    \n",
    "    difference = probs[0] - probs[1]\n",
    "    \n",
    "    return difference"
   ]
  },
  {
   "cell_type": "code",
   "execution_count": 8,
   "metadata": {},
   "outputs": [
    {
     "name": "stdout",
     "output_type": "stream",
     "text": [
      "The difference in probability between p(comedy|female) - p(comedy|male) is, 0.187032\n"
     ]
    }
   ],
   "source": [
    "print(f\"The difference in probability between p(comedy|female) - p(comedy|male) is, {probDiff(df):.6f}\")"
   ]
  },
  {
   "cell_type": "markdown",
   "metadata": {},
   "source": [
    "## Task 2: Perform a permutation test (60pts)\n",
    "### Question 1 (10pts)\n",
    "Written answer: We want to test the hypothesis that female directors are more likely than male directors to conduct a comedy. Under this hypothesis the p(comedy|female) should be higher than p(comedy|male). What is the Null-hypothesis we need to consider? "
   ]
  },
  {
   "cell_type": "markdown",
   "metadata": {},
   "source": [
    "Null hypothesis: p(comedy|male) >= p(comedy|female)\n",
    "Alternative hypothesis: p(comedy|female) > p(comedy|male)"
   ]
  },
  {
   "cell_type": "markdown",
   "metadata": {},
   "source": [
    "### Question 2 (40pts)\n",
    "Perform a permutation test. Under the Null-hypothesis the director gender is exchangeable. \n",
    "\n",
    "First, write a function that takes the data frame as an input and then randomly permutes the a specific columns that data frame (see lab for hints).\n",
    "\n",
    "Then write a function ``permutation_test`` that takes a data frame as an input and the loops ``numIter`` times. Every iteration of the  the loop it should shuffle the dirGender column of the data and then calls the function written for Task1, Q3 to get the test statistic. Each iteration, the test statistic should  be stored in a list.  \n",
    "\n",
    "After building up the numpy array of test statistics, the function should plot a histogram of the test statistics and mark the value of the empirical test statistics by a vertical line (see https://matplotlib.org/api/_as_gen/matplotlib.axes.Axes.axvline.html). Finally, it should report the p-value. \n",
    "\n",
    "For Pseudo code see lecture. Start with 500 iterations to test your code – for the final result, use 5000 iterations."
   ]
  },
  {
   "cell_type": "code",
   "execution_count": 9,
   "metadata": {},
   "outputs": [],
   "source": [
    "\n",
    "def permutation_test(frame, numIter):\n",
    "    sample = np.array([])\n",
    "    \n",
    "    for i in range(0, numIter):\n",
    "        df_copy = frame.copy()\n",
    "        idx = df_copy.index\n",
    "\n",
    "        idx_arr = np.arange(0, len(idx))\n",
    "\n",
    "        np.random.shuffle(idx_arr)\n",
    "\n",
    "        shuffled_gender = df_copy[\"dirGender\"].iloc[idx_arr]\n",
    "\n",
    "        shuffled_gender_id = shuffled_gender.reset_index(drop = True)\n",
    "        shuffled_gender_id\n",
    "\n",
    "        df_copy[\"dirGender\"] = shuffled_gender_id\n",
    "\n",
    "        sample = np.append(sample, probDiff(df_copy))\n",
    "        \n",
    "    fig, axes = plt.subplots(nrows = 1, ncols = 1, figsize = (20,10))\n",
    "    axes.hist(sample, bins = 50, color = 'b')\n",
    "    axes.set_xlabel(\"Female - Male comedies\")\n",
    "    axes.set_ylabel(\"Number of Observations\")\n",
    "    plt.axvline(x = probDiff(frame), color = 'r')\n",
    "\n",
    "        \n",
    "    return sample\n"
   ]
  },
  {
   "cell_type": "code",
   "execution_count": 10,
   "metadata": {},
   "outputs": [
    {
     "data": {
      "image/png": "[encoded data removed]",
      "text/plain": [
       "<Figure size 2000x1000 with 1 Axes>"
      ]
     },
     "metadata": {},
     "output_type": "display_data"
    }
   ],
   "source": [
    "sampleData = permutation_test(df, 5000)"
   ]
  },
  {
   "cell_type": "code",
   "execution_count": 11,
   "metadata": {},
   "outputs": [
    {
     "name": "stdout",
     "output_type": "stream",
     "text": [
      "The p-value is 0.009\n"
     ]
    }
   ],
   "source": [
    "a = sampleData >= diff\n",
    "p = sum(a) / 5000\n",
    "print(f\"The p-value is {p}\")\n",
    "\n",
    "\n",
    "# Personal Note:\n",
    "# What is the probability by chance we get the value \n",
    "# of >= to p(comedy|female) - p(comedy|male) in 5000 randomizations"
   ]
  },
  {
   "cell_type": "markdown",
   "metadata": {},
   "source": [
    "### Question 3 (10pts)\n",
    "Written response: What do you conclude from this result?"
   ]
  },
  {
   "cell_type": "markdown",
   "metadata": {},
   "source": [
    "I can conclude that the data provided convincing evidence for the alternative hypothesis that women are more likely to direct a comedy than men, therefore we reject the null hypothesis that men are greater or equally likely to direct a comedy."
   ]
  }
 ],
 "metadata": {
  "kernelspec": {
   "display_name": "Python 3 (ipykernel)",
   "language": "python",
   "name": "python3"
  },
  "language_info": {
   "codemirror_mode": {
    "name": "ipython",
    "version": 3
   },
   "file_extension": ".py",
   "mimetype": "text/x-python",
   "name": "python",
   "nbconvert_exporter": "python",
   "pygments_lexer": "ipython3",
   "version": "3.9.13"
  },
  "vscode": {
   "interpreter": {
    "hash": "82c9595c6ac3df5bed1366f4aa85323e4ec1b3448185f6be6e163d2b6e222f49"
   }
  }
 },
 "nbformat": 4,
 "nbformat_minor": 2
}
