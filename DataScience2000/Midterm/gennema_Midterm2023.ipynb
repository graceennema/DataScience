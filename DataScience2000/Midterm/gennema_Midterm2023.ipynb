{
 "cells": [
  {
   "cell_type": "markdown",
   "id": "14bc799a",
   "metadata": {},
   "source": [
    "# Midterm - DS2000B and IS2002B\n",
    "\n",
    "## Student ID: 251227666 (XX / 100)\n",
    "\n",
    "## General comments\n",
    "\n",
    "This Midterm integrates knowledge and skills acquired in the first half of the semester, especially in the first six Assignments. You are allowed to use any document and source on your computer and look up documents on the internet. **You are NOT allowed to documents that are shared - i.e. on google docs or dropbox - or communicate in any other way with anyone (real or AI-agent such as chatGPT) inside or outside the class during the midterm.** To finish the midterm in the alloted 1hr and 50min, you will have to work efficiently. **Read the entirety of each question carefully.** \n",
    "\n",
    "You need to submit the midterm by the due date (12:20) on OWL under Assignments/Midterm. Late submission will be scored with 0 pts, unless you have received extra accommadation. So please start your submission five minutes before the deadline!  \n",
    "\n",
    "### Additional Guidance\n",
    "\n",
    "The midterm is supposed to be challenging. If you get stuck on a particular question because you can't solve a programming problem, just write down in text *how* you would try to solve the problem - if correct this can give you partial points. Then continue the other parts of the question, the next question, or next task. The midterm is designed, such that the solutions do not require that the previous question is solved correctly. \n",
    "If you need the solution from a previous problem, just *assume* some outcome and answer the question under that assumption. If you do this, make your assumptions explicit. \n",
    "\n",
    "Read all the questions carefully. Each questions demands a written answer as part of it. These need to be spelled out in a whole English sentence. "
   ]
  },
  {
   "cell_type": "code",
   "execution_count": 1,
   "id": "6ab035cf",
   "metadata": {},
   "outputs": [],
   "source": [
    "## Preliminaries\n",
    "# Sets up the environment by importing \n",
    "# pandas, numpy, matplotlib, and seaborn. \n",
    "\n",
    "### You are not allowed to rely on any other packages or modules.  \n",
    "\n",
    "import matplotlib\n",
    "import matplotlib.pyplot as plt \n",
    "\n",
    "import pandas as pd \n",
    "import numpy as np\n",
    "import seaborn as sns\n",
    "import scipy.stats as ss"
   ]
  },
  {
   "cell_type": "markdown",
   "id": "a93311e8",
   "metadata": {},
   "source": [
    "## Data set\n",
    "Transcranial direct current stimulation (tDCS) is a form of electrical brain stimulation. It send a weak electric current through the brain. tDCS is thought to increase brain plasticity if it is applied during behavioral training  \n",
    "\n",
    "In 2012, our lab conducted a study looking at the causal effect of tDCS during motor sequence learning. Participant where a ad-hoc sample from the undergraduate population at UCL (University College London). Participants had to type out sequences of 5 numbers as fast as possible on a keyboard. First, they were tested before training (pre-test). We recorded both average movement time (MT), i.e. how many seconds they required to complete the 5 key presses, and the proportion of trials with an error (Error). To reduce the differences in preexisting performance, we decided to admit only participants that could do the task at pretest reasonably well (Movement time < 3.6s) to the main study. This led to the exclusion of 15 participants (not in the dataset).\n",
    "\n",
    "Half of these participants were randomly assigned to a experimental group, and the other half to the control group. We decided to block for gender in this experiment, but no other variable. All participants trained the task for 4 consecutive days for 60min each with the left hand. During training, we attached two electrodes to their head. For the experimental group a current was sent between electrodes. The control group received only a brief stimulation, so they also experienced the initial tingle on the scalp, but after that the current was switched off. When interviewed afterwards, participants were not better at chance at guessing whether they were assigned to the tDCS or Control group.  \n",
    "\n",
    "The Data frame contains the following variables. \n",
    "\n",
    "1. SN - Subject Number \n",
    "2. age - Age of the Subject at time of testing in years \n",
    "3. gender - Gender of subject: 'F':female or 'M':male \n",
    "4. hand - performing hand 1=left 2=right (you have only left hand data here)\n",
    "5. tDCS - 1 = Experimental group, 0 = control group  \n",
    "5. Error_pre: Proportion of error trials at pre-test \n",
    "6. Error_post: Proportion of error trials at post-test\n",
    "7. MT_pre: average Movement time at pre-test  \n",
    "8. MT_post: average Movement time at post-test\n",
    "\n",
    "**REFERENCE**: \n",
    "Waters-Metenier, S., Husain, M., Wiestler, T., & Diedrichsen, J. (2014) Bihemispheric tDCS enhances effector-independent representations of motor synergy and sequence learning. Journal of Neuroscience.\n",
    "\n",
    "All details required to answer this midterm are given in this Jupyter notebook - no information from the (more complex) original study is required. \n",
    "\n",
    "\n",
    "**WARNING**: While this is a real result and has been replicated a number of times, other studies have found smaller or no effect of tDCS on motor learning. Therefore the overall efficacy of this treatment is still a matter of debate. Also, tDCS is only safe when applied with medically approved equipment and by trained personnel - so please do not try this at home.    "
   ]
  },
  {
   "cell_type": "markdown",
   "id": "629cd423",
   "metadata": {},
   "source": [
    "## Task 1: Descriptors  "
   ]
  },
  {
   "cell_type": "markdown",
   "id": "7609e587",
   "metadata": {},
   "source": [
    "### Question 1.1 (5 pts)\n",
    "Load the data file `tDCS_study_data.csv`. Find the participant with the slowest movement time at pre-test (MT_pre) and print out the corresponding row of the data frame),\n",
    "\n",
    "*Written answer*: report their MT_pre, their age, and gender (in a full English sentence)"
   ]
  },
  {
   "cell_type": "code",
   "execution_count": 2,
   "id": "992eae52",
   "metadata": {},
   "outputs": [
    {
     "data": {
      "text/plain": [
       "SN                 10\n",
       "age                23\n",
       "gender              M\n",
       "hand                1\n",
       "tDCS                1\n",
       "Error_pre     0.03125\n",
       "Error_post    0.09375\n",
       "MT_pre          3.582\n",
       "MT_post       0.86422\n",
       "Name: 7, dtype: object"
      ]
     },
     "execution_count": 2,
     "metadata": {},
     "output_type": "execute_result"
    }
   ],
   "source": [
    "df = pd.read_csv(\"tDCS_study_data.csv\")\n",
    "slowest = df.iloc[7]\n",
    "slowest"
   ]
  },
  {
   "cell_type": "markdown",
   "id": "c3504252",
   "metadata": {},
   "source": [
    "The slowest participant has a pre-time of 3.582, they are a 23 y/o male."
   ]
  },
  {
   "cell_type": "markdown",
   "id": "0de7114b",
   "metadata": {},
   "source": [
    "### Question 1.2 (7 pts)\n",
    "Print a table that shows the number of males and females participants assigned to the Experimental (tDCS) and Control group respectively. (3pts)\n",
    "\n",
    "*Written answer*: What is the cause of this particular distribution of males / females across the two groups? (4pts)\n",
    "\n",
    "*Hint*: see description of dataset for possible clues"
   ]
  },
  {
   "cell_type": "code",
   "execution_count": 3,
   "id": "7eddfd22",
   "metadata": {},
   "outputs": [
    {
     "data": {
      "text/html": [
       "<div>\n",
       "<style scoped>\n",
       "    .dataframe tbody tr th:only-of-type {\n",
       "        vertical-align: middle;\n",
       "    }\n",
       "\n",
       "    .dataframe tbody tr th {\n",
       "        vertical-align: top;\n",
       "    }\n",
       "\n",
       "    .dataframe thead th {\n",
       "        text-align: right;\n",
       "    }\n",
       "</style>\n",
       "<table border=\"1\" class=\"dataframe\">\n",
       "  <thead>\n",
       "    <tr style=\"text-align: right;\">\n",
       "      <th>tDCS</th>\n",
       "      <th>0</th>\n",
       "      <th>1</th>\n",
       "      <th>All</th>\n",
       "    </tr>\n",
       "    <tr>\n",
       "      <th>gender</th>\n",
       "      <th></th>\n",
       "      <th></th>\n",
       "      <th></th>\n",
       "    </tr>\n",
       "  </thead>\n",
       "  <tbody>\n",
       "    <tr>\n",
       "      <th>F</th>\n",
       "      <td>6</td>\n",
       "      <td>6</td>\n",
       "      <td>12</td>\n",
       "    </tr>\n",
       "    <tr>\n",
       "      <th>M</th>\n",
       "      <td>6</td>\n",
       "      <td>6</td>\n",
       "      <td>12</td>\n",
       "    </tr>\n",
       "    <tr>\n",
       "      <th>All</th>\n",
       "      <td>12</td>\n",
       "      <td>12</td>\n",
       "      <td>24</td>\n",
       "    </tr>\n",
       "  </tbody>\n",
       "</table>\n",
       "</div>"
      ],
      "text/plain": [
       "tDCS     0   1  All\n",
       "gender             \n",
       "F        6   6   12\n",
       "M        6   6   12\n",
       "All     12  12   24"
      ]
     },
     "execution_count": 3,
     "metadata": {},
     "output_type": "execute_result"
    }
   ],
   "source": [
    "table = pd.crosstab(df['gender'], df['tDCS'], margins = True)\n",
    "table"
   ]
  },
  {
   "cell_type": "markdown",
   "id": "7b002721",
   "metadata": {},
   "source": [
    "The particular distribution is a result of blocking which was controlled for in the experimental set up. Treatment (1) and control (0) were then assigned randomly. "
   ]
  },
  {
   "cell_type": "markdown",
   "id": "665d3881",
   "metadata": {},
   "source": [
    "### Question 1.3 (7pts)\n",
    "Plot a histogram of the pretest-MT using 9 bins\n",
    "\n",
    "*Written answer*: How would describe the shape of the distribution? What may be the reason for this particular shape of the distribution?\n",
    "\n",
    "*Hint*: see description of dataset for possible clues\n",
    "\n"
   ]
  },
  {
   "cell_type": "code",
   "execution_count": 4,
   "id": "983c41d3",
   "metadata": {},
   "outputs": [
    {
     "data": {
      "text/plain": [
       "Text(0, 0.5, 'Count')"
      ]
     },
     "execution_count": 4,
     "metadata": {},
     "output_type": "execute_result"
    },
    {
     "data": {
      "image/png": "[encoded data removed]",
      "text/plain": [
       "<Figure size 1000x500 with 1 Axes>"
      ]
     },
     "metadata": {},
     "output_type": "display_data"
    }
   ],
   "source": [
    "fig, axes = plt.subplots(figsize = (10,5))\n",
    "\n",
    "axes.hist(df['MT_pre'], bins = 9, color = 'g')\n",
    "axes.set_xlabel(\"Movement test pre-time\")\n",
    "axes.set_ylabel(\"Count\")"
   ]
  },
  {
   "cell_type": "markdown",
   "id": "58935f5d",
   "metadata": {},
   "source": [
    "Figure 1. Histogram of movement time pre test. Time is recorded in seconds. "
   ]
  },
  {
   "cell_type": "markdown",
   "id": "504db8c7",
   "metadata": {},
   "source": [
    "The shape of the distribution is Left skewed. This could be because participants were experiencing the learning curve of the activity, resulting in larger movement times. "
   ]
  },
  {
   "cell_type": "markdown",
   "id": "aafb0d50",
   "metadata": {},
   "source": [
    "### Question 1.4 (9pts)\n",
    "\n",
    "Generate a boxplot of the pre-MT, with separate boxes for the experimental and control group. (2pts)\n",
    "\n",
    "*Written answer*: Which group performed faster at pre-test? (2pts)\n",
    "\n",
    "*Written answer*: Assume that the authors then used a randomization test to test for the effect of tDCS onto the post-test test performance. They found a significant group difference with p=0.01. \n",
    "Given the observed differences at pre-test, do you think you can still meaningfully interpret this p-value? That is, can the authors still reject the Null-hypothesis that tDCS has no influence on post-test performance? (5pts)"
   ]
  },
  {
   "cell_type": "code",
   "execution_count": 5,
   "id": "2afd0377",
   "metadata": {},
   "outputs": [
    {
     "data": {
      "text/plain": [
       "Text(0.5, 0, 'Condition (Control/Experimental)')"
      ]
     },
     "execution_count": 5,
     "metadata": {},
     "output_type": "execute_result"
    },
    {
     "data": {
      "image/png": "[encoded data removed]",
      "text/plain": [
       "<Figure size 1000x500 with 1 Axes>"
      ]
     },
     "metadata": {},
     "output_type": "display_data"
    }
   ],
   "source": [
    "fig, axes = plt.subplots(figsize = (10,5))\n",
    "sns.boxplot(data = df, y = \"MT_pre\", x = \"tDCS\", ax = axes, color = \"b\")\n",
    "axes.set_ylabel(\"Movement Time Pretest\")\n",
    "axes.set_xlabel(\"Condition (Control/Experimental)\")"
   ]
  },
  {
   "cell_type": "markdown",
   "id": "e7947d6d",
   "metadata": {},
   "source": [
    "Figure 2. Box plot of movement time pretest (in seconds) vs the control (0) and experimental groups (1)"
   ]
  },
  {
   "cell_type": "markdown",
   "id": "7a231216",
   "metadata": {},
   "source": [
    "The control group performed faster during the pre test. I think the p-value becomes less meaningfull as the differnece in initial test results were so vast. I think a larger sample size would help to even out the averages in pre-time between groups, this would also allow for a better representation of the greater population. With all this being said, the fact that the p value is very low does speak to the possible rejection, as both groups improved but with the experimental being so much higher initially and so much lower after, that should also be noted. Therefore, I would conclude that the null hypothesis can be rejected, but further testing should be done to verify it for the greater population. "
   ]
  },
  {
   "cell_type": "markdown",
   "id": "0204ea53",
   "metadata": {},
   "source": [
    "### Question 1.5 (6pts)\n",
    "\n",
    "Generate a boxplot of the MT_post, with separate boxes for the experimental and control group. (2pts)\n",
    "\n",
    "**Written answer**: Was the 25th percentile of MT_post for the control group smaller or larger than 75th percentile of MT_post for the experimental group? (4pts)"
   ]
  },
  {
   "cell_type": "code",
   "execution_count": 6,
   "id": "832e8fa7",
   "metadata": {},
   "outputs": [
    {
     "data": {
      "text/plain": [
       "Text(0.5, 0, 'Condition (Control/Experimental)')"
      ]
     },
     "execution_count": 6,
     "metadata": {},
     "output_type": "execute_result"
    },
    {
     "data": {
      "image/png": "[encoded data removed]",
      "text/plain": [
       "<Figure size 1000x500 with 1 Axes>"
      ]
     },
     "metadata": {},
     "output_type": "display_data"
    }
   ],
   "source": [
    "fig, axes = plt.subplots(figsize = (10,5))\n",
    "sns.boxplot(data = df, y = \"MT_post\", x = \"tDCS\", ax = axes, color = \"b\")\n",
    "axes.set_ylabel(\"Movement Time Post test\")\n",
    "axes.set_xlabel(\"Condition (Control/Experimental)\")"
   ]
  },
  {
   "cell_type": "markdown",
   "id": "0260a427",
   "metadata": {},
   "source": [
    "Figure 3. Box plot of movement time post test (in seconds) vs the control (0) and experimental groups (1)"
   ]
  },
  {
   "cell_type": "markdown",
   "id": "988f3a8b",
   "metadata": {},
   "source": [
    "The 25th percentile of the control group is larger that the 75th percentile of the experimental group. From the graph it appears to be control = 1.15 and experimental = 1.08 or values close to. "
   ]
  },
  {
   "cell_type": "markdown",
   "id": "b3c7cf22",
   "metadata": {},
   "source": [
    "## Task 2: Randomization test and experimental inference\n",
    "### Question 2.1 (8pts)\n",
    "The authors want to test the hypothesis that the application of tDCS leads to a larger *change* from the pretest MT to post-test MT, as compared to a group that receives no tDCS. \n",
    "The authors want to generalize the results to the group that the sample was drawn from (young healthy college students), independent of their exact age and their pre-test performance.  \n",
    "\n",
    "*Written answer*: Formulate the appropriate Null-hypothesis test. (3pts) \n",
    "\n",
    "Under this Null-hypothesis hypothesis, which variable is *exchangeable*? That is, which column in the data frame should you shuffle to build up a distribution under the Null hypothesis: \n",
    "\n",
    " * Age \n",
    " * MT_pre\n",
    " * MT_post\n",
    " * tDCS?\n",
    "\n",
    "Justify why your chosen answer is correct, and why all other answers are incorrect. (5pts)\n",
    "\n"
   ]
  },
  {
   "cell_type": "markdown",
   "id": "7cf2a49e",
   "metadata": {},
   "source": [
    "H0: tDCS has not effect on the change from pretestMT to posttest MT. The difference in MT (pre-post) is the same or smaller in the experimental as compared to the control group. (3pts)\n",
    "\n",
    "Under the Null-hypothesis, tDCS (Experimental vs. Control) is exchangeable (because this was randomly assigned) and should be shuffled. Note that all other variables are not exchangeable as they were not randomly assigned.  (2pts for the right pick, 3pts for correct justification.)"
   ]
  },
  {
   "cell_type": "markdown",
   "id": "cce4962a",
   "metadata": {},
   "source": [
    "I'm pretty sure the answers for this question were given above.  "
   ]
  },
  {
   "cell_type": "markdown",
   "id": "34d098ca",
   "metadata": {},
   "source": [
    "### Question 2.2 (12pts)\n",
    "Perform a randomization test to test the hypothesis that the application of tDCS causes the post-test MT to be *lower* in the Experimental as compared to the control group.\n",
    "First, write a function that returns the mean difference in MT_post between the experimental and control group as your test statistics. \n",
    "Then use this function in a randomization test with at least 10000 iterations to build the expected  distribution of this statistics under the Null-hypothesis. \n",
    "\n",
    "*Written answer*: Report the observed mean difference, and the p-value for the case that you decided to reject the Null-hypothesis for the observed (or a more extreme) mean difference. Choose carefully between a one-sided and two-sided test. What is the correct interpretation of the p-value?    \n",
    "\n",
    "*Note*: If you are using functions from a previous homework assignment, include all the necessary code in your answer. "
   ]
  },
  {
   "cell_type": "code",
   "execution_count": 7,
   "id": "a3259174",
   "metadata": {},
   "outputs": [],
   "source": [
    "def meanDiff(D):\n",
    "\n",
    "    postTimeC = D[\"MT_post\"].groupby(D['tDCS']).get_group(0).mean()\n",
    "\n",
    "    postTimeE = D[\"MT_post\"].groupby(D['tDCS']).get_group(1).mean()\n",
    "\n",
    "    diff = postTimeC - postTimeE\n",
    "    \n",
    "    return diff\n",
    "\n",
    "\n",
    "def permutation_test(frame, fnc, shuffle, numIter = 500, sides = 1, pBin = 25):\n",
    "    sample = np.array([])\n",
    "    \n",
    "    for i in range(0, numIter):\n",
    "        df_copy = frame.copy()\n",
    "        idx = df_copy.index\n",
    "        idx_arr = np.arange(0, len(idx))\n",
    "        np.random.shuffle(idx_arr)\n",
    "        shuffled_gender = df_copy[shuffle].iloc[idx_arr]\n",
    "        shuffled_gender_id = shuffled_gender.reset_index(drop = True)\n",
    "        df_copy[shuffle] = shuffled_gender_id\n",
    "        sample = np.append(sample, fnc(df_copy))\n",
    "        \n",
    "    # Graph     \n",
    "    fig, axes = plt.subplots(nrows = 1, ncols = 1, figsize = (20,10))\n",
    "    axes.hist(sample, bins = pBin, color = 'b')\n",
    "    plt.axvline(x = fnc(frame), color = 'r')\n",
    "    axes.set_ylabel(\"Number of Observations\")\n",
    "    axes.set_xlabel(f\"Result of test\")\n",
    "    \n",
    "    # P-Value\n",
    "    if sides == 2:\n",
    "        plt.axvline(x = -(fnc(frame)), color = 'r')\n",
    "        a = np.absolute(sample) >= fnc(frame)\n",
    "        twosided = sum(a) / len(sample)\n",
    "    \n",
    "        print(f\"The result of the two sided test is {twosided}\")\n",
    "        \n",
    "    else:\n",
    "        a = sample >= fnc(frame)\n",
    "        p = sum(a) / len(sample)\n",
    "        print(f\"The p-value is {p}\")\n",
    "    \n",
    "    return sample\n"
   ]
  },
  {
   "cell_type": "code",
   "execution_count": 8,
   "id": "b8332ebf",
   "metadata": {},
   "outputs": [
    {
     "name": "stdout",
     "output_type": "stream",
     "text": [
      "The p-value is 0.0001\n",
      "The observed mean difference is 0.46471833333333323\n"
     ]
    },
    {
     "data": {
      "image/png": "[encoded data removed]",
      "text/plain": [
       "<Figure size 2000x1000 with 1 Axes>"
      ]
     },
     "metadata": {},
     "output_type": "display_data"
    }
   ],
   "source": [
    "store = permutation_test(df, fnc = meanDiff, shuffle = \"tDCS\", numIter = 10000, sides = 1, pBin = 25)\n",
    "print(\"The observed mean difference is\", meanDiff(df))"
   ]
  },
  {
   "cell_type": "markdown",
   "id": "240f7c5a",
   "metadata": {},
   "source": [
    "Figure 4. Histogram of distributions after the result of the mean difference test between experimental and control groups and thir post-test time. The red line is the test statistic at a value of 0.4647. "
   ]
  },
  {
   "cell_type": "markdown",
   "id": "b0cd590b",
   "metadata": {},
   "source": [
    "Due to the p-value being less than 0.05 (my value was 0.0003), the null hypothesis that tDCS has no effect on the change from pretestMT to posttest MT is rejected. The mean difference statistic was a reported value of 0.4647."
   ]
  },
  {
   "cell_type": "markdown",
   "id": "cc734dee",
   "metadata": {},
   "source": [
    "### Question 2.3 (10pts)\n",
    "Now let's test the Hypothesis that the application of tDCS influences (increases or decreases) the proportion of errors that people make in the post-test. \n",
    "\n",
    "*Written answer*: Formulate the corresponding Null-hypothesis. (2pts)\n",
    "\n",
    "Then write a function to return the difference in the proportion of errors between the two groups. (1pts)\n",
    "\n",
    "*Written answer*: What Difference in error rate do you observe between the groups? Which group made more errors? (1pts)\n",
    "\n",
    "Conduct conduct the appropriate randomization test to determine a p-value, if you had rejected the Null-hypothesis for the observed difference. (4pts)\n",
    "\n",
    "*Written answer*: What is your conclusion about the above Hypothesis? (2pts)"
   ]
  },
  {
   "cell_type": "markdown",
   "id": "fbe4c10c",
   "metadata": {},
   "source": [
    "H0: tDCS has no effect on the proportion of errors that people make post test.  \n",
    "HA: tDCS has an effect on the proportion of errors that people make post test."
   ]
  },
  {
   "cell_type": "code",
   "execution_count": 9,
   "id": "0b03f934",
   "metadata": {},
   "outputs": [
    {
     "data": {
      "text/plain": [
       "0.02083333333333333"
      ]
     },
     "execution_count": 9,
     "metadata": {},
     "output_type": "execute_result"
    }
   ],
   "source": [
    "# Ok so because it says application of tDCS I have to assume that it is talking about the experimental group\n",
    "# because that is the group that had an effect applied. \n",
    "\n",
    "def meanDiff2(D): # Error_pre\n",
    "    preErr = D[\"Error_pre\"].groupby(D['tDCS']).get_group(1).mean()\n",
    "\n",
    "    postErr = D[\"Error_post\"].groupby(D['tDCS']).get_group(1).mean()\n",
    "\n",
    "    diff = preErr - postErr\n",
    "    \n",
    "    return diff\n",
    "\n",
    "meanDiff2(df)"
   ]
  },
  {
   "cell_type": "markdown",
   "id": "33a2fcd2",
   "metadata": {},
   "source": [
    "The difference in proportions of error rate is very small at 0.02083. The group that made more errors was the pretest group."
   ]
  },
  {
   "cell_type": "code",
   "execution_count": 10,
   "id": "42fc68b5",
   "metadata": {},
   "outputs": [
    {
     "name": "stdout",
     "output_type": "stream",
     "text": [
      "The result of the two sided test is 0.665\n"
     ]
    },
    {
     "data": {
      "image/png": "[encoded data removed]",
      "text/plain": [
       "<Figure size 2000x1000 with 1 Axes>"
      ]
     },
     "metadata": {},
     "output_type": "display_data"
    }
   ],
   "source": [
    "store = permutation_test(df, fnc = meanDiff2, shuffle = \"tDCS\", numIter = 10000, sides = 2, pBin = 25)"
   ]
  },
  {
   "cell_type": "markdown",
   "id": "0ccbd186",
   "metadata": {},
   "source": [
    "Figure 5. Histogram of distributions after the result of the mean difference test between error proportions pre and post test. The red line is the test statistic at a value of +-0.02083, as a two-tailed test was applied."
   ]
  },
  {
   "cell_type": "markdown",
   "id": "57e07b5d",
   "metadata": {},
   "source": [
    "Due to the high p-value (p = 0.6717  > 0.5), the null hypothesis that there is no difference between pre and post times cannot be rejected."
   ]
  },
  {
   "cell_type": "markdown",
   "id": "07ea47e9",
   "metadata": {},
   "source": [
    "### Question 2.4 (13pts)\n",
    "Based on this result, the reviewers of the paper asked for a Bayesian test to determine how strong the evidence for the Null-hypothesis (that tDCS does not cause a difference in Error rate in the Post-test). \n",
    "\n",
    "The Null-hypothesis (H0) is that the average error rate difference is normally distributed with mean zero and standard deviation 0.02. \n",
    "\n",
    "The alternative hypothesis (H1) is undirected: \n",
    "With p=0.5, the error rate difference is normally distributed with mean 0.03 and standard deviation of 0.02\n",
    "With p=0.5, the error rate difference is normally distributed with mean -0.03 and standard deviation of 0.02. \n",
    "\n",
    "What is the Bayes Factor for H0 vs. H1? Is the evidence in favor of the the H0 or H1? How strong is that evidence (according to Kaas & Rafetery's convention)? \n",
    "\n",
    "*Hint:* If you have problems solving this for the undirected hypothesis, simply solve it for the directed hypothesis that states that the error rate difference is normally distributed with mean -0.03 (Higher error rate for Experimental than control group) and standard deviation of 0.02. You will loose 5 points, but at least you can show that you can do a Bayesian test (total worth 8pts).   "
   ]
  },
  {
   "cell_type": "code",
   "execution_count": 11,
   "id": "1f827266",
   "metadata": {},
   "outputs": [
    {
     "name": "stdout",
     "output_type": "stream",
     "text": [
      "3.9149528694764155e-125\n"
     ]
    }
   ],
   "source": [
    "p0 = ss.norm.pdf(meanDiff2(df), 0, 0.02)\n",
    "\n",
    "p1 = ss.norm.pdf(meanDiff2(df), 0.5, 0.02)\n",
    "\n",
    "# effect = 0.5?\n",
    "\n",
    "# Calculate BF10\n",
    "BF10 = p1/p0\n",
    "print(BF10)"
   ]
  },
  {
   "cell_type": "markdown",
   "id": "e38643be",
   "metadata": {},
   "source": [
    "Do to the very low bayes factor the evidence is negative, in favour of the other hypothesis. Which means the null hypothesis that there is no differnece is more likely correct."
   ]
  },
  {
   "cell_type": "markdown",
   "id": "9b8ac07a",
   "metadata": {},
   "source": [
    "## Task 3: Bootstrap \n",
    "### Question 3.1  (13 pts)\n",
    "Clearly people differ quite a bit in their ability to produce finger sequences even before training (and before getting tDCS). \n",
    "To get a better estimate of the mean performance (the population parameter), we only have the sample of 24 participants.  \n",
    "\n",
    "Report the best estimate of the average pre-test MT in the population. (3pts) Use a bootstrap analysis (using a percentile method) to estimate a 95% confidence interval around this estimate. (4pts)\n",
    "\n",
    "*Written answer*: What is the correct interpretation of this confidence interval? What is the population for which this confidence interval is valid?   (6 pts)"
   ]
  },
  {
   "cell_type": "code",
   "execution_count": 12,
   "id": "2c273602",
   "metadata": {},
   "outputs": [],
   "source": [
    "def confidenceInt(data, prec):\n",
    "    bounds = []\n",
    "    bounds.append(np.percentile(data, 100-prec))\n",
    "    bounds.append(np.percentile(data, prec))\n",
    "    \n",
    "    return bounds\n",
    "\n",
    "# Input arguments \n",
    "# - data: data series to resample\n",
    "# - N: Sample size for each iteration \n",
    "# - fcn: function to apply to the sample to get the statistics\n",
    "# - numIter: Number of resamples (should default to 1000) \n",
    "\n",
    "# Output argument: \n",
    "# - Numpy array of size numIter that contains the estimates of the statistics (i.e. the bootstrap sample)\n",
    "\n",
    "def bootstrap(data, N, fcn, numIter = 1000):\n",
    "    sample = np.array([])\n",
    "    \n",
    "    for i in range (0, numIter):\n",
    "        value = np.random.choice(data, replace = True, size = N)\n",
    "       \n",
    "        x = fcn(value)\n",
    "        \n",
    "        \n",
    "        sample = np.append(sample, x)\n",
    "    \n",
    "    \n",
    "        \n",
    "    return sample\n"
   ]
  },
  {
   "cell_type": "code",
   "execution_count": 13,
   "id": "6c44ffca",
   "metadata": {},
   "outputs": [
    {
     "name": "stdout",
     "output_type": "stream",
     "text": [
      "The best estimate of the average pre-test time is 2.716799999999999\n",
      "With a 95% confidence interval of [2.515323125, 2.91962375]\n"
     ]
    }
   ],
   "source": [
    "print(\"The best estimate of the average pre-test time is\", df[\"MT_pre\"].mean())\n",
    "\n",
    "s = bootstrap(df[\"MT_pre\"], 24, np.mean, numIter = 10000)\n",
    "print(\"With a 95% confidence interval of\", confidenceInt(s, 95))\n"
   ]
  },
  {
   "cell_type": "markdown",
   "id": "ef3cd308",
   "metadata": {},
   "source": [
    "This means that 95% of the time the average pre-test time will be found within this interval. Due to the small sample size the generalizabilty of this stat is low and therefore only applies to the population of the sample itself."
   ]
  },
  {
   "cell_type": "markdown",
   "id": "06c264e5",
   "metadata": {},
   "source": [
    "### Question 3.2 (10 pts)\n",
    "Now the population parameter we are interested in is the minimal time that the best UCL undergrad student (without specific training) can perform at the pre-test. \n",
    "\n",
    "First report the minimal value in the sample. (1pts) \n",
    "\n",
    "Then use a bootstrap analysis to plot a bootstrap sample distribution for the minimal value. (2pts)  \n",
    "\n",
    "*Written answer*: Describe the shape of this distribution (2 pts)\n",
    "\n",
    "Finally use the  percentile method (as in question 3.1) to obtain a 95% confidence interval for the population parameter. (2 pts)\n",
    "\n",
    "*Written answer*: Give a reasons why this Confidence interval that you constructed is most likely incorrect. (3pts)"
   ]
  },
  {
   "cell_type": "code",
   "execution_count": 14,
   "id": "19179eb4",
   "metadata": {},
   "outputs": [
    {
     "name": "stdout",
     "output_type": "stream",
     "text": [
      "The minimal value is 1.6\n"
     ]
    }
   ],
   "source": [
    "# minimal value in pretest time (MT_pre) for someone wthout training -- it's pre no one has training??\n",
    "print(\"The minimal value is\", df['MT_pre'].min())"
   ]
  },
  {
   "cell_type": "code",
   "execution_count": 15,
   "id": "b7dbe617",
   "metadata": {},
   "outputs": [
    {
     "data": {
      "text/plain": [
       "<matplotlib.lines.Line2D at 0x7ff8fc9094c0>"
      ]
     },
     "execution_count": 15,
     "metadata": {},
     "output_type": "execute_result"
    },
    {
     "data": {
      "image/png": "[encoded data removed]",
      "text/plain": [
       "<Figure size 2000x700 with 1 Axes>"
      ]
     },
     "metadata": {},
     "output_type": "display_data"
    }
   ],
   "source": [
    "m = bootstrap(df['MT_pre'], 24, np.min, numIter = 10000)\n",
    "\n",
    "fig, axes = plt.subplots(nrows = 1, ncols = 1, figsize = (20,7))\n",
    "axes.hist(m, bins = 10, color = 'b')\n",
    "axes.set_xlabel(\"Minimum Time\")\n",
    "axes.set_ylabel(\"Count\")\n",
    "plt.axvline(x = confidenceInt(m, 95)[0], color = 'r')\n",
    "plt.axvline(x = confidenceInt(m, 95)[1], color = 'r')"
   ]
  },
  {
   "cell_type": "markdown",
   "id": "af06edea",
   "metadata": {},
   "source": [
    "Figure 6. Histogram of distribution of miminum value obtained in bootstrap sample of movement test pre-time. Red lines are at the 95% confidence interval."
   ]
  },
  {
   "cell_type": "markdown",
   "id": "ffaf662b",
   "metadata": {},
   "source": [
    "The shape of this distribution is right skewed. "
   ]
  },
  {
   "cell_type": "code",
   "execution_count": 16,
   "id": "143b5aa9",
   "metadata": {},
   "outputs": [
    {
     "name": "stdout",
     "output_type": "stream",
     "text": [
      "The confidence interval is [1.6, 1.8306]\n"
     ]
    }
   ],
   "source": [
    "print(\"The confidence interval is\", confidenceInt(m, 95))"
   ]
  },
  {
   "cell_type": "markdown",
   "id": "edb43791",
   "metadata": {},
   "source": [
    "The confidence interval is most likely incorrect as the sample size is so small. Although this sums up the sample population very well it is unlikely that it would apply in the real world."
   ]
  }
 ],
 "metadata": {
  "kernelspec": {
   "display_name": "Python 3 (ipykernel)",
   "language": "python",
   "name": "python3"
  },
  "language_info": {
   "codemirror_mode": {
    "name": "ipython",
    "version": 3
   },
   "file_extension": ".py",
   "mimetype": "text/x-python",
   "name": "python",
   "nbconvert_exporter": "python",
   "pygments_lexer": "ipython3",
   "version": "3.9.13"
  },
  "vscode": {
   "interpreter": {
    "hash": "82c9595c6ac3df5bed1366f4aa85323e4ec1b3448185f6be6e163d2b6e222f49"
   }
  }
 },
 "nbformat": 4,
 "nbformat_minor": 5
}
