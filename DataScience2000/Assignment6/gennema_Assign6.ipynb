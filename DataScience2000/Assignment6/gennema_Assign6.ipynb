{
 "cells": [
  {
   "cell_type": "markdown",
   "metadata": {},
   "source": [
    "# Assignment 06\n",
    "## Learning outcomes\n",
    "This Assignment integrates knowledge and skills acquired in the last 5 Assignments – and extends it to Power analysis and Bayesian inference. The Assignment simultaneously serves as a practice for the midterm, which will be comparable in scope, length, and difficulty. \n",
    "## Preliminaries\n",
    "Sets up the environment by importing pandas, numpy, matplotlib, and seaborn. Because we are using plots make sure that you configure your notebook such that plots are shown inline (see Assignment 2). Preliminaries are already taken care off in the workbook. "
   ]
  },
  {
   "cell_type": "code",
   "execution_count": null,
   "metadata": {},
   "outputs": [],
   "source": [
    "import pandas as pd \n",
    "import numpy as np\n",
    "import seaborn as sns\n",
    "import scipy.stats as ss\n",
    "import matplotlib\n",
    "matplotlib.use('TkAgg')\n",
    "import matplotlib.pyplot as plt \n",
    "%matplotlib inline"
   ]
  },
  {
   "cell_type": "markdown",
   "metadata": {},
   "source": [
    "## Task 1: Power and Bayesian hypothesis testing (40pt)\n",
    "### Question 1 (10pt)\n",
    "For this tasks we will use the medical advisor example from last assignment. You are thinking about hiring a medical advisor for a liver transplant that had 100 cases and only 5 complications. The normal base rate of complications in North America is 10%. You are trying to decide between two hypotheses: \n",
    "\n",
    "H0: The Consultant does not impact the complication rate (i.e. p=0.1)\n",
    "\n",
    "H1: The Consultant halves the complication rate (i.e. p=0.05)\n",
    "\n",
    "Write a function that generates data (using the Monte-carlo function from last assignment) assuming the H0 and assuming the H1. The function should plot an overlapped histogram of the two distributions (see lecture slides). The function should then calculate and print out the p-value and the power for a decision citerion, where you reject the Null-hypothesis for a specific number of complications (or lower). Then run the function to calculate the probability that you falsely reject the Null-hypothesis after observing 5 complications."
   ]
  },
  {
   "cell_type": "code",
   "execution_count": null,
   "metadata": {},
   "outputs": [],
   "source": [
    "def monteCarloSim(probH0, probH1, N, t, obs):\n",
    "\n",
    "    H0numHead = np.array([])\n",
    "    H1numHead = np.array([])\n",
    "\n",
    "    # Coin Tosses\n",
    "    for trial in range(0, t):\n",
    "        H0sim = np.random.choice([0,1], size = N, replace = True, p = [1-probH0, probH0]) # p is probability per element\n",
    "        H0numHead = np.append(H0numHead, np.sum(H0sim))\n",
    "        \n",
    "        H1sim = np.random.choice([0,1], size = N, replace = True, p = [1-probH1, probH1]) # p is probability per element\n",
    "        H1numHead = np.append(H1numHead, np.sum(H1sim))\n",
    "        \n",
    "#         H0numHead = np.append(H0numHead, np.random.binomial(N, probH0))\n",
    "#         H1numHead = np.append(H1numHead, np.random.binomial(N, probH1))\n",
    "      \n",
    "    # Graphs \n",
    "    ax = sns.distplot(H0numHead, color = 'r')\n",
    "    sns.distplot(H1numHead, ax = ax, color = 'b')\n",
    "    plt.axvline(x = obs, color = \"black\")\n",
    "\n",
    "    # P-Value \n",
    "    #Probability of rejecting H0 if H0 is true\n",
    "    \n",
    "    pValue = sum(H0numHead < obs)/len(H0numHead)\n",
    "    print(f\"The p-value is {pValue}\")\n",
    "    \n",
    "    if pValue <= 0.05:\n",
    "        print(\"The null hypothesis was rejected due to the low p-value\")\n",
    "    else:\n",
    "        print(\"There was not sufficient evidence found to reject the null hypothesis\")\n",
    "    \n",
    "    # Power\n",
    "    # prbability of rejectign H0 if HA is true\n",
    "    \n",
    "    power = sum(H1numHead < obs) / len(H1numHead)\n",
    "    print(f\"The power is {power}\")\n",
    "    \n",
    "    if power >= 0.80:\n",
    "        print(\"The null hypothesis was rejected due to the high p-value\")\n",
    "    else:\n",
    "        print(\"There was not sufficient evidence found to reject the null hypothesis\")\n",
    "    \n",
    "    \n",
    "\n",
    "monteCarloSim(probH0 = 0.1, probH1 = 0.05, N = 100, t = 2000, obs = 5)"
   ]
  },
  {
   "cell_type": "markdown",
   "metadata": {},
   "source": [
    "Figure 1. Plot of distributions of a monte carlo sim. Red is representative of the distibution under the null hypothesis with a 0.1 complication rate and blue is representative of the distribution under the alternative hypothesis with a 0.05 complication rate. Black line is at a complication rate of 5%."
   ]
  },
  {
   "cell_type": "markdown",
   "metadata": {},
   "source": [
    "### Question 2 (8 pt)\n",
    "According to current statistical standards (i.e., a critical p-value of 5%), would the decision to reject the Null be appropriate? How does the power calculation influence your thinking about this decision? "
   ]
  },
  {
   "cell_type": "markdown",
   "metadata": {},
   "source": [
    "The null hypothesis would be rejected based on the critical p-value threshold, but the power does influence my decision as the power is not high. There is only a ~40% chance that the null hypothesis is correctly rejected, which is relatively low. There is large chance to get a type 2 error. With this in mind I would argue there is not enough evidence to reject the null hypothesis."
   ]
  },
  {
   "cell_type": "markdown",
   "metadata": {},
   "source": [
    "### Question 3 ( 7 pt)\n",
    "How the p-value and the power change if you decided to hire the advisor if there were 7 or less complications in 100 cases? Written answer: Would this be a better decision criterion than 5 case? "
   ]
  },
  {
   "cell_type": "code",
   "execution_count": null,
   "metadata": {},
   "outputs": [],
   "source": [
    "monteCarloSim(probH0 = 0.1, probH1 = 0.05, N = 100, t = 2000, obs = 7)"
   ]
  },
  {
   "cell_type": "markdown",
   "metadata": {},
   "source": [
    "Figure 2. Plot of distributions of a monte carlo sim. Red is representative of the distibution under the null hypothesis with a 0.1 complication rate and blue is representative of the distribution under the alternative hypothesis with a 0.05 complication rate. Black line is at a complication rate of 7%"
   ]
  },
  {
   "cell_type": "markdown",
   "metadata": {},
   "source": [
    "Written answer: This is much better criteria as p-value and power do not say conflicting things. Both agree that there is not sufficient evidence to reject the null hypothesis. Therefore the advisor does not lower complication rates. "
   ]
  },
  {
   "cell_type": "markdown",
   "metadata": {},
   "source": [
    "### Question 4 (10pt)\n",
    "Write a function that again simulates data both under the H0 and H1, using similar code as in Question 1. Then calculate the Bayes-Factor BF(H1/H0). Finally report the posterior probability of the H1, assuming the prior probability was 0.5. "
   ]
  },
  {
   "cell_type": "code",
   "execution_count": null,
   "metadata": {},
   "outputs": [],
   "source": [
    "def bayesFactor(probH0, probH1, N, t, obs, prior):\n",
    "\n",
    "    H0numHead = np.array([])\n",
    "    H1numHead = np.array([])\n",
    "\n",
    "    # Coin Tosses\n",
    "    for trial in range(0, t):\n",
    "        H0sim = np.random.choice([0,1], size = N, replace = True, p = [1-probH0, probH0]) # p is probability per element\n",
    "        H0numHead = np.append(H0numHead, np.sum(H0sim))\n",
    "        \n",
    "        H1sim = np.random.choice([0,1], size = N, replace = True, p = [1-probH1, probH1]) # p is probability per element\n",
    "        H1numHead = np.append(H1numHead, np.sum(H1sim))\n",
    "        \n",
    "#         H0numHead = np.append(H0numHead, np.random.binomial(N, probH0))\n",
    "#         H1numHead = np.append(H1numHead, np.random.binomial(N, probH1))\n",
    "      \n",
    "    # Graphs \n",
    "    ax = sns.distplot(H0numHead, color = 'r')\n",
    "    sns.distplot(H1numHead, ax = ax, color = 'b')\n",
    "    plt.axvline(x = obs, color = \"black\")\n",
    "\n",
    "    # P-Value \n",
    "    #Probability of rejecting H0 if H0 is true\n",
    "    \n",
    "    pValue = sum(H0numHead < obs)/len(H0numHead)\n",
    "    print(f\"The p-value is {pValue}\")\n",
    "    \n",
    "    if pValue <= 0.05:\n",
    "        print(\"The null hypothesis was rejected due to the low p-value\")\n",
    "    else:\n",
    "        print(\"There was not sufficient evidence found to reject the null hypothesis\")\n",
    "    \n",
    "    # Power\n",
    "    # prbability of rejectign H0 if HA is true\n",
    "    \n",
    "    power = sum(H1numHead < obs) / len(H1numHead)\n",
    "    print(f\"The power is {power}\")\n",
    "    \n",
    "    if power >= 0.80:\n",
    "        print(\"The null hypothesis was rejected due to the high p-value\")\n",
    "    else:\n",
    "        print(\"There was not sufficient evidence found to reject the null hypothesis\")\n",
    "    \n",
    "    \n",
    "    # Bayes Factor\n",
    "    # BF10 = p(Data|H1)/p(Data|H0)\n",
    "    \n",
    "    \n",
    "    # Read from the alternative distribution \n",
    "    BF1 = sum(H1numHead == obs)/len(H1numHead)\n",
    "\n",
    "    # p(observign 8 side effects given | H0)\n",
    "\n",
    "    # Read from the null distribution\n",
    "    BF0 = sum(H0numHead == obs)/len(H0numHead)\n",
    "\n",
    "    BF10 = BF1/BF0\n",
    "\n",
    "    print(f\"\\nThe bayes factor is {BF10}\")\n",
    "    \n",
    "    \n",
    "    # Prosterior Probability\n",
    "    \n",
    "    prior0 = prior\n",
    "    prior1 = 1 - prior\n",
    "    prosterior1 = (prior1*BF1)/(prior1*BF1 + prior0*BF0)\n",
    "    print(f\"The prosterior probability of the alternative hypothesis is {prosterior1}\")\n",
    "\n",
    "\n",
    "bayesFactor(probH0 = 0.1, probH1 = 0.05, N = 100, t = 2000, obs = 5, prior = 0.5)"
   ]
  },
  {
   "cell_type": "markdown",
   "metadata": {},
   "source": [
    "Figure 3. Plot of distributions of a monte carlo sim. Red is representative of the distibution under the null hypothesis with a 0.1 complication rate and blue is representative of the distribution under the alternative hypothesis with a 0.05 complication rate. Black line is at a complication rate of 5%."
   ]
  },
  {
   "cell_type": "markdown",
   "metadata": {},
   "source": [
    "### Question 5: (5pt)\n",
    "How would you interpret the BF and the posterior probability?"
   ]
  },
  {
   "cell_type": "markdown",
   "metadata": {},
   "source": [
    "The bayes factor is between the 3-20 threshold meaning there is evidence for a positive correlation (ex. 5 times more likely than the null hypothesis). The posterior probability is the revised or updated probability of an event occurring after taking into consideration new information, so the new probability that the alternative hypothesis occurs is around ~0.80."
   ]
  },
  {
   "cell_type": "markdown",
   "metadata": {},
   "source": [
    "## Task 2: The relation between smoking and premature birth (25pt)\n",
    "The data for this task come from a random sample of 150 births from the birth records in the US state of North Carolina in 2004. The data contains 50 records from mothers that self-identified as having smoked on average more than 2 cigarettes per week during the pregnancy (smokers) and 100 mothers that smoked not at all or less than 2 cigarettes per week during the pregnancy. \n",
    "\n",
    "The data frame has 150 observations with the following 9 variables:\n",
    "\n",
    "- fAge: Father’s age.\n",
    "- mAge: Mother’s age.\n",
    "- weeks:  Weeks at which the mother gave birth.\n",
    "- premature: Indicates whether the baby was premature or not.\n",
    "- visits: Number of hospital visits.\n",
    "- gained: Weight gained by mother (lbs) \n",
    "- weight: Birth weight of the baby (lbs) \n",
    "- sexBaby: Gender of the baby \n",
    "- smoke:  Whether or not the mother self-reported to be a smoker.\n",
    "\n",
    "### Question 1 (8 pt) \n",
    "Calculate and report the mean birth weight of babies born by smoking and by non-smoking moms. Generate a violinplot of birth weight, with separate violins for smokers and non-smokers. Make sure that the two violins are plotted in the same graph, so the two groups can be directly compared. Written answer: What do you observe in terms of means and median for the two groups? Is the distribution symmetric, left-skewed, or right-skewed? "
   ]
  },
  {
   "cell_type": "code",
   "execution_count": null,
   "metadata": {},
   "outputs": [],
   "source": [
    "df = pd.read_csv(\"births.csv\")\n",
    "\n",
    "fig, axes = plt.subplots(figsize = (10,5))\n",
    "sns.violinplot(data = df, y = \"weight\", x = \"smoke\", ax = axes, color = \"b\")\n",
    "\n",
    "nsMean, sMean = df[\"weight\"].groupby(df[\"smoke\"]).mean()\n",
    "axes.set_ylabel(\"Birth Wight\")\n",
    "axes.set_xlabel(\"Smoking status\")\n",
    "\n",
    "print(f\"The mean birth weight for non smokers is {nsMean} and {sMean} for smokers\")"
   ]
  },
  {
   "cell_type": "markdown",
   "metadata": {},
   "source": [
    "Figure 4. Violin plots showing the distributions of baby's birth weight when born to a mom who was a smoker or was not."
   ]
  },
  {
   "cell_type": "markdown",
   "metadata": {},
   "source": [
    "Written: The mean weight of nonsmoker babies is higher than the weight of smoker babies. The median is also very close but higher in nonsmoker babies, but there is significant overlap within the interquartile range. The distribution is left skewed. "
   ]
  },
  {
   "cell_type": "markdown",
   "metadata": {
    "collapsed": true
   },
   "source": [
    "### Question 2 (10pt)\n",
    "As a researcher, you want to test the idea that smoking during pregnancy has *some influence* on the baby's birthweight. Formulate Null- and Alternative hypothesis (using =, >, <, and unequal signs). Write a function that returns the difference of the average birth weights between babies of smoker and non-smokers. Use a randomization test to test whether (and with what Type-I error) you can reject the Null-hypothesis. Do you need to use a one-sided or two-sided test? Written answer: What is your conclusion? "
   ]
  },
  {
   "cell_type": "markdown",
   "metadata": {},
   "source": [
    "H0: weight|smoker = weight|non-smoker  \n",
    "\n",
    "\n",
    "HA: weight|smoker != weight|non-smoker"
   ]
  },
  {
   "cell_type": "code",
   "execution_count": null,
   "metadata": {},
   "outputs": [],
   "source": [
    "def meanDiff(D):\n",
    "    nsMean, sMean = D[\"weight\"].groupby(D[\"smoke\"]).mean()\n",
    "    diff = nsMean - sMean\n",
    "    return diff\n",
    "\n",
    "def permutation_test(frame, fnc, shuffle, numIter = 500, sides = 1, pBin = 25):\n",
    "    sample = np.array([])\n",
    "    \n",
    "    for i in range(0, numIter):\n",
    "        df_copy = frame.copy()\n",
    "        idx = df_copy.index\n",
    "\n",
    "        idx_arr = np.arange(0, len(idx))\n",
    "\n",
    "        np.random.shuffle(idx_arr)\n",
    "\n",
    "        shuffled_gender = df_copy[shuffle].iloc[idx_arr]\n",
    "\n",
    "        shuffled_gender_id = shuffled_gender.reset_index(drop = True)\n",
    "\n",
    "        df_copy[shuffle] = shuffled_gender_id\n",
    "\n",
    "        sample = np.append(sample, fnc(df_copy))\n",
    "        \n",
    "    fig, axes = plt.subplots(nrows = 1, ncols = 1, figsize = (20,10))\n",
    "    axes.hist(sample, bins = pBin, color = 'b')\n",
    "    plt.axvline(x = fnc(frame), color = 'r')\n",
    "    axes.set_ylabel(\"Number of Observations\")\n",
    "    axes.set_xlabel(f\"Result of test\")\n",
    "    \n",
    "    if sides == 2:\n",
    "        plt.axvline(x = -(fnc(frame)), color = 'r')\n",
    "        a = np.absolute(sample) >= fnc(frame)\n",
    "        twosided = sum(a) / len(sample)\n",
    "    \n",
    "        print(f\"The result of the two sided test is {twosided}\")\n",
    "        \n",
    "    else:\n",
    "        a = sample >= fnc(frame)\n",
    "        p = sum(a) / len(sample)\n",
    "        print(f\"The p-value is {p}\")\n",
    "    \n",
    "    return sample\n",
    "    \n",
    "twoSideData = permutation_test(df, fnc = meanDiff, shuffle = \"smoke\", numIter = 2000, sides = 2, pBin = 25)\n",
    "    "
   ]
  },
  {
   "cell_type": "markdown",
   "metadata": {},
   "source": [
    "Figure 5. Histogram of randomization test results after shuffling the smoker status. Red lines are the difference in the original data set."
   ]
  },
  {
   "cell_type": "markdown",
   "metadata": {},
   "source": [
    "Written: The result of the 2 sided test is greater than 0.05 and therefore there is not sufficient evidence to reject the null hypothesis. There is a greater than 5% chance to produce a type 1 error. A two-sided test was used because the hypothesis is not looking for a greater or less than conclusion but rather that there is some sort of differnce in either direction."
   ]
  },
  {
   "cell_type": "markdown",
   "metadata": {},
   "source": [
    "### Question 3 (7 pt)\n",
    "You want to test the directed hypothesis that smoking is associated with a lower birth weight. Again, formulate Null and Alternative hypothesis. Use again a randomization test to see if you have evidence to reject the Null. Written answer: what is your conclusion? "
   ]
  },
  {
   "cell_type": "markdown",
   "metadata": {},
   "source": [
    "Null Hypothesis: Birthweight (smoker) >= Birthweight (non-smoker)  \n",
    "\n",
    "Alt. Hypothesis: Birthweight (smoker) < Birthweight (non-smoker)"
   ]
  },
  {
   "cell_type": "code",
   "execution_count": null,
   "metadata": {},
   "outputs": [],
   "source": [
    "oneSideData = permutation_test(df, fnc = meanDiff, shuffle = \"smoke\", numIter = 2000, sides = 1, pBin = 25)"
   ]
  },
  {
   "cell_type": "markdown",
   "metadata": {},
   "source": [
    "Figure 6. Histogram of randomization test results after shuffling the smoker status. Red line is the difference in the original data set. "
   ]
  },
  {
   "cell_type": "markdown",
   "metadata": {},
   "source": [
    "Written: The result of the one sided test is less than 0.05 and therefore there is enough evidence to reject the null hypothesis that the difference in weight is greater to none in smokers than in non smokers. "
   ]
  },
  {
   "cell_type": "markdown",
   "metadata": {},
   "source": [
    "## Task 3: Bayesian hypothesis test of smoke-related reduction in birth weight. (35pt)\n",
    "### Question 1 (10pt)\n",
    "Determine and report the approximate standard deviation of the mean difference in birth weight under the Null hypothesis (birth weights for smokers and non-smokers are equal) directly from the samples of the randomization test performed in Question 2 and 3. "
   ]
  },
  {
   "cell_type": "code",
   "execution_count": null,
   "metadata": {},
   "outputs": [],
   "source": [
    "oneSTD = oneSideData.std()\n",
    "print(f\"The standard deviation of the mean difference in birthweight for the one sided test is {oneSTD:.6f}\")\n",
    "twoSTD = twoSideData.std()\n",
    "print(f\"The standard deviation of the mean difference in birthweight for the two sided test is {twoSTD:.6f}\")"
   ]
  },
  {
   "cell_type": "markdown",
   "metadata": {},
   "source": [
    "### Question 2 (10pt)\n",
    "An average drop of birthweight of 0.5lbs is considered to be clinically significant risk. Use a Bayesian hypothesis test to determine how strong the evidence is that smoking is associated with a clinically significant reduction in birth weight. Based on the standard deviation of the mean difference from the randomization test in Task 2, you decide that it is appropriate to use a normal approximation for the average weight difference, both under the H1 and H0. Further, assume the standard error of the mean difference of 0.25 both for the H1 and the H0. Calculate the probability density for the real mean difference under H1 and H0. Then calculate and report the Bayes Factor of the H1 over the H0. What can you conclude from this result?  "
   ]
  },
  {
   "cell_type": "code",
   "execution_count": null,
   "metadata": {},
   "outputs": [],
   "source": [
    "p0 = ss.norm.pdf(meanDiff(df), 0, twoSTD)\n",
    "\n",
    "p1 = ss.norm.pdf(meanDiff(df), 0.25, twoSTD)\n",
    "\n",
    "# Calculate BF10\n",
    "BF10 = p1/p0\n",
    "print(BF10)"
   ]
  },
  {
   "cell_type": "markdown",
   "metadata": {},
   "source": [
    "Wrtitten: The bayes factor is between 3-20 which means there is positive evidence for it. A 3:1 betting ratio in favour of the alternative hypothesis would be appropriate. "
   ]
  },
  {
   "cell_type": "markdown",
   "metadata": {},
   "source": [
    "### Question 3 (7pt)\n",
    "What is the posterior probability of the H1, assuming that a-priori you had the belief that there was a 70% chance that smoking may reduce the birth weight by 0.5lb.  Use the results from task 3 question 2. Show clearly the formula used to calculate the posterior probability. Written answer: What is the meaning of this posterior probability? How does the meaning differ from the p-value calculated under Task 2, Question 3? "
   ]
  },
  {
   "cell_type": "code",
   "execution_count": null,
   "metadata": {},
   "outputs": [],
   "source": [
    "prior0 = 0.7\n",
    "prior1 = 1 - 0.7\n",
    "posterior1 = (prior1*p1)/(prior1*p1 + prior0*p0)\n",
    "print(f\"The posterior probability is {posterior1:.6f}\")"
   ]
  },
  {
   "cell_type": "markdown",
   "metadata": {},
   "source": [
    "Written: The posterior probability is the revised probabilty which is around ~60%. The p-value in task 2 question 3 being less than 0.05, meant that the null hypothesis that there was no change in birthweight was rejected. One of the big difference in posterior probability is that it takes into account an initial level of belief, whereas p-value is a statement about the probability of observing particular data."
   ]
  },
  {
   "cell_type": "markdown",
   "metadata": {},
   "source": [
    "### Question 4 (8pt)\n",
    "A news outlet picks up your result, saying that \"the study shows that smoking among US women causes an average decrease in birth weight of 0.4lbs.\" Can you draw this conclusion from the data? What are two possible problems with such claim?"
   ]
  },
  {
   "cell_type": "markdown",
   "metadata": {},
   "source": [
    "This is not the conclusion I would draw from the data. The 0.4 difference that is being claimed comes purely from the difference in mean weight values (7.1882 and 6.7166), not from actual statistical evidence. The results of the two tailed test showed that there was not enough statistical evidence to reject the null hypothesis that there is no difference. The bayes factor however is within the 3-20 threshold meaning there is positive evidence for it, but it is still not very strong. The posterior probabily would also suggest there is less than 70% chance that smoking reduces birth weigth by 0.5lbs. The various tests performed provides conflicting ideas of the actual results that can be drawn, as a result of this I would say the evidence is not strong enough for any claim to be made based on this data."
   ]
  }
 ],
 "metadata": {
  "kernelspec": {
   "display_name": "Python 3 (ipykernel)",
   "language": "python",
   "name": "python3"
  },
  "language_info": {
   "codemirror_mode": {
    "name": "ipython",
    "version": 3
   },
   "file_extension": ".py",
   "mimetype": "text/x-python",
   "name": "python",
   "nbconvert_exporter": "python",
   "pygments_lexer": "ipython3",
   "version": "3.9.13"
  },
  "vscode": {
   "interpreter": {
    "hash": "1e1417e18487dc7627e5d5ffa5beac156810dded1e7bdb82ab225f30c3e5be62"
   }
  }
 },
 "nbformat": 4,
 "nbformat_minor": 1
}
